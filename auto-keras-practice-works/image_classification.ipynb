{
  "nbformat": 4,
  "nbformat_minor": 0,
  "metadata": {
    "colab": {
      "name": "image_classification",
      "provenance": [],
      "collapsed_sections": [],
      "toc_visible": true,
      "include_colab_link": true
    },
    "kernelspec": {
      "display_name": "Python 3",
      "language": "python",
      "name": "python3"
    },
    "language_info": {
      "codemirror_mode": {
        "name": "ipython",
        "version": 3
      },
      "file_extension": ".py",
      "mimetype": "text/x-python",
      "name": "python",
      "nbconvert_exporter": "python",
      "pygments_lexer": "ipython3",
      "version": "3.7.0"
    }
  },
  "cells": [
    {
      "cell_type": "markdown",
      "metadata": {
        "id": "view-in-github",
        "colab_type": "text"
      },
      "source": [
        "<a href=\"https://colab.research.google.com/github/rahiakela/automl-experiments/blob/main/auto-keras-practice-works/image_classification.ipynb\" target=\"_parent\"><img src=\"https://colab.research.google.com/assets/colab-badge.svg\" alt=\"Open In Colab\"/></a>"
      ]
    },
    {
      "cell_type": "code",
      "metadata": {
        "id": "fveiikht4kcj"
      },
      "source": [
        "!pip install autokeras"
      ],
      "execution_count": null,
      "outputs": []
    },
    {
      "cell_type": "code",
      "metadata": {
        "id": "7heMMooc4kcs"
      },
      "source": [
        "import numpy as np\n",
        "import tensorflow as tf\n",
        "from tensorflow.keras.datasets import mnist\n",
        "\n",
        "import autokeras as ak\n"
      ],
      "execution_count": 2,
      "outputs": []
    },
    {
      "cell_type": "markdown",
      "metadata": {
        "id": "oJ-qGnTI4kcv"
      },
      "source": [
        "## A Simple Example\n"
      ]
    },
    {
      "cell_type": "markdown",
      "metadata": {
        "id": "2xxkJck08WJt"
      },
      "source": [
        "The first step is to prepare your data. Here we use the MNIST dataset as an example."
      ]
    },
    {
      "cell_type": "code",
      "metadata": {
        "id": "OxGI7ZZI4kcy",
        "outputId": "0f61267c-72fa-4997-d12a-7b6c14ff4965",
        "colab": {
          "base_uri": "https://localhost:8080/"
        }
      },
      "source": [
        "(x_train, y_train), (x_test, y_test) = mnist.load_data()\n",
        "print(x_train.shape)  # (60000, 28, 28)\n",
        "print(y_train.shape)  # (60000,)\n",
        "print(y_train[:3])  # array([7, 2, 1], dtype=uint8)"
      ],
      "execution_count": 3,
      "outputs": [
        {
          "output_type": "stream",
          "name": "stdout",
          "text": [
            "Downloading data from https://storage.googleapis.com/tensorflow/tf-keras-datasets/mnist.npz\n",
            "11493376/11490434 [==============================] - 0s 0us/step\n",
            "(60000, 28, 28)\n",
            "(60000,)\n",
            "[5 0 4]\n"
          ]
        }
      ]
    },
    {
      "cell_type": "markdown",
      "metadata": {
        "id": "_-B_ebTb4kc0"
      },
      "source": [
        "The second step is to run the ImageClassifier.\n",
        "It is recommended have more trials for more complicated datasets.\n",
        "This is just a quick demo of MNIST, so we set max_trials to 1.\n",
        "For the same reason, we set epochs to 10.\n",
        "You can also leave the epochs unspecified for an adaptive number of epochs.\n"
      ]
    },
    {
      "cell_type": "code",
      "metadata": {
        "id": "jIkgSetJ4kc1",
        "outputId": "9d5fd1f2-d34a-421f-ea3e-f553ab40a07f",
        "colab": {
          "base_uri": "https://localhost:8080/"
        }
      },
      "source": [
        "# Initialize the image classifier.\n",
        "clf = ak.ImageClassifier(overwrite=True, max_trials=1)\n",
        "# Feed the image classifier with training data.\n",
        "clf.fit(x_train, y_train, epochs=10)\n",
        "\n",
        "# Predict with the best model.\n",
        "predicted_y = clf.predict(x_test)\n",
        "print(predicted_y)\n",
        "\n",
        "# Evaluate the best model with testing data.\n",
        "print(clf.evaluate(x_test, y_test))"
      ],
      "execution_count": 4,
      "outputs": [
        {
          "output_type": "stream",
          "name": "stdout",
          "text": [
            "Trial 1 Complete [00h 23m 01s]\n",
            "val_loss: 0.04286345839500427\n",
            "\n",
            "Best val_loss So Far: 0.04286345839500427\n",
            "Total elapsed time: 00h 23m 01s\n",
            "INFO:tensorflow:Oracle triggered exit\n",
            "Epoch 1/10\n",
            "1875/1875 [==============================] - 170s 90ms/step - loss: 0.1569 - accuracy: 0.9507\n",
            "Epoch 2/10\n",
            "1875/1875 [==============================] - 164s 88ms/step - loss: 0.0738 - accuracy: 0.9770\n",
            "Epoch 3/10\n",
            "1875/1875 [==============================] - 166s 89ms/step - loss: 0.0597 - accuracy: 0.9811\n",
            "Epoch 4/10\n",
            "1875/1875 [==============================] - 171s 91ms/step - loss: 0.0518 - accuracy: 0.9833\n",
            "Epoch 5/10\n",
            "1875/1875 [==============================] - 169s 90ms/step - loss: 0.0466 - accuracy: 0.9848\n",
            "Epoch 6/10\n",
            "1875/1875 [==============================] - 169s 90ms/step - loss: 0.0410 - accuracy: 0.9870\n",
            "Epoch 7/10\n",
            "1875/1875 [==============================] - 168s 90ms/step - loss: 0.0367 - accuracy: 0.9880\n",
            "Epoch 8/10\n",
            "1875/1875 [==============================] - 171s 91ms/step - loss: 0.0340 - accuracy: 0.9887\n",
            "Epoch 9/10\n",
            "1875/1875 [==============================] - 173s 92ms/step - loss: 0.0315 - accuracy: 0.9900\n",
            "Epoch 10/10\n",
            "1875/1875 [==============================] - 170s 91ms/step - loss: 0.0310 - accuracy: 0.9901\n",
            "INFO:tensorflow:Assets written to: ./image_classifier/best_model/assets\n",
            "313/313 [==============================] - 8s 25ms/step\n",
            "[['7']\n",
            " ['2']\n",
            " ['1']\n",
            " ...\n",
            " ['4']\n",
            " ['5']\n",
            " ['6']]\n",
            "313/313 [==============================] - 9s 28ms/step - loss: 0.0316 - accuracy: 0.9908\n",
            "[0.03163468465209007, 0.9908000230789185]\n"
          ]
        }
      ]
    },
    {
      "cell_type": "markdown",
      "metadata": {
        "id": "66juYhZ84kc3"
      },
      "source": [
        "## Validation Data\n"
      ]
    },
    {
      "cell_type": "markdown",
      "metadata": {
        "id": "6-ccU5cc8aJG"
      },
      "source": [
        "By default, AutoKeras use the last 20% of training data as validation data. As\n",
        "shown in the example below, you can use validation_split to specify the\n",
        "percentage."
      ]
    },
    {
      "cell_type": "code",
      "metadata": {
        "id": "i3uDhc9T4kc5"
      },
      "source": [
        "clf.fit(\n",
        "    x_train,\n",
        "    y_train,\n",
        "    # Split the training data and use the last 15% as validation data.\n",
        "    validation_split=0.15,\n",
        "    epochs=10,\n",
        ")"
      ],
      "execution_count": 5,
      "outputs": []
    },
    {
      "cell_type": "markdown",
      "metadata": {
        "id": "5SnJVvTk4kc7"
      },
      "source": [
        "You can also use your own validation set instead of splitting it from the\n",
        "training data with validation_data.\n"
      ]
    },
    {
      "cell_type": "code",
      "metadata": {
        "id": "-ooGIqBO4kc9"
      },
      "source": [
        "split = 50000\n",
        "x_val = x_train[split:]\n",
        "y_val = y_train[split:]\n",
        "x_train = x_train[:split]\n",
        "y_train = y_train[:split]\n",
        "clf.fit(\n",
        "    x_train,\n",
        "    y_train,\n",
        "    # Use your own validation set.\n",
        "    validation_data=(x_val, y_val),\n",
        "    epochs=10,\n",
        ")"
      ],
      "execution_count": 6,
      "outputs": []
    },
    {
      "cell_type": "markdown",
      "metadata": {
        "id": "zTH48Iki4kc-"
      },
      "source": [
        "## Customized Search Space\n"
      ]
    },
    {
      "cell_type": "markdown",
      "metadata": {
        "id": "V6LCH0sx8dI7"
      },
      "source": [
        "For advanced users, you may customize your search space by using AutoModel\n",
        "instead of ImageClassifier. You can configure the ImageBlock for some\n",
        "high-level configurations, e.g., block_type for the type of neural network to\n",
        "search, normalize for whether to do data normalization, augment for whether to\n",
        "do data augmentation. You can also do not specify these arguments, which would\n",
        "leave the different choices to be tuned automatically. See the following\n",
        "example for detail."
      ]
    },
    {
      "cell_type": "code",
      "metadata": {
        "id": "jasbIFhD4kc_",
        "outputId": "f97f24f7-26df-4b02-cfb7-c09ae07c1d55",
        "colab": {
          "base_uri": "https://localhost:8080/"
        }
      },
      "source": [
        "input_node = ak.ImageInput()\n",
        "output_node = ak.ImageBlock(\n",
        "    # Only search ResNet architectures.\n",
        "    block_type=\"resnet\",\n",
        "    # Normalize the dataset.\n",
        "    normalize=True,\n",
        "    # Do not do data augmentation.\n",
        "    augment=False,\n",
        ")(input_node)\n",
        "output_node = ak.ClassificationHead()(output_node)\n",
        "\n",
        "clf = ak.AutoModel(\n",
        "    inputs=input_node, outputs=output_node, overwrite=True, max_trials=1\n",
        ")\n",
        "\n",
        "clf.fit(x_train, y_train, epochs=10)"
      ],
      "execution_count": 7,
      "outputs": [
        {
          "output_type": "stream",
          "name": "stdout",
          "text": [
            "Trial 1 Complete [00h 37m 27s]\n",
            "val_loss: 0.1857837438583374\n",
            "\n",
            "Best val_loss So Far: 0.1857837438583374\n",
            "Total elapsed time: 00h 37m 27s\n",
            "INFO:tensorflow:Oracle triggered exit\n",
            "Epoch 1/10\n",
            "1563/1563 [==============================] - 212s 134ms/step - loss: 0.4433 - accuracy: 0.8677\n",
            "Epoch 2/10\n",
            "1563/1563 [==============================] - 209s 134ms/step - loss: 0.2443 - accuracy: 0.9261\n",
            "Epoch 3/10\n",
            "1563/1563 [==============================] - 209s 133ms/step - loss: 0.2039 - accuracy: 0.9372\n",
            "Epoch 4/10\n",
            "1563/1563 [==============================] - 209s 134ms/step - loss: 0.1824 - accuracy: 0.9437\n",
            "Epoch 5/10\n",
            "1563/1563 [==============================] - 209s 134ms/step - loss: 0.1684 - accuracy: 0.9480\n",
            "Epoch 6/10\n",
            "1563/1563 [==============================] - 209s 134ms/step - loss: 0.1582 - accuracy: 0.9508\n",
            "Epoch 7/10\n",
            "1563/1563 [==============================] - 208s 133ms/step - loss: 0.1503 - accuracy: 0.9531\n",
            "Epoch 8/10\n",
            "1563/1563 [==============================] - 209s 134ms/step - loss: 0.1440 - accuracy: 0.9550\n",
            "Epoch 9/10\n",
            "1563/1563 [==============================] - 211s 135ms/step - loss: 0.1387 - accuracy: 0.9565\n",
            "Epoch 10/10\n",
            "1563/1563 [==============================] - 209s 134ms/step - loss: 0.1342 - accuracy: 0.9576\n"
          ]
        },
        {
          "output_type": "stream",
          "name": "stderr",
          "text": [
            "/usr/local/lib/python3.7/dist-packages/tensorflow/python/keras/utils/generic_utils.py:497: CustomMaskWarning: Custom mask layers require a config and must override get_config. When loading, the custom mask layer must be passed to the custom_objects argument.\n",
            "  category=CustomMaskWarning)\n"
          ]
        },
        {
          "output_type": "stream",
          "name": "stdout",
          "text": [
            "INFO:tensorflow:Assets written to: ./auto_model/best_model/assets\n"
          ]
        },
        {
          "output_type": "execute_result",
          "data": {
            "text/plain": [
              "<tensorflow.python.keras.callbacks.History at 0x7fcd15f3f8d0>"
            ]
          },
          "metadata": {},
          "execution_count": 7
        }
      ]
    },
    {
      "cell_type": "markdown",
      "metadata": {
        "id": "LTrCEUHC4kdB"
      },
      "source": [
        "The usage of AutoModel is similar to the functional API of Keras. Basically, you are\n",
        "building a graph, whose edges are blocks and the nodes are intermediate outputs of\n",
        "blocks. To add an edge from input_node to output_node with output_node =\n",
        "ak.[some_block]([block_args])(input_node).\n",
        "\n",
        "You can even also use more fine grained blocks to customize the search space even\n",
        "further. See the following example.\n"
      ]
    },
    {
      "cell_type": "code",
      "metadata": {
        "id": "1VsePRbm4kdD"
      },
      "source": [
        "input_node = ak.ImageInput()\n",
        "\n",
        "output_node = ak.Normalization()(input_node)\n",
        "output_node = ak.ImageAugmentation(horizontal_flip=False)(output_node)\n",
        "output_node = ak.ResNetBlock(version=\"v2\")(output_node)\n",
        "output_node = ak.ClassificationHead()(output_node)\n",
        "\n",
        "clf = ak.AutoModel(\n",
        "    inputs=input_node, outputs=output_node, overwrite=True, max_trials=1\n",
        ")\n",
        "\n",
        "clf.fit(x_train, y_train, epochs=10)"
      ],
      "execution_count": null,
      "outputs": []
    },
    {
      "cell_type": "markdown",
      "metadata": {
        "id": "HqcNupdj4kdE"
      },
      "source": [
        "## Data Format\n"
      ]
    },
    {
      "cell_type": "markdown",
      "metadata": {
        "id": "4ZSJISJ073JH"
      },
      "source": [
        "The AutoKeras ImageClassifier is quite flexible for the data format.\n",
        "\n",
        "For the image, it accepts data formats both with and without the channel\n",
        "dimension. The images in the MNIST dataset do not have the channel dimension.\n",
        "Each image is a matrix with shape (28, 28). AutoKeras also accepts images of\n",
        "three dimensions with the channel dimension at last, e.g., (32, 32, 3), (28,\n",
        "28, 1).\n",
        "\n",
        "For the classification labels, AutoKeras accepts both plain labels, i.e.\n",
        "strings or integers, and one-hot encoded encoded labels, i.e. vectors of 0s and\n",
        "1s.\n",
        "\n",
        "So if you prepare your data in the following way, the ImageClassifier should\n",
        "still work."
      ]
    },
    {
      "cell_type": "code",
      "metadata": {
        "id": "CHPDNUt_4kdF",
        "outputId": "64b20f92-fb85-4ffc-9aa5-85a283509bc3",
        "colab": {
          "base_uri": "https://localhost:8080/"
        }
      },
      "source": [
        "(x_train, y_train), (x_test, y_test) = mnist.load_data()\n",
        "\n",
        "# Reshape the images to have the channel dimension.\n",
        "x_train = x_train.reshape(x_train.shape + (1,))\n",
        "x_test = x_test.reshape(x_test.shape + (1,))\n",
        "\n",
        "# One-hot encode the labels.\n",
        "eye = np.eye(10)\n",
        "y_train = eye[y_train]\n",
        "y_test = eye[y_test]\n",
        "\n",
        "print(x_train.shape)  # (60000, 28, 28, 1)\n",
        "print(y_train.shape)  # (60000, 10)\n",
        "print(y_train[:3])\n",
        "# array([[0., 0., 0., 0., 0., 1., 0., 0., 0., 0.],\n",
        "#        [1., 0., 0., 0., 0., 0., 0., 0., 0., 0.],\n",
        "#        [0., 0., 0., 0., 1., 0., 0., 0., 0., 0.]])"
      ],
      "execution_count": 8,
      "outputs": [
        {
          "output_type": "stream",
          "name": "stdout",
          "text": [
            "(60000, 28, 28, 1)\n",
            "(60000, 10)\n",
            "[[0. 0. 0. 0. 0. 1. 0. 0. 0. 0.]\n",
            " [1. 0. 0. 0. 0. 0. 0. 0. 0. 0.]\n",
            " [0. 0. 0. 0. 1. 0. 0. 0. 0. 0.]]\n"
          ]
        }
      ]
    },
    {
      "cell_type": "markdown",
      "metadata": {
        "id": "zI4DhVJi4kdG"
      },
      "source": [
        "We also support using tf.data.Dataset format for the training data.\n"
      ]
    },
    {
      "cell_type": "code",
      "metadata": {
        "id": "l9ijIRo74kdH",
        "outputId": "cc7d2b45-f9a4-4df9-cce6-4c5f479d515b",
        "colab": {
          "base_uri": "https://localhost:8080/"
        }
      },
      "source": [
        "train_set = tf.data.Dataset.from_tensor_slices(((x_train,), (y_train,)))\n",
        "test_set = tf.data.Dataset.from_tensor_slices(((x_test,), (y_test,)))\n",
        "\n",
        "clf = ak.ImageClassifier(overwrite=True, max_trials=1)\n",
        "# Feed the tensorflow Dataset to the classifier.\n",
        "clf.fit(train_set, epochs=10)\n",
        "# Predict with the best model.\n",
        "predicted_y = clf.predict(test_set)\n",
        "# Evaluate the best model with testing data.\n",
        "print(clf.evaluate(test_set))"
      ],
      "execution_count": 9,
      "outputs": [
        {
          "output_type": "stream",
          "name": "stdout",
          "text": [
            "Trial 1 Complete [00h 23m 39s]\n",
            "val_loss: 0.03826114907860756\n",
            "\n",
            "Best val_loss So Far: 0.03826114907860756\n",
            "Total elapsed time: 00h 23m 39s\n",
            "INFO:tensorflow:Oracle triggered exit\n",
            "Epoch 1/10\n",
            "1875/1875 [==============================] - 178s 94ms/step - loss: 0.1629 - accuracy: 0.9510\n",
            "Epoch 2/10\n",
            "1875/1875 [==============================] - 177s 94ms/step - loss: 0.0753 - accuracy: 0.9768\n",
            "Epoch 3/10\n",
            "1875/1875 [==============================] - 177s 94ms/step - loss: 0.0592 - accuracy: 0.9814\n",
            "Epoch 4/10\n",
            "1875/1875 [==============================] - 177s 94ms/step - loss: 0.0520 - accuracy: 0.9836\n",
            "Epoch 5/10\n",
            "1875/1875 [==============================] - 177s 94ms/step - loss: 0.0450 - accuracy: 0.9859\n",
            "Epoch 6/10\n",
            "1875/1875 [==============================] - 177s 94ms/step - loss: 0.0399 - accuracy: 0.9876\n",
            "Epoch 7/10\n",
            "1875/1875 [==============================] - 177s 94ms/step - loss: 0.0354 - accuracy: 0.9886\n",
            "Epoch 8/10\n",
            "1875/1875 [==============================] - 176s 94ms/step - loss: 0.0341 - accuracy: 0.9892\n",
            "Epoch 9/10\n",
            "1875/1875 [==============================] - 177s 94ms/step - loss: 0.0314 - accuracy: 0.9900\n",
            "Epoch 10/10\n",
            "1875/1875 [==============================] - 177s 94ms/step - loss: 0.0309 - accuracy: 0.9894\n",
            "INFO:tensorflow:Assets written to: ./image_classifier/best_model/assets\n",
            "313/313 [==============================] - 9s 30ms/step\n",
            "313/313 [==============================] - 10s 30ms/step - loss: 0.0359 - accuracy: 0.9886\n",
            "[0.0358985960483551, 0.9886000156402588]\n"
          ]
        }
      ]
    },
    {
      "cell_type": "markdown",
      "metadata": {
        "id": "t8E685Mr4kdI"
      },
      "source": [
        "## Reference\n",
        "[ImageClassifier](/image_classifier),\n",
        "[AutoModel](/auto_model/#automodel-class),\n",
        "[ImageBlock](/block/#imageblock-class),\n",
        "[Normalization](/block/#normalization-class),\n",
        "[ImageAugmentation](/block/#image-augmentation-class),\n",
        "[ResNetBlock](/block/#resnetblock-class),\n",
        "[ImageInput](/node/#imageinput-class),\n",
        "[ClassificationHead](/block/#classificationhead-class).\n"
      ]
    }
  ]
}