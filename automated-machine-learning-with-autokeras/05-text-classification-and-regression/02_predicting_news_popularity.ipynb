{
  "nbformat": 4,
  "nbformat_minor": 0,
  "metadata": {
    "colab": {
      "name": "02-predicting-news-popularity.ipynb",
      "provenance": [],
      "toc_visible": true,
      "authorship_tag": "ABX9TyN77iX1NwJTQi0C9tYS/cpl",
      "include_colab_link": true
    },
    "kernelspec": {
      "name": "python3",
      "display_name": "Python 3"
    },
    "language_info": {
      "name": "python"
    }
  },
  "cells": [
    {
      "cell_type": "markdown",
      "metadata": {
        "id": "view-in-github",
        "colab_type": "text"
      },
      "source": [
        "<a href=\"https://colab.research.google.com/github/rahiakela/automl-experiments/blob/main/automated-machine-learning-with-autokeras/05-text-classification-and-regression/02_predicting_news_popularity.ipynb\" target=\"_parent\"><img src=\"https://colab.research.google.com/assets/colab-badge.svg\" alt=\"Open In Colab\"/></a>"
      ]
    },
    {
      "cell_type": "markdown",
      "source": [
        "##Predicting news popularity in social media"
      ],
      "metadata": {
        "id": "mLVvZCNihywy"
      }
    },
    {
      "cell_type": "markdown",
      "source": [
        "In this notebook, we will create a model that will find out the popularity\n",
        "score for an article on social media platforms, based on its text. For this,\n",
        "we will train the model with a [News Popularity dataset collected between\n",
        "2015 and 2016](https://archive.ics.uci.edu/ml/datasets/News+Popularity+in+Multiple+Social+Media+Platforms).\n",
        "\n",
        "As we want to approximate a score (number of likes), we will use a text regressor for\n",
        "this task."
      ],
      "metadata": {
        "id": "YiEukQhDh77H"
      }
    },
    {
      "cell_type": "markdown",
      "source": [
        "##Setup"
      ],
      "metadata": {
        "id": "iksA3EP0h-PB"
      }
    },
    {
      "cell_type": "code",
      "source": [
        "!pip3 -q install autokeras"
      ],
      "metadata": {
        "id": "3TVmx9qwh_UO"
      },
      "execution_count": null,
      "outputs": []
    },
    {
      "cell_type": "code",
      "source": [
        "import tensorflow as tf\n",
        "from tensorflow.keras.utils import plot_model\n",
        "\n",
        "import pandas as pd \n",
        "import numpy as np\n",
        "import autokeras as ak\n",
        "from sklearn import model_selection\n",
        "from sklearn.model_selection import train_test_split"
      ],
      "metadata": {
        "id": "4jWaCfQRiFFn"
      },
      "execution_count": 1,
      "outputs": []
    },
    {
      "cell_type": "markdown",
      "source": [
        "##Preparing  dataset"
      ],
      "metadata": {
        "id": "zGlfzp6HjfyB"
      }
    },
    {
      "cell_type": "markdown",
      "source": [
        "First, we load and preprocess the emails spam dataset from\n",
        "our GitHub repository."
      ],
      "metadata": {
        "id": "gVuxnSJ-jhd3"
      }
    },
    {
      "cell_type": "code",
      "source": [
        "news_df = pd.read_csv(\"https://archive.ics.uci.edu/ml/machine-learning-databases/00432/Data/News_Final.csv\")"
      ],
      "metadata": {
        "id": "MZmvskhSjkw4"
      },
      "execution_count": 2,
      "outputs": []
    },
    {
      "cell_type": "code",
      "source": [
        "news_df.head()"
      ],
      "metadata": {
        "colab": {
          "base_uri": "https://localhost:8080/",
          "height": 721
        },
        "id": "YuDrbfccj_lD",
        "outputId": "bd42b1fb-dd79-41da-a428-4d20d79d5f35"
      },
      "execution_count": 3,
      "outputs": [
        {
          "output_type": "execute_result",
          "data": {
            "text/html": [
              "\n",
              "  <div id=\"df-02ae1491-f413-423f-a3dc-5a274958f52b\">\n",
              "    <div class=\"colab-df-container\">\n",
              "      <div>\n",
              "<style scoped>\n",
              "    .dataframe tbody tr th:only-of-type {\n",
              "        vertical-align: middle;\n",
              "    }\n",
              "\n",
              "    .dataframe tbody tr th {\n",
              "        vertical-align: top;\n",
              "    }\n",
              "\n",
              "    .dataframe thead th {\n",
              "        text-align: right;\n",
              "    }\n",
              "</style>\n",
              "<table border=\"1\" class=\"dataframe\">\n",
              "  <thead>\n",
              "    <tr style=\"text-align: right;\">\n",
              "      <th></th>\n",
              "      <th>IDLink</th>\n",
              "      <th>Title</th>\n",
              "      <th>Headline</th>\n",
              "      <th>Source</th>\n",
              "      <th>Topic</th>\n",
              "      <th>PublishDate</th>\n",
              "      <th>SentimentTitle</th>\n",
              "      <th>SentimentHeadline</th>\n",
              "      <th>Facebook</th>\n",
              "      <th>GooglePlus</th>\n",
              "      <th>LinkedIn</th>\n",
              "    </tr>\n",
              "  </thead>\n",
              "  <tbody>\n",
              "    <tr>\n",
              "      <th>0</th>\n",
              "      <td>99248.0</td>\n",
              "      <td>Obama Lays Wreath at Arlington National Cemetery</td>\n",
              "      <td>Obama Lays Wreath at Arlington National Cemete...</td>\n",
              "      <td>USA TODAY</td>\n",
              "      <td>obama</td>\n",
              "      <td>2002-04-02 00:00:00</td>\n",
              "      <td>0.000000</td>\n",
              "      <td>-0.053300</td>\n",
              "      <td>-1</td>\n",
              "      <td>-1</td>\n",
              "      <td>-1</td>\n",
              "    </tr>\n",
              "    <tr>\n",
              "      <th>1</th>\n",
              "      <td>10423.0</td>\n",
              "      <td>A Look at the Health of the Chinese Economy</td>\n",
              "      <td>Tim Haywood, investment director business-unit...</td>\n",
              "      <td>Bloomberg</td>\n",
              "      <td>economy</td>\n",
              "      <td>2008-09-20 00:00:00</td>\n",
              "      <td>0.208333</td>\n",
              "      <td>-0.156386</td>\n",
              "      <td>-1</td>\n",
              "      <td>-1</td>\n",
              "      <td>-1</td>\n",
              "    </tr>\n",
              "    <tr>\n",
              "      <th>2</th>\n",
              "      <td>18828.0</td>\n",
              "      <td>Nouriel Roubini: Global Economy Not Back to 2008</td>\n",
              "      <td>Nouriel Roubini, NYU professor and chairman at...</td>\n",
              "      <td>Bloomberg</td>\n",
              "      <td>economy</td>\n",
              "      <td>2012-01-28 00:00:00</td>\n",
              "      <td>-0.425210</td>\n",
              "      <td>0.139754</td>\n",
              "      <td>-1</td>\n",
              "      <td>-1</td>\n",
              "      <td>-1</td>\n",
              "    </tr>\n",
              "    <tr>\n",
              "      <th>3</th>\n",
              "      <td>27788.0</td>\n",
              "      <td>Finland GDP Expands In Q4</td>\n",
              "      <td>Finland's economy expanded marginally in the t...</td>\n",
              "      <td>RTT News</td>\n",
              "      <td>economy</td>\n",
              "      <td>2015-03-01 00:06:00</td>\n",
              "      <td>0.000000</td>\n",
              "      <td>0.026064</td>\n",
              "      <td>-1</td>\n",
              "      <td>-1</td>\n",
              "      <td>-1</td>\n",
              "    </tr>\n",
              "    <tr>\n",
              "      <th>4</th>\n",
              "      <td>27789.0</td>\n",
              "      <td>Tourism, govt spending buoys Thai economy in J...</td>\n",
              "      <td>Tourism and public spending continued to boost...</td>\n",
              "      <td>The Nation - Thailand&amp;#39;s English news</td>\n",
              "      <td>economy</td>\n",
              "      <td>2015-03-01 00:11:00</td>\n",
              "      <td>0.000000</td>\n",
              "      <td>0.141084</td>\n",
              "      <td>-1</td>\n",
              "      <td>-1</td>\n",
              "      <td>-1</td>\n",
              "    </tr>\n",
              "  </tbody>\n",
              "</table>\n",
              "</div>\n",
              "      <button class=\"colab-df-convert\" onclick=\"convertToInteractive('df-02ae1491-f413-423f-a3dc-5a274958f52b')\"\n",
              "              title=\"Convert this dataframe to an interactive table.\"\n",
              "              style=\"display:none;\">\n",
              "        \n",
              "  <svg xmlns=\"http://www.w3.org/2000/svg\" height=\"24px\"viewBox=\"0 0 24 24\"\n",
              "       width=\"24px\">\n",
              "    <path d=\"M0 0h24v24H0V0z\" fill=\"none\"/>\n",
              "    <path d=\"M18.56 5.44l.94 2.06.94-2.06 2.06-.94-2.06-.94-.94-2.06-.94 2.06-2.06.94zm-11 1L8.5 8.5l.94-2.06 2.06-.94-2.06-.94L8.5 2.5l-.94 2.06-2.06.94zm10 10l.94 2.06.94-2.06 2.06-.94-2.06-.94-.94-2.06-.94 2.06-2.06.94z\"/><path d=\"M17.41 7.96l-1.37-1.37c-.4-.4-.92-.59-1.43-.59-.52 0-1.04.2-1.43.59L10.3 9.45l-7.72 7.72c-.78.78-.78 2.05 0 2.83L4 21.41c.39.39.9.59 1.41.59.51 0 1.02-.2 1.41-.59l7.78-7.78 2.81-2.81c.8-.78.8-2.07 0-2.86zM5.41 20L4 18.59l7.72-7.72 1.47 1.35L5.41 20z\"/>\n",
              "  </svg>\n",
              "      </button>\n",
              "      \n",
              "  <style>\n",
              "    .colab-df-container {\n",
              "      display:flex;\n",
              "      flex-wrap:wrap;\n",
              "      gap: 12px;\n",
              "    }\n",
              "\n",
              "    .colab-df-convert {\n",
              "      background-color: #E8F0FE;\n",
              "      border: none;\n",
              "      border-radius: 50%;\n",
              "      cursor: pointer;\n",
              "      display: none;\n",
              "      fill: #1967D2;\n",
              "      height: 32px;\n",
              "      padding: 0 0 0 0;\n",
              "      width: 32px;\n",
              "    }\n",
              "\n",
              "    .colab-df-convert:hover {\n",
              "      background-color: #E2EBFA;\n",
              "      box-shadow: 0px 1px 2px rgba(60, 64, 67, 0.3), 0px 1px 3px 1px rgba(60, 64, 67, 0.15);\n",
              "      fill: #174EA6;\n",
              "    }\n",
              "\n",
              "    [theme=dark] .colab-df-convert {\n",
              "      background-color: #3B4455;\n",
              "      fill: #D2E3FC;\n",
              "    }\n",
              "\n",
              "    [theme=dark] .colab-df-convert:hover {\n",
              "      background-color: #434B5C;\n",
              "      box-shadow: 0px 1px 3px 1px rgba(0, 0, 0, 0.15);\n",
              "      filter: drop-shadow(0px 1px 2px rgba(0, 0, 0, 0.3));\n",
              "      fill: #FFFFFF;\n",
              "    }\n",
              "  </style>\n",
              "\n",
              "      <script>\n",
              "        const buttonEl =\n",
              "          document.querySelector('#df-02ae1491-f413-423f-a3dc-5a274958f52b button.colab-df-convert');\n",
              "        buttonEl.style.display =\n",
              "          google.colab.kernel.accessAllowed ? 'block' : 'none';\n",
              "\n",
              "        async function convertToInteractive(key) {\n",
              "          const element = document.querySelector('#df-02ae1491-f413-423f-a3dc-5a274958f52b');\n",
              "          const dataTable =\n",
              "            await google.colab.kernel.invokeFunction('convertToInteractive',\n",
              "                                                     [key], {});\n",
              "          if (!dataTable) return;\n",
              "\n",
              "          const docLinkHtml = 'Like what you see? Visit the ' +\n",
              "            '<a target=\"_blank\" href=https://colab.research.google.com/notebooks/data_table.ipynb>data table notebook</a>'\n",
              "            + ' to learn more about interactive tables.';\n",
              "          element.innerHTML = '';\n",
              "          dataTable['output_type'] = 'display_data';\n",
              "          await google.colab.output.renderOutput(dataTable, element);\n",
              "          const docLink = document.createElement('div');\n",
              "          docLink.innerHTML = docLinkHtml;\n",
              "          element.appendChild(docLink);\n",
              "        }\n",
              "      </script>\n",
              "    </div>\n",
              "  </div>\n",
              "  "
            ],
            "text/plain": [
              "    IDLink  ... LinkedIn\n",
              "0  99248.0  ...       -1\n",
              "1  10423.0  ...       -1\n",
              "2  18828.0  ...       -1\n",
              "3  27788.0  ...       -1\n",
              "4  27789.0  ...       -1\n",
              "\n",
              "[5 rows x 11 columns]"
            ]
          },
          "metadata": {},
          "execution_count": 3
        }
      ]
    },
    {
      "cell_type": "markdown",
      "source": [
        "As we want to estimate the popularity score (number) based\n",
        "on its title and headline, we will use a regression model."
      ],
      "metadata": {
        "id": "lScUV88Yj1rK"
      }
    },
    {
      "cell_type": "code",
      "source": [
        "text_inputs = np.array(news_df.Title + \". \" + news_df.Headline).astype(\"str\")"
      ],
      "metadata": {
        "id": "4NZ_Z780j4ef"
      },
      "execution_count": 4,
      "outputs": []
    },
    {
      "cell_type": "markdown",
      "source": [
        "Now, we extract the popularity score of each article on LinkedIn, to be used as\n",
        "labels. We have decided to use only the LinkedIn scores to simplify the example."
      ],
      "metadata": {
        "id": "C0LGnJOUJkJZ"
      }
    },
    {
      "cell_type": "code",
      "source": [
        "media_success_outputs = news_df.LinkedIn.to_numpy(dtype=\"int\")"
      ],
      "metadata": {
        "id": "CaLC-IDhkyKc"
      },
      "execution_count": 5,
      "outputs": []
    },
    {
      "cell_type": "code",
      "source": [
        "# split the dataset in a train and test set\n",
        "x_train, x_test, y_train, y_test = train_test_split(text_inputs, media_success_outputs, test_size=.2, random_state=2021)"
      ],
      "metadata": {
        "id": "iwF7yS1qJ4xW"
      },
      "execution_count": 6,
      "outputs": []
    },
    {
      "cell_type": "markdown",
      "source": [
        "##Creating a text regressor"
      ],
      "metadata": {
        "id": "FkpFeWgBluqx"
      }
    },
    {
      "cell_type": "markdown",
      "source": [
        "Because we want to predict a popularity score from a set of text sentences, and this score\n",
        "is a scalar value, we are going to use AutoKeras TextRegressor."
      ],
      "metadata": {
        "id": "xyQQBRfgl3ZP"
      }
    },
    {
      "cell_type": "code",
      "source": [
        "# Initialize the TextRegressor\n",
        "clf = ak.TextRegressor(max_trials=2, overwrite=True)\n",
        "\n",
        "# Callback to avoid overfitting with the EarlyStopping.\n",
        "cbs = [tf.keras.callbacks.EarlyStopping(patience=2)]\n",
        "\n",
        "#  Search for the best model\n",
        "clf.fit(x_train, y_train, callbacks=cbs)"
      ],
      "metadata": {
        "colab": {
          "base_uri": "https://localhost:8080/"
        },
        "id": "QGXNWlYYl6To",
        "outputId": "3600830e-56ee-41d2-ea98-c187d47d6728"
      },
      "execution_count": 9,
      "outputs": [
        {
          "output_type": "stream",
          "name": "stdout",
          "text": [
            "Trial 2 Complete [00h 08m 04s]\n",
            "val_loss: 29302.716796875\n",
            "\n",
            "Best val_loss So Far: 28876.587890625\n",
            "Total elapsed time: 00h 14m 36s\n",
            "INFO:tensorflow:Oracle triggered exit\n",
            "Epoch 1/3\n",
            "2331/2331 [==============================] - 62s 26ms/step - loss: 15565.9385 - mean_squared_error: 15565.9385\n",
            "Epoch 2/3\n",
            "2331/2331 [==============================] - 61s 26ms/step - loss: 15036.3145 - mean_squared_error: 15036.3145\n",
            "Epoch 3/3\n",
            "2331/2331 [==============================] - 60s 26ms/step - loss: 14215.7549 - mean_squared_error: 14215.7549\n",
            "INFO:tensorflow:Assets written to: ./text_regressor/best_model/assets\n"
          ]
        },
        {
          "output_type": "execute_result",
          "data": {
            "text/plain": [
              "<tensorflow.python.keras.callbacks.History at 0x7f9b0b6d6b90>"
            ]
          },
          "metadata": {},
          "execution_count": 9
        }
      ]
    },
    {
      "cell_type": "markdown",
      "source": [
        "we have a model with\n",
        "14726 as the best validation loss (mean squared error, or MSE). This means that every\n",
        "prediction is failing at an average of 121 (square root of 14726) in the final score, which\n",
        "is not a bad result for the time invested."
      ],
      "metadata": {
        "id": "1n6ApX6fmoES"
      }
    },
    {
      "cell_type": "markdown",
      "source": [
        "##Evaluating the model"
      ],
      "metadata": {
        "id": "vBFPoQ39mtCH"
      }
    },
    {
      "cell_type": "markdown",
      "source": [
        "It's time to evaluate the best model with the testing dataset."
      ],
      "metadata": {
        "id": "oVxLyvmImtmS"
      }
    },
    {
      "cell_type": "code",
      "source": [
        "clf.evaluate(x_test, y_test)"
      ],
      "metadata": {
        "colab": {
          "base_uri": "https://localhost:8080/"
        },
        "id": "g3yjYDdGmwk0",
        "outputId": "d9452801-1378-4a89-bf37-c4e5ae9708da"
      },
      "execution_count": 11,
      "outputs": [
        {
          "output_type": "stream",
          "name": "stdout",
          "text": [
            "583/583 [==============================] - 6s 9ms/step - loss: 56350.6367 - mean_squared_error: 56350.6367\n"
          ]
        },
        {
          "output_type": "execute_result",
          "data": {
            "text/plain": [
              "[56350.63671875, 56350.63671875]"
            ]
          },
          "metadata": {},
          "execution_count": 11
        }
      ]
    },
    {
      "cell_type": "markdown",
      "source": [
        "As we can see, `0.9849` as prediction accuracy in the test set is a really good final\n",
        "prediction score for the time invested."
      ],
      "metadata": {
        "id": "0d-rGfv5m5HF"
      }
    },
    {
      "cell_type": "markdown",
      "source": [
        "##Visualizing the model"
      ],
      "metadata": {
        "id": "a9n9mGVUm766"
      }
    },
    {
      "cell_type": "markdown",
      "source": [
        "Now, we can see a little summary of the architecture of the best generated model."
      ],
      "metadata": {
        "id": "pWxTz2Snm8lc"
      }
    },
    {
      "cell_type": "code",
      "source": [
        "model = clf.export_model()\n",
        "model.summary()"
      ],
      "metadata": {
        "colab": {
          "base_uri": "https://localhost:8080/"
        },
        "id": "tqlmIXztm_hR",
        "outputId": "dd3624a9-10ca-4b06-b304-beb244854011"
      },
      "execution_count": 12,
      "outputs": [
        {
          "output_type": "stream",
          "name": "stdout",
          "text": [
            "Model: \"model\"\n",
            "_________________________________________________________________\n",
            "Layer (type)                 Output Shape              Param #   \n",
            "=================================================================\n",
            "input_1 (InputLayer)         [(None,)]                 0         \n",
            "_________________________________________________________________\n",
            "expand_last_dim (ExpandLastD (None, 1)                 0         \n",
            "_________________________________________________________________\n",
            "text_vectorization (TextVect (None, 64)                0         \n",
            "_________________________________________________________________\n",
            "embedding (Embedding)        (None, 64, 128)           640128    \n",
            "_________________________________________________________________\n",
            "dropout (Dropout)            (None, 64, 128)           0         \n",
            "_________________________________________________________________\n",
            "separable_conv1d (SeparableC (None, 62, 32)            4512      \n",
            "_________________________________________________________________\n",
            "separable_conv1d_1 (Separabl (None, 60, 32)            1152      \n",
            "_________________________________________________________________\n",
            "max_pooling1d (MaxPooling1D) (None, 30, 32)            0         \n",
            "_________________________________________________________________\n",
            "separable_conv1d_2 (Separabl (None, 28, 32)            1152      \n",
            "_________________________________________________________________\n",
            "separable_conv1d_3 (Separabl (None, 26, 32)            1152      \n",
            "_________________________________________________________________\n",
            "max_pooling1d_1 (MaxPooling1 (None, 13, 32)            0         \n",
            "_________________________________________________________________\n",
            "flatten (Flatten)            (None, 416)               0         \n",
            "_________________________________________________________________\n",
            "dense (Dense)                (None, 32)                13344     \n",
            "_________________________________________________________________\n",
            "re_lu (ReLU)                 (None, 32)                0         \n",
            "_________________________________________________________________\n",
            "dense_1 (Dense)              (None, 32)                1056      \n",
            "_________________________________________________________________\n",
            "re_lu_1 (ReLU)               (None, 32)                0         \n",
            "_________________________________________________________________\n",
            "regression_head_1 (Dense)    (None, 1)                 33        \n",
            "=================================================================\n",
            "Total params: 662,529\n",
            "Trainable params: 662,529\n",
            "Non-trainable params: 0\n",
            "_________________________________________________________________\n"
          ]
        }
      ]
    },
    {
      "cell_type": "markdown",
      "source": [
        "##Improving the model performance"
      ],
      "metadata": {
        "id": "gbyzVyv4KzOZ"
      }
    },
    {
      "cell_type": "markdown",
      "source": [
        "if we need more precision in less time, we can fine-tune\n",
        "our model using an advanced AutoKeras feature that allows you to customize your search\n",
        "space."
      ],
      "metadata": {
        "id": "269jQ9rYK_UR"
      }
    },
    {
      "cell_type": "code",
      "source": [
        "# Callback to avoid overfitting with the EarlyStopping.\n",
        "cbs = [tf.keras.callbacks.EarlyStopping(patience=2)]"
      ],
      "metadata": {
        "id": "L868_heuQCzb"
      },
      "execution_count": 7,
      "outputs": []
    },
    {
      "cell_type": "code",
      "source": [
        "input_node = ak.TextInput()\n",
        "output_node = ak.TextToIntSequence(max_tokens=20000)(input_node)\n",
        "output_node = ak.TextBlock(block_type=\"ngram\")(output_node)\n",
        "output_node = ak.RegressionHead()(output_node)\n",
        "\n",
        "auto_model = ak.AutoModel(inputs=input_node, outputs=output_node, objective=\"val_mean_squared_error\", max_trials=2)\n",
        "auto_model.fit(x_train, y_train, callbacks=cbs)"
      ],
      "metadata": {
        "id": "4Zhjf8tNK_bg"
      },
      "execution_count": null,
      "outputs": []
    },
    {
      "cell_type": "markdown",
      "source": [
        "##Evaluating the model with the test set"
      ],
      "metadata": {
        "id": "E5gRnywoMF1L"
      }
    },
    {
      "cell_type": "markdown",
      "source": [
        "After training, it is time to measure the actual prediction of our model using the reserved\n",
        "test dataset."
      ],
      "metadata": {
        "id": "cYm2d5A7MGjb"
      }
    },
    {
      "cell_type": "code",
      "source": [
        "automodel.evaluate(x_test, y_test)"
      ],
      "metadata": {
        "id": "HhssO9LkMG78"
      },
      "execution_count": null,
      "outputs": []
    },
    {
      "cell_type": "markdown",
      "source": [
        "The performance is slightly better than in the model without fine-tuning, but training it\n",
        "for a longer time surely improves it."
      ],
      "metadata": {
        "id": "CEWlB7nrMQPw"
      }
    }
  ]
}