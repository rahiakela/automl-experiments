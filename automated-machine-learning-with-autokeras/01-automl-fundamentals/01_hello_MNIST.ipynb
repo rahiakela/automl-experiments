{
  "nbformat": 4,
  "nbformat_minor": 0,
  "metadata": {
    "colab": {
      "name": "01-hello-MNIST.ipynb",
      "provenance": [],
      "toc_visible": true,
      "authorship_tag": "ABX9TyPu/L81+JyRan0FcLPWLdvV",
      "include_colab_link": true
    },
    "kernelspec": {
      "name": "python3",
      "display_name": "Python 3"
    },
    "language_info": {
      "name": "python"
    }
  },
  "cells": [
    {
      "cell_type": "markdown",
      "metadata": {
        "id": "view-in-github",
        "colab_type": "text"
      },
      "source": [
        "<a href=\"https://colab.research.google.com/github/rahiakela/automl-experiments/blob/main/automated-machine-learning-with-autokeras/01-automl-fundamentals/01_hello_MNIST.ipynb\" target=\"_parent\"><img src=\"https://colab.research.google.com/assets/colab-badge.svg\" alt=\"Open In Colab\"/></a>"
      ]
    },
    {
      "cell_type": "markdown",
      "metadata": {
        "id": "hY9tdTG75gXj"
      },
      "source": [
        "## Hello MNIST: Implementing first AutoKeras experiment"
      ]
    },
    {
      "cell_type": "markdown",
      "metadata": {
        "id": "pUVwWSF65mek"
      },
      "source": [
        "Our first experiment will be an image classifier using the MNIST dataset. This MINST classification task is like the \"hello world\" of DL. It is a classic problem of classifying images of handwritten digits into 10 categories (0 to 9). The images come from the MNIST, the most famous and widely used dataset in ML. It contains 70,000 images (60,000 for training and 10,000 for testing) collected in the 1980s by the NIST."
      ]
    }
  ]
}