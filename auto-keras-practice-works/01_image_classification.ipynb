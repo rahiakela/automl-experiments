{
  "nbformat": 4,
  "nbformat_minor": 0,
  "metadata": {
    "colab": {
      "name": "01-image-classification.ipynb",
      "provenance": [],
      "toc_visible": true,
      "authorship_tag": "ABX9TyPzBApa8mqmFnIo5uF6qcRY",
      "include_colab_link": true
    },
    "kernelspec": {
      "name": "python3",
      "display_name": "Python 3"
    },
    "language_info": {
      "name": "python"
    }
  },
  "cells": [
    {
      "cell_type": "markdown",
      "metadata": {
        "id": "view-in-github",
        "colab_type": "text"
      },
      "source": [
        "<a href=\"https://colab.research.google.com/github/rahiakela/automl-experiments/blob/main/auto-keras-practice-works/01_image_classification.ipynb\" target=\"_parent\"><img src=\"https://colab.research.google.com/assets/colab-badge.svg\" alt=\"Open In Colab\"/></a>"
      ]
    },
    {
      "cell_type": "markdown",
      "metadata": {
        "id": "0h9wORwwNLRw"
      },
      "source": [
        "##Image Classification"
      ]
    },
    {
      "cell_type": "markdown",
      "metadata": {
        "id": "cTvul9urVMfs"
      },
      "source": [
        "Reference:\n",
        "\n",
        "https://autokeras.com/tutorial/image_classification/"
      ]
    },
    {
      "cell_type": "code",
      "metadata": {
        "id": "k7T0gx6VNUri",
        "outputId": "8c6488b6-df73-4d14-800e-3ec43d241d9b",
        "colab": {
          "base_uri": "https://localhost:8080/"
        }
      },
      "source": [
        "!pip -q install autokeras"
      ],
      "execution_count": 1,
      "outputs": [
        {
          "output_type": "stream",
          "name": "stdout",
          "text": [
            "\u001b[K     |████████████████████████████████| 166 kB 7.7 MB/s \n",
            "\u001b[K     |████████████████████████████████| 454.4 MB 20 kB/s \n",
            "\u001b[K     |████████████████████████████████| 97 kB 6.6 MB/s \n",
            "\u001b[K     |████████████████████████████████| 1.2 MB 55.7 MB/s \n",
            "\u001b[K     |████████████████████████████████| 462 kB 61.3 MB/s \n",
            "\u001b[K     |████████████████████████████████| 4.0 MB 46.2 MB/s \n",
            "\u001b[?25h  Building wheel for wrapt (setup.py) ... \u001b[?25l\u001b[?25hdone\n"
          ]
        }
      ]
    },
    {
      "cell_type": "code",
      "metadata": {
        "id": "F4wXg5gxNXcM"
      },
      "source": [
        "import numpy as np\n",
        "import tensorflow as tf\n",
        "from tensorflow.keras.datasets import mnist\n",
        "\n",
        "import autokeras as ak"
      ],
      "execution_count": 2,
      "outputs": []
    },
    {
      "cell_type": "markdown",
      "metadata": {
        "id": "Nlv4BkGHNaXa"
      },
      "source": [
        "##A Simple Example"
      ]
    },
    {
      "cell_type": "markdown",
      "metadata": {
        "id": "OQXOtFhKNbFa"
      },
      "source": [
        "The first step is to prepare your data. Here we use the MNIST dataset as an example"
      ]
    },
    {
      "cell_type": "code",
      "metadata": {
        "colab": {
          "base_uri": "https://localhost:8080/"
        },
        "id": "ShFDG_18NdvE",
        "outputId": "38ddf30d-ba49-47c0-fadf-693795b91141"
      },
      "source": [
        "(x_train, y_train), (x_test, y_test) = mnist.load_data()\n",
        "\n",
        "print(x_train.shape)  # (60000, 28, 28)\n",
        "print(y_train.shape)  # (60000,)\n",
        "print(y_train[:3])    # array([7, 2, 1], dtype=uint8)"
      ],
      "execution_count": 3,
      "outputs": [
        {
          "output_type": "stream",
          "name": "stdout",
          "text": [
            "Downloading data from https://storage.googleapis.com/tensorflow/tf-keras-datasets/mnist.npz\n",
            "11493376/11490434 [==============================] - 0s 0us/step\n",
            "(60000, 28, 28)\n",
            "(60000,)\n",
            "[5 0 4]\n"
          ]
        }
      ]
    },
    {
      "cell_type": "markdown",
      "metadata": {
        "id": "yR12ImUdNuA4"
      },
      "source": [
        "The second step is to run the ImageClassifier. It is recommended have more trials for more complicated datasets. This is just a quick demo of MNIST, so we set max_trials to 1. \n",
        "\n",
        "For the same reason, we set epochs to 10. You can also leave the epochs unspecified for an adaptive number of epochs."
      ]
    },
    {
      "cell_type": "code",
      "metadata": {
        "colab": {
          "base_uri": "https://localhost:8080/"
        },
        "id": "tv_czfbsNv4b",
        "outputId": "7ffc5625-383d-431c-97ce-56af6b6a5600"
      },
      "source": [
        "# Initialize the image classifier\n",
        "clf = ak.ImageClassifier(overwrite=True, max_trials=1)\n",
        "#  Feed the image classifier with training data\n",
        "clf.fit(x_train, y_train, epochs=10)"
      ],
      "execution_count": 4,
      "outputs": [
        {
          "metadata": {
            "tags": null
          },
          "name": "stdout",
          "output_type": "stream",
          "text": [
            "Trial 1 Complete [00h 30m 18s]\n",
            "val_loss: 0.039209458976984024\n",
            "\n",
            "Best val_loss So Far: 0.039209458976984024\n",
            "Total elapsed time: 00h 30m 18s\n",
            "INFO:tensorflow:Oracle triggered exit\n",
            "Epoch 1/10\n",
            "1875/1875 [==============================] - 180s 96ms/step - loss: 0.1564 - accuracy: 0.9524\n",
            "Epoch 2/10\n",
            "1875/1875 [==============================] - 180s 96ms/step - loss: 0.0736 - accuracy: 0.9774\n",
            "Epoch 3/10\n",
            "1875/1875 [==============================] - 175s 94ms/step - loss: 0.0591 - accuracy: 0.9819\n",
            "Epoch 4/10\n",
            "1875/1875 [==============================] - 177s 94ms/step - loss: 0.0514 - accuracy: 0.9839\n",
            "Epoch 5/10\n",
            "1875/1875 [==============================] - 181s 96ms/step - loss: 0.0464 - accuracy: 0.9850\n",
            "Epoch 6/10\n",
            "1875/1875 [==============================] - 180s 96ms/step - loss: 0.0406 - accuracy: 0.9866\n",
            "Epoch 7/10\n",
            "1875/1875 [==============================] - 180s 96ms/step - loss: 0.0393 - accuracy: 0.9876\n",
            "Epoch 8/10\n",
            "1875/1875 [==============================] - 174s 93ms/step - loss: 0.0354 - accuracy: 0.9891\n",
            "Epoch 9/10\n",
            "1875/1875 [==============================] - 171s 91ms/step - loss: 0.0328 - accuracy: 0.9892\n",
            "Epoch 10/10\n",
            "1875/1875 [==============================] - 167s 89ms/step - loss: 0.0313 - accuracy: 0.9896\n",
            "INFO:tensorflow:Assets written to: ./image_classifier/best_model/assets\n"
          ]
        },
        {
          "data": {
            "text/plain": [
              "<tensorflow.python.keras.callbacks.History at 0x7fb1907fc750>"
            ]
          },
          "execution_count": null,
          "metadata": {},
          "output_type": "execute_result"
        }
      ]
    },
    {
      "cell_type": "code",
      "metadata": {
        "id": "KBycRaXkOHwZ",
        "outputId": "91859a0b-55a3-44ca-89c3-e16c9407560a",
        "colab": {
          "base_uri": "https://localhost:8080/"
        }
      },
      "source": [
        "# Predict with the best model\n",
        "predicted_y = clf.predict(x_test)\n",
        "print(predicted_y)"
      ],
      "execution_count": 5,
      "outputs": [
        {
          "metadata": {
            "tags": null
          },
          "name": "stdout",
          "output_type": "stream",
          "text": [
            "313/313 [==============================] - 8s 26ms/step\n",
            "[['7']\n",
            " ['2']\n",
            " ['1']\n",
            " ...\n",
            " ['4']\n",
            " ['5']\n",
            " ['6']]\n"
          ]
        }
      ]
    },
    {
      "cell_type": "code",
      "metadata": {
        "id": "aBa2OC7hOOnV",
        "outputId": "a7645455-0784-4a6a-b5fa-3bbd86b51daf",
        "colab": {
          "base_uri": "https://localhost:8080/"
        }
      },
      "source": [
        "# Evaluate the best model with testing data\n",
        "print(clf.evaluate(x_test, y_test))"
      ],
      "execution_count": 6,
      "outputs": [
        {
          "metadata": {
            "tags": null
          },
          "name": "stdout",
          "output_type": "stream",
          "text": [
            "313/313 [==============================] - 8s 24ms/step - loss: 0.0342 - accuracy: 0.9899\n",
            "[0.03422395884990692, 0.9898999929428101]\n"
          ]
        }
      ]
    },
    {
      "cell_type": "markdown",
      "metadata": {
        "id": "nakvQDmNOWw_"
      },
      "source": [
        "##Validation Data"
      ]
    },
    {
      "cell_type": "markdown",
      "metadata": {
        "id": "wO9bU1xAOXat"
      },
      "source": [
        "By default, AutoKeras use the last 20% of training data as validation data. \n",
        "\n",
        "As shown in the example below, you can use validation_split to specify the percentage."
      ]
    },
    {
      "cell_type": "code",
      "metadata": {
        "id": "HjUD_VbIOg_f"
      },
      "source": [
        "# Split the training data and use the last 15% as validation data\n",
        "clf.fit(x_train, y_train, validation_split=0.15, epochs=10)"
      ],
      "execution_count": 7,
      "outputs": []
    },
    {
      "cell_type": "markdown",
      "metadata": {
        "id": "X6shdURmO3S7"
      },
      "source": [
        "You can also use your own validation set instead of splitting it from the training data with validation_data."
      ]
    },
    {
      "cell_type": "code",
      "metadata": {
        "id": "Ykq9BB-KO6du"
      },
      "source": [
        "split = 50000\n",
        "\n",
        "x_val = x_train[split:]\n",
        "y_val = y_train[split:]\n",
        "\n",
        "x_train = x_train[:split]\n",
        "y_train = y_train[:split]\n",
        "\n",
        "clf.fit(x_train, y_train, validation_data=(x_val, y_val), epochs=10)"
      ],
      "execution_count": 8,
      "outputs": []
    },
    {
      "cell_type": "markdown",
      "metadata": {
        "id": "tEr8uKKHPr2f"
      },
      "source": [
        "##Customized Search Space"
      ]
    },
    {
      "cell_type": "markdown",
      "metadata": {
        "id": "UzRxomZOPsi3"
      },
      "source": [
        "For advanced users, you may customize your search space by using AutoModel instead of ImageClassifier. You can configure the ImageBlock for some high-level configurations, e.g., block_type for the type of neural network to search, normalize for whether to do data normalization, augment for whether to do data augmentation. \n",
        "\n",
        "You can also do not specify these arguments, which would leave the different choices to be tuned automatically. \n",
        "\n",
        "See the following example for detail."
      ]
    },
    {
      "cell_type": "code",
      "metadata": {
        "id": "1NjUQ84fQq-A"
      },
      "source": [
        "input_node = ak.ImageInput()\n",
        "output_node = ak.ImageBlock(\n",
        "    block_type=\"resnet\", # Only search ResNet architecture\n",
        "    normalize=True,      # Normalize the dataset\n",
        "    augment=False        # Do not do data augmentation\n",
        ")(input_node)\n",
        "\n",
        "output_node = ak.ClassificationHead()(output_node)\n",
        "\n",
        "clf = ak.AutoModel(inputs=input_node, outputs=output_node, overwrite=True, max_trials=1)\n",
        "\n",
        "clf.fit(x_train, y_train, epochs=10)"
      ],
      "execution_count": null,
      "outputs": []
    },
    {
      "cell_type": "markdown",
      "metadata": {
        "id": "92nDMEDTR2Qz"
      },
      "source": [
        "The usage of AutoModel is similar to the functional API of Keras. Basically, you are building a graph, whose edges are blocks and the nodes are intermediate outputs of blocks. To add an edge from `input_node` to `output_node` with `output_node = ak.some_block(input_node)`.\n",
        "\n",
        "You can even also use more fine grained blocks to customize the search space even further. \n",
        "\n",
        "See the following example."
      ]
    },
    {
      "cell_type": "code",
      "metadata": {
        "id": "_FCOIMuJR-TF"
      },
      "source": [
        "input_node = ak.ImageInput()\n",
        "output_node = ak.Normalization(input_node)\n",
        "output_node = ak.ImageAugmentation(horizontal_flip=False)(output_node)\n",
        "output_node = ak.ResNetBlock(version=\"v2\")(output_node)\n",
        "output_node = ak.ClassificationHead()(output_node)\n",
        "\n",
        "clf = ak.AutoModel(inputs=input_node, outputs=output_node, overwrite=True, max_trials=1)\n",
        "clf.fit(x_train, y_train, epochs=10)"
      ],
      "execution_count": null,
      "outputs": []
    },
    {
      "cell_type": "markdown",
      "metadata": {
        "id": "7jWsIUFnTuNL"
      },
      "source": [
        "##Data Format"
      ]
    },
    {
      "cell_type": "markdown",
      "metadata": {
        "id": "O2XfSJ5gTu2m"
      },
      "source": [
        "The AutoKeras ImageClassifier is quite flexible for the data format.\n",
        "\n",
        "For the image, it accepts data formats both with and without the channel dimension. The images in the MNIST dataset do not have the channel dimension. Each image is a matrix with shape (28, 28). AutoKeras also accepts images of three dimensions with the channel dimension at last, e.g., (32, 32, 3), (28, 28, 1).\n",
        "\n",
        "For the classification labels, AutoKeras accepts both plain labels, i.e. strings or integers, and one-hot encoded encoded labels, i.e. vectors of 0s and 1s.\n",
        "\n",
        "So if you prepare your data in the following way, the ImageClassifier should still work."
      ]
    },
    {
      "cell_type": "code",
      "metadata": {
        "id": "FXP-A_IIT6Cb"
      },
      "source": [
        "(x_train, y_train), (x_test, y_test) = mnist.load_data()\n",
        "\n",
        "# Reshape the images to have the channel dimension\n",
        "x_train = x_train.reshape(x_train.shape + (1, ))\n",
        "x_test = x_test.reshape(x_test.shape + (1, ))\n",
        "\n",
        "# One-hot encode the labels\n",
        "eye = np.eye(10)\n",
        "y_train = eye[y_train]\n",
        "y_test = eye[y_test]\n",
        "\n",
        "print(x_train.shape)  # (60000, 28, 28, 1)\n",
        "print(y_train.shape)  # (60000, 10)\n",
        "print(y_train[:3])"
      ],
      "execution_count": null,
      "outputs": []
    },
    {
      "cell_type": "code",
      "metadata": {
        "id": "unhCN2OLVDNK"
      },
      "source": [
        "clf = ak.ImageClassifier(overwrite=True, max_trials=1)\n",
        "# Feed the tensorflow Dataset to the classifier.\n",
        "clf.fit(x_train, epochs=10)\n",
        "# Predict with the best model.\n",
        "predicted_y = clf.predict(x_test)\n",
        "# Evaluate the best model with testing data.\n",
        "print(clf.evaluate(x_test))"
      ],
      "execution_count": null,
      "outputs": []
    },
    {
      "cell_type": "markdown",
      "metadata": {
        "id": "P-b0pqrHUdmy"
      },
      "source": [
        "We also support using tf.data.Dataset format for the training data."
      ]
    },
    {
      "cell_type": "code",
      "metadata": {
        "id": "avBprYzYUgSV"
      },
      "source": [
        "train_set = tf.data.Dataset.from_tensor_slices(((x_train, ), (y_train, )))\n",
        "test_set = tf.data.Dataset.from_tensor_slices(((x_test, ), (y_test, )))\n",
        "\n",
        "clf = ak.ImageClassifier(overwrite=True, max_trials=1)\n",
        "# Feed the tensorflow Dataset to the classifier.\n",
        "clf.fit(train_set, epochs=10)\n",
        "# Predict with the best model.\n",
        "predicted_y = clf.predict(test_set)\n",
        "# Evaluate the best model with testing data.\n",
        "print(clf.evaluate(test_set))"
      ],
      "execution_count": null,
      "outputs": []
    }
  ]
}