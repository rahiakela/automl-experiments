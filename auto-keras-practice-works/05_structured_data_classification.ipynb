{
  "nbformat": 4,
  "nbformat_minor": 0,
  "metadata": {
    "colab": {
      "name": "05-structured-data-classification.ipynb",
      "provenance": [],
      "toc_visible": true,
      "authorship_tag": "ABX9TyORi5bhdjOfHp0SyuTmKzXA",
      "include_colab_link": true
    },
    "kernelspec": {
      "name": "python3",
      "display_name": "Python 3"
    },
    "language_info": {
      "name": "python"
    }
  },
  "cells": [
    {
      "cell_type": "markdown",
      "metadata": {
        "id": "view-in-github",
        "colab_type": "text"
      },
      "source": [
        "<a href=\"https://colab.research.google.com/github/rahiakela/automl-experiments/blob/main/auto-keras-practice-works/05_structured_data_classification.ipynb\" target=\"_parent\"><img src=\"https://colab.research.google.com/assets/colab-badge.svg\" alt=\"Open In Colab\"/></a>"
      ]
    },
    {
      "cell_type": "markdown",
      "source": [
        "##Structured Data Classification"
      ],
      "metadata": {
        "id": "S86m9Q4h0Mp5"
      }
    },
    {
      "cell_type": "markdown",
      "source": [
        "Reference:\n",
        "\n",
        "https://autokeras.com/tutorial/structured_data_classification/"
      ],
      "metadata": {
        "id": "-SdMHh0T0NTj"
      }
    },
    {
      "cell_type": "markdown",
      "source": [
        "##Setup"
      ],
      "metadata": {
        "id": "vqGTJ7z60U91"
      }
    },
    {
      "cell_type": "code",
      "source": [
        "!pip -q install autokeras"
      ],
      "metadata": {
        "id": "zo0azv0N0V12"
      },
      "execution_count": null,
      "outputs": []
    },
    {
      "cell_type": "code",
      "source": [
        "import numpy as np\n",
        "import pandas as pd\n",
        "import tensorflow as tf\n",
        "\n",
        "import autokeras as ak"
      ],
      "metadata": {
        "id": "dtMHQRlk0Y3z"
      },
      "execution_count": 1,
      "outputs": []
    },
    {
      "cell_type": "markdown",
      "source": [
        "##A Simple Example"
      ],
      "metadata": {
        "id": "2FwRZdBy0cvX"
      }
    },
    {
      "cell_type": "markdown",
      "source": [
        "The first step is to prepare your data. Here we use the [Titanic\n",
        "dataset](https://www.kaggle.com/c/titanic) as an example."
      ],
      "metadata": {
        "id": "svhTN6jw0dUG"
      }
    },
    {
      "cell_type": "code",
      "source": [
        "TRAIN_DATA_URL = \"https://storage.googleapis.com/tf-datasets/titanic/train.csv\"\n",
        "TEST_DATA_URL = \"https://storage.googleapis.com/tf-datasets/titanic/eval.csv\"\n",
        "\n",
        "train_file_path = tf.keras.utils.get_file(\"train.csv\", TRAIN_DATA_URL)\n",
        "test_file_path = tf.keras.utils.get_file(\"eval.csv\", TEST_DATA_URL)"
      ],
      "metadata": {
        "id": "xs-XCINy0f7Y"
      },
      "execution_count": 2,
      "outputs": []
    },
    {
      "cell_type": "markdown",
      "source": [
        "The second step is to run the\n",
        "[StructuredDataClassifier](/structured_data_classifier).\n",
        "\n",
        "\n",
        "As a quick demo, we set epochs to 10.\n",
        "You can also leave the epochs unspecified for an adaptive number of epochs.\n"
      ],
      "metadata": {
        "id": "azgz0YKf0ljG"
      }
    },
    {
      "cell_type": "code",
      "source": [
        "# Initialize the structured data classifier.\n",
        "clf = ak.StructuredDataClassifier(overwrite=True, max_trials=3)\n",
        "# Feed the structured data classifier with training data.\n",
        "clf.fit(train_file_path, \"survived\", epochs=10)  # The path to the train.csv file and The name of the label column"
      ],
      "metadata": {
        "colab": {
          "base_uri": "https://localhost:8080/"
        },
        "id": "9IMj5GSA0l7V",
        "outputId": "0d8e2160-e961-4dcb-82f5-a109d3225f44"
      },
      "execution_count": 3,
      "outputs": [
        {
          "output_type": "stream",
          "name": "stdout",
          "text": [
            "Trial 3 Complete [00h 00m 12s]\n",
            "val_accuracy: 0.852173924446106\n",
            "\n",
            "Best val_accuracy So Far: 0.895652174949646\n",
            "Total elapsed time: 00h 00m 27s\n",
            "INFO:tensorflow:Oracle triggered exit\n",
            "Epoch 1/10\n",
            "20/20 [==============================] - 1s 3ms/step - loss: 0.6680 - accuracy: 0.5231\n",
            "Epoch 2/10\n",
            "20/20 [==============================] - 0s 4ms/step - loss: 0.5678 - accuracy: 0.7719\n",
            "Epoch 3/10\n",
            "20/20 [==============================] - 0s 6ms/step - loss: 0.5035 - accuracy: 0.8006\n",
            "Epoch 4/10\n",
            "20/20 [==============================] - 0s 4ms/step - loss: 0.4615 - accuracy: 0.8150\n",
            "Epoch 5/10\n",
            "20/20 [==============================] - 0s 2ms/step - loss: 0.4383 - accuracy: 0.8150\n",
            "Epoch 6/10\n",
            "20/20 [==============================] - 0s 3ms/step - loss: 0.4267 - accuracy: 0.8198\n",
            "Epoch 7/10\n",
            "20/20 [==============================] - 0s 3ms/step - loss: 0.4198 - accuracy: 0.8214\n",
            "Epoch 8/10\n",
            "20/20 [==============================] - 0s 4ms/step - loss: 0.4147 - accuracy: 0.8278\n",
            "Epoch 9/10\n",
            "20/20 [==============================] - 0s 4ms/step - loss: 0.4104 - accuracy: 0.8325\n",
            "Epoch 10/10\n",
            "20/20 [==============================] - 0s 3ms/step - loss: 0.4066 - accuracy: 0.8341\n",
            "INFO:tensorflow:Assets written to: ./structured_data_classifier/best_model/assets\n"
          ]
        },
        {
          "output_type": "execute_result",
          "data": {
            "text/plain": [
              "<tensorflow.python.keras.callbacks.History at 0x7f24d7c91ad0>"
            ]
          },
          "metadata": {},
          "execution_count": 3
        }
      ]
    },
    {
      "cell_type": "code",
      "source": [
        "#  Predict with the best model.\n",
        "predicted_y = clf.predict(test_file_path)\n",
        "# Evaluate the best model with testing data.\n",
        "print(clf.evaluate(test_file_path, \"survived\"))"
      ],
      "metadata": {
        "colab": {
          "base_uri": "https://localhost:8080/"
        },
        "id": "EGicFDYp1OQx",
        "outputId": "9364af18-464a-4959-b47b-5d79dabdb8ee"
      },
      "execution_count": 4,
      "outputs": [
        {
          "output_type": "stream",
          "name": "stdout",
          "text": [
            "9/9 [==============================] - 0s 2ms/step\n",
            "9/9 [==============================] - 0s 2ms/step - loss: 0.4398 - accuracy: 0.7992\n",
            "[0.4397850036621094, 0.7992424368858337]\n"
          ]
        }
      ]
    },
    {
      "cell_type": "markdown",
      "source": [
        "##Data Format"
      ],
      "metadata": {
        "id": "RIe3Pva71jS2"
      }
    },
    {
      "cell_type": "markdown",
      "source": [
        "The AutoKeras StructuredDataClassifier is quite flexible for the data format.\n",
        "\n",
        "The example above shows how to use the CSV files directly. Besides CSV files,\n",
        "it also supports `numpy.ndarray`, `pandas.DataFrame` or [tf.data.Dataset](\n",
        "https://www.tensorflow.org/api_docs/python/tf/data/Dataset?version=stable). The\n",
        "data should be two-dimensional with numerical or categorical values.\n",
        "\n",
        "For the classification labels,\n",
        "AutoKeras accepts both plain labels, i.e. strings or integers, and one-hot encoded\n",
        "encoded labels, i.e. vectors of 0s and 1s.\n",
        "The labels can be numpy.ndarray, pandas.DataFrame, or pandas.Series.\n",
        "\n",
        "The following examples show how the data can be prepared with numpy.ndarray,\n",
        "pandas.DataFrame, and tensorflow.data.Dataset.\n"
      ],
      "metadata": {
        "id": "GFd_AO6b1oIr"
      }
    },
    {
      "cell_type": "code",
      "source": [
        "# x_train as pandas.DataFrame, y_train as pandas.Series\n",
        "x_train = pd.read_csv(train_file_path)\n",
        "print(type(x_train))  # pandas.DataFrame\n",
        "y_train = x_train.pop(\"survived\")\n",
        "print(type(y_train))  # pandas.Series\n",
        "\n",
        "# You can also use pandas.DataFrame for y_train.\n",
        "y_train = pd.DataFrame(y_train)\n",
        "print(type(y_train))  # pandas.DataFrame\n",
        "\n",
        "# You can also use numpy.ndarray for x_train and y_train.\n",
        "x_train = x_train.to_numpy()\n",
        "y_train = y_train.to_numpy()\n",
        "print(type(x_train))  # numpy.ndarray\n",
        "print(type(y_train))  # numpy.ndarray\n",
        "\n",
        "# Preparing testing data.\n",
        "x_test = pd.read_csv(test_file_path)\n",
        "y_test = x_test.pop(\"survived\")"
      ],
      "metadata": {
        "colab": {
          "base_uri": "https://localhost:8080/"
        },
        "id": "o_9vl7es1rZc",
        "outputId": "4fa9feaf-c994-4497-8843-7c7a75528098"
      },
      "execution_count": 5,
      "outputs": [
        {
          "output_type": "stream",
          "name": "stdout",
          "text": [
            "<class 'pandas.core.frame.DataFrame'>\n",
            "<class 'pandas.core.series.Series'>\n",
            "<class 'pandas.core.frame.DataFrame'>\n",
            "<class 'numpy.ndarray'>\n",
            "<class 'numpy.ndarray'>\n"
          ]
        }
      ]
    },
    {
      "cell_type": "code",
      "source": [
        "# It tries 10 different models.\n",
        "clf = ak.StructuredDataClassifier(overwrite=True, max_trials=3)\n",
        "# Feed the structured data classifier with training data.\n",
        "clf.fit(x_train, y_train, epochs=10)\n",
        "# Predict with the best model.\n",
        "predicted_y = clf.predict(x_test)\n",
        "# Evaluate the best model with testing data.\n",
        "print(clf.evaluate(x_test, y_test))"
      ],
      "metadata": {
        "colab": {
          "base_uri": "https://localhost:8080/"
        },
        "id": "PtpEo_hZ2Bs3",
        "outputId": "4c510f71-cd49-4223-bd0f-5542ec82fa86"
      },
      "execution_count": 6,
      "outputs": [
        {
          "output_type": "stream",
          "name": "stdout",
          "text": [
            "Trial 3 Complete [00h 00m 02s]\n",
            "val_accuracy: 0.8608695864677429\n",
            "\n",
            "Best val_accuracy So Far: 0.8695651888847351\n",
            "Total elapsed time: 00h 00m 09s\n",
            "INFO:tensorflow:Oracle triggered exit\n",
            "Epoch 1/10\n",
            "20/20 [==============================] - 1s 2ms/step - loss: 0.6631 - accuracy: 0.6188\n",
            "Epoch 2/10\n",
            "20/20 [==============================] - 0s 2ms/step - loss: 0.5633 - accuracy: 0.7416\n",
            "Epoch 3/10\n",
            "20/20 [==============================] - 0s 2ms/step - loss: 0.5087 - accuracy: 0.8054\n",
            "Epoch 4/10\n",
            "20/20 [==============================] - 0s 2ms/step - loss: 0.4862 - accuracy: 0.8006\n",
            "Epoch 5/10\n",
            "20/20 [==============================] - 0s 2ms/step - loss: 0.4586 - accuracy: 0.8054\n",
            "Epoch 6/10\n",
            "20/20 [==============================] - 0s 2ms/step - loss: 0.4463 - accuracy: 0.8230\n",
            "Epoch 7/10\n",
            "20/20 [==============================] - 0s 2ms/step - loss: 0.4403 - accuracy: 0.8214\n",
            "Epoch 8/10\n",
            "20/20 [==============================] - 0s 2ms/step - loss: 0.4187 - accuracy: 0.8293\n",
            "Epoch 9/10\n",
            "20/20 [==============================] - 0s 2ms/step - loss: 0.4281 - accuracy: 0.8293\n",
            "Epoch 10/10\n",
            "20/20 [==============================] - 0s 2ms/step - loss: 0.4312 - accuracy: 0.8214\n",
            "INFO:tensorflow:Assets written to: ./structured_data_classifier/best_model/assets\n",
            "9/9 [==============================] - 0s 2ms/step\n",
            "9/9 [==============================] - 0s 2ms/step - loss: 0.4393 - accuracy: 0.7879\n",
            "[0.43934163451194763, 0.7878788113594055]\n"
          ]
        }
      ]
    },
    {
      "cell_type": "markdown",
      "source": [
        "The following code shows how to convert numpy.ndarray to `tf.data.Dataset`.\n"
      ],
      "metadata": {
        "id": "JteK9Fud2GAz"
      }
    },
    {
      "cell_type": "code",
      "source": [
        "train_set = tf.data.Dataset.from_tensor_slices((x_train.astype(np.unicode), y_train))\n",
        "test_set = tf.data.Dataset.from_tensor_slices(\n",
        "    (x_test.to_numpy().astype(np.unicode), y_test)\n",
        ")\n",
        "\n",
        "clf = ak.StructuredDataClassifier(overwrite=True, max_trials=3)\n",
        "# Feed the tensorflow Dataset to the classifier.\n",
        "clf.fit(train_set, epochs=10)\n",
        "# Predict with the best model.\n",
        "predicted_y = clf.predict(test_set)\n",
        "# Evaluate the best model with testing data.\n",
        "print(clf.evaluate(test_set))"
      ],
      "metadata": {
        "colab": {
          "base_uri": "https://localhost:8080/"
        },
        "id": "Xw77ABZ42GbE",
        "outputId": "7c59d021-b784-42ea-b0b5-02ea07d6384b"
      },
      "execution_count": 7,
      "outputs": [
        {
          "output_type": "stream",
          "name": "stdout",
          "text": [
            "Trial 3 Complete [00h 00m 04s]\n",
            "val_accuracy: 0.8695651888847351\n",
            "\n",
            "Best val_accuracy So Far: 0.8782608509063721\n",
            "Total elapsed time: 00h 00m 13s\n",
            "INFO:tensorflow:Oracle triggered exit\n",
            "Epoch 1/10\n",
            "20/20 [==============================] - 1s 3ms/step - loss: 0.6518 - accuracy: 0.6858\n",
            "Epoch 2/10\n",
            "20/20 [==============================] - 0s 4ms/step - loss: 0.5667 - accuracy: 0.8070\n",
            "Epoch 3/10\n",
            "20/20 [==============================] - 0s 3ms/step - loss: 0.5049 - accuracy: 0.8230\n",
            "Epoch 4/10\n",
            "20/20 [==============================] - 0s 4ms/step - loss: 0.4635 - accuracy: 0.8214\n",
            "Epoch 5/10\n",
            "20/20 [==============================] - 0s 3ms/step - loss: 0.4391 - accuracy: 0.8182\n",
            "Epoch 6/10\n",
            "20/20 [==============================] - 0s 3ms/step - loss: 0.4252 - accuracy: 0.8214\n",
            "Epoch 7/10\n",
            "20/20 [==============================] - 0s 3ms/step - loss: 0.4165 - accuracy: 0.8214\n",
            "Epoch 8/10\n",
            "20/20 [==============================] - 0s 3ms/step - loss: 0.4107 - accuracy: 0.8262\n",
            "Epoch 9/10\n",
            "20/20 [==============================] - 0s 3ms/step - loss: 0.4065 - accuracy: 0.8309\n",
            "Epoch 10/10\n",
            "20/20 [==============================] - 0s 4ms/step - loss: 0.4030 - accuracy: 0.8293\n",
            "INFO:tensorflow:Assets written to: ./structured_data_classifier/best_model/assets\n",
            "9/9 [==============================] - 0s 5ms/step\n",
            "9/9 [==============================] - 0s 3ms/step - loss: 0.4463 - accuracy: 0.7841\n",
            "[0.44628679752349854, 0.7840909361839294]\n"
          ]
        }
      ]
    },
    {
      "cell_type": "markdown",
      "source": [
        "You can also specify the column names and types for the data as follows.  The\n",
        "`column_names` is optional if the training data already have the column names,\n",
        "e.g.  `pandas.DataFrame`, CSV file.  Any column, whose type is not specified will\n",
        "be inferred from the training data.\n"
      ],
      "metadata": {
        "id": "LBhPd3Go2UN_"
      }
    },
    {
      "cell_type": "code",
      "source": [
        "# Initialize the structured data classifier\n",
        "clf = ak.StructuredDataClassifier(\n",
        "    column_names=[\"sex\", \"age\", \"n_siblings_spouses\", \"parch\", \"fare\", \"class\", \"deck\", \"embark_town\", \"alone\"],\n",
        "    column_types={\"sex\": \"categorical\", \"fare\": \"numerical\"},\n",
        "    max_trials=10,\n",
        "    overwrite=True)\n",
        "\n",
        "# Feed the tensorflow Dataset to the classifier.\n",
        "clf.fit(train_set, epochs=10)\n",
        "# Predict with the best model.\n",
        "predicted_y = clf.predict(test_set)\n",
        "# Evaluate the best model with testing data.\n",
        "print(clf.evaluate(test_set))"
      ],
      "metadata": {
        "colab": {
          "base_uri": "https://localhost:8080/"
        },
        "id": "Jm_GnxBv2VWJ",
        "outputId": "b1bd27c0-7f50-450a-bb32-f4e7f5446f5a"
      },
      "execution_count": 8,
      "outputs": [
        {
          "output_type": "stream",
          "name": "stdout",
          "text": [
            "Trial 10 Complete [00h 00m 04s]\n",
            "val_accuracy: 0.852173924446106\n",
            "\n",
            "Best val_accuracy So Far: 0.8782608509063721\n",
            "Total elapsed time: 00h 00m 56s\n",
            "INFO:tensorflow:Oracle triggered exit\n",
            "Epoch 1/10\n",
            "20/20 [==============================] - 1s 5ms/step - loss: 0.7419 - accuracy: 0.4896\n",
            "Epoch 2/10\n",
            "20/20 [==============================] - 0s 5ms/step - loss: 0.6286 - accuracy: 0.6842\n",
            "Epoch 3/10\n",
            "20/20 [==============================] - 0s 7ms/step - loss: 0.5636 - accuracy: 0.7815\n",
            "Epoch 4/10\n",
            "20/20 [==============================] - 0s 5ms/step - loss: 0.5144 - accuracy: 0.8086\n",
            "Epoch 5/10\n",
            "20/20 [==============================] - 0s 3ms/step - loss: 0.4768 - accuracy: 0.8150\n",
            "Epoch 6/10\n",
            "20/20 [==============================] - 0s 3ms/step - loss: 0.4509 - accuracy: 0.8166\n",
            "Epoch 7/10\n",
            "20/20 [==============================] - 0s 4ms/step - loss: 0.4348 - accuracy: 0.8214\n",
            "Epoch 8/10\n",
            "20/20 [==============================] - 0s 3ms/step - loss: 0.4252 - accuracy: 0.8150\n",
            "Epoch 9/10\n",
            "20/20 [==============================] - 0s 4ms/step - loss: 0.4193 - accuracy: 0.8198\n",
            "Epoch 10/10\n",
            "20/20 [==============================] - 0s 4ms/step - loss: 0.4149 - accuracy: 0.8214\n",
            "INFO:tensorflow:Assets written to: ./structured_data_classifier/best_model/assets\n",
            "9/9 [==============================] - 0s 3ms/step\n",
            "9/9 [==============================] - 0s 2ms/step - loss: 0.4396 - accuracy: 0.7841\n",
            "[0.4395553171634674, 0.7840909361839294]\n"
          ]
        }
      ]
    },
    {
      "cell_type": "markdown",
      "source": [
        "##Validation Data"
      ],
      "metadata": {
        "id": "tHM3WYHi3YbL"
      }
    },
    {
      "cell_type": "markdown",
      "source": [
        "By default, AutoKeras use the last 20% of training data as validation data.  As\n",
        "shown in the example below, you can use `validation_split` to specify the\n",
        "percentage."
      ],
      "metadata": {
        "id": "Er4tHOG_3awW"
      }
    },
    {
      "cell_type": "code",
      "source": [
        "clf.fit(\n",
        "    x_train,\n",
        "    y_train,\n",
        "    # Split the training data and use the last 15% as validation data.\n",
        "    validation_split=0.15,\n",
        "    epochs=10,\n",
        ")"
      ],
      "metadata": {
        "id": "Vzpw4xXV3bJI"
      },
      "execution_count": null,
      "outputs": []
    },
    {
      "cell_type": "markdown",
      "source": [
        "You can also use your own validation set\n",
        "instead of splitting it from the training data with `validation_data`.\n"
      ],
      "metadata": {
        "id": "eu1ZPsx93d2m"
      }
    },
    {
      "cell_type": "code",
      "source": [
        "split = 500\n",
        "x_val = x_train[split:]\n",
        "y_val = y_train[split:]\n",
        "x_train = x_train[:split]\n",
        "y_train = y_train[:split]\n",
        "\n",
        "clf.fit(\n",
        "    x_train,\n",
        "    y_train,\n",
        "    # Use your own validation set.\n",
        "    validation_data=(x_val, y_val),\n",
        "    epochs=10,\n",
        ")"
      ],
      "metadata": {
        "id": "635ZKI9u3fsW"
      },
      "execution_count": null,
      "outputs": []
    },
    {
      "cell_type": "markdown",
      "source": [
        "## Customized Search Space"
      ],
      "metadata": {
        "id": "zgrNe3ZK3mDv"
      }
    },
    {
      "cell_type": "markdown",
      "source": [
        "For advanced users, you may customize your search space by using\n",
        "[AutoModel](/auto_model/#automodel-class) instead of\n",
        "[StructuredDataClassifier](/structured_data_classifier). You can configure the\n",
        "[StructuredDataBlock](/block/#structureddatablock-class) for some high-level\n",
        "configurations, e.g., `categorical_encoding` for whether to use the\n",
        "[CategoricalToNumerical](/block/#categoricaltonumerical-class). \n",
        "\n",
        "You can also do\n",
        "not specify these arguments, which would leave the different choices to be\n",
        "tuned automatically. See the following example for detail."
      ],
      "metadata": {
        "id": "qo0g80Iq3mcH"
      }
    },
    {
      "cell_type": "code",
      "source": [
        "input_node = ak.StructuredDataInput()\n",
        "output_node = ak.StructuredDataBlock(categorical_encoding=True)(input_node)\n",
        "output_node = ak.ClassificationHead()(output_node)\n",
        "\n",
        "clf = ak.AutoModel(inputs=input_node, outputs=output_node, overwrite=True, max_trials=3)\n",
        "clf.fit(x_train, y_train, epochs=10)"
      ],
      "metadata": {
        "colab": {
          "base_uri": "https://localhost:8080/"
        },
        "id": "wHb4teMI3vve",
        "outputId": "c8d06d12-279f-4156-e1fc-cda6f627a4c9"
      },
      "execution_count": 9,
      "outputs": [
        {
          "output_type": "stream",
          "name": "stdout",
          "text": [
            "Trial 3 Complete [00h 00m 05s]\n",
            "val_loss: 0.5440530180931091\n",
            "\n",
            "Best val_loss So Far: 0.5440530180931091\n",
            "Total elapsed time: 00h 00m 17s\n",
            "INFO:tensorflow:Oracle triggered exit\n",
            "Epoch 1/10\n",
            "20/20 [==============================] - 1s 3ms/step - loss: 4.7092 - accuracy: 0.4386\n",
            "Epoch 2/10\n",
            "20/20 [==============================] - 0s 3ms/step - loss: 2.2662 - accuracy: 0.5183\n",
            "Epoch 3/10\n",
            "20/20 [==============================] - 0s 4ms/step - loss: 1.4314 - accuracy: 0.5789\n",
            "Epoch 4/10\n",
            "20/20 [==============================] - 0s 6ms/step - loss: 0.8486 - accuracy: 0.5933\n",
            "Epoch 5/10\n",
            "20/20 [==============================] - 0s 4ms/step - loss: 0.7412 - accuracy: 0.5710\n",
            "Epoch 6/10\n",
            "20/20 [==============================] - 0s 3ms/step - loss: 0.7244 - accuracy: 0.6045\n",
            "Epoch 7/10\n",
            "20/20 [==============================] - 0s 4ms/step - loss: 0.6659 - accuracy: 0.6013\n",
            "Epoch 8/10\n",
            "20/20 [==============================] - 0s 4ms/step - loss: 0.6785 - accuracy: 0.5981\n",
            "Epoch 9/10\n",
            "20/20 [==============================] - 0s 4ms/step - loss: 0.6516 - accuracy: 0.6220\n",
            "Epoch 10/10\n",
            "20/20 [==============================] - 0s 3ms/step - loss: 0.6574 - accuracy: 0.6172\n",
            "INFO:tensorflow:Assets written to: ./auto_model/best_model/assets\n"
          ]
        },
        {
          "output_type": "execute_result",
          "data": {
            "text/plain": [
              "<tensorflow.python.keras.callbacks.History at 0x7f24d54cd850>"
            ]
          },
          "metadata": {},
          "execution_count": 9
        }
      ]
    },
    {
      "cell_type": "markdown",
      "source": [
        "The usage of [AutoModel](/auto_model/#automodel-class) is similar to the\n",
        "[functional API](https://www.tensorflow.org/guide/keras/functional) of Keras.\n",
        "Basically, you are building a graph, whose edges are blocks and the nodes are\n",
        "intermediate outputs of blocks.\n",
        "To add an edge from `input_node` to `output_node` with\n",
        "`output_node = ak.[some_block]([block_args])(input_node)`.\n",
        "\n",
        "You can even also use more fine grained blocks to customize the search space even\n",
        "further. See the following example.\n"
      ],
      "metadata": {
        "id": "lTkDpBRs4bkp"
      }
    },
    {
      "cell_type": "code",
      "source": [
        "input_node = ak.StructuredDataInput()\n",
        "output_node = ak.CategoricalToNumerical()(input_node)\n",
        "output_node = ak.DenseBlock()(output_node)\n",
        "output_node = ak.ClassificationHead()(output_node)\n",
        "\n",
        "clf = ak.AutoModel(inputs=input_node, outputs=output_node, overwrite=True, max_trials=3)\n",
        "clf.fit(x_train, y_train, epochs=10)"
      ],
      "metadata": {
        "colab": {
          "base_uri": "https://localhost:8080/"
        },
        "id": "C6xj76cm4cMq",
        "outputId": "7ae503d3-02b5-49ef-da75-3a800b40afd3"
      },
      "execution_count": 10,
      "outputs": [
        {
          "output_type": "stream",
          "name": "stdout",
          "text": [
            "Trial 3 Complete [00h 00m 03s]\n",
            "val_loss: 2.928130865097046\n",
            "\n",
            "Best val_loss So Far: 0.5403491854667664\n",
            "Total elapsed time: 00h 00m 09s\n",
            "INFO:tensorflow:Oracle triggered exit\n",
            "Epoch 1/10\n",
            "20/20 [==============================] - 0s 2ms/step - loss: 0.7917 - accuracy: 0.6252\n",
            "Epoch 2/10\n",
            "20/20 [==============================] - 0s 2ms/step - loss: 0.6565 - accuracy: 0.6443\n",
            "Epoch 3/10\n",
            "20/20 [==============================] - 0s 2ms/step - loss: 0.6302 - accuracy: 0.6715\n",
            "Epoch 4/10\n",
            "20/20 [==============================] - 0s 2ms/step - loss: 0.6216 - accuracy: 0.6794\n",
            "Epoch 5/10\n",
            "20/20 [==============================] - 0s 2ms/step - loss: 0.6208 - accuracy: 0.6794\n",
            "Epoch 6/10\n",
            "20/20 [==============================] - 0s 2ms/step - loss: 0.6184 - accuracy: 0.6810\n",
            "Epoch 7/10\n",
            "20/20 [==============================] - 0s 2ms/step - loss: 0.6134 - accuracy: 0.6826\n",
            "Epoch 8/10\n",
            "20/20 [==============================] - 0s 2ms/step - loss: 0.6086 - accuracy: 0.6890\n",
            "Epoch 9/10\n",
            "20/20 [==============================] - 0s 2ms/step - loss: 0.6041 - accuracy: 0.6922\n",
            "Epoch 10/10\n",
            "20/20 [==============================] - 0s 2ms/step - loss: 0.6000 - accuracy: 0.6970\n",
            "INFO:tensorflow:Assets written to: ./auto_model/best_model/assets\n"
          ]
        },
        {
          "output_type": "execute_result",
          "data": {
            "text/plain": [
              "<tensorflow.python.keras.callbacks.History at 0x7f24d50df7d0>"
            ]
          },
          "metadata": {},
          "execution_count": 10
        }
      ]
    },
    {
      "cell_type": "markdown",
      "source": [
        "You can also export the best model found by AutoKeras as a Keras Model.\n"
      ],
      "metadata": {
        "id": "3x5cdzwH46yF"
      }
    },
    {
      "cell_type": "code",
      "source": [
        "model = clf.export_model()\n",
        "model.summary()\n",
        "print(x_train.dtype)\n",
        "# numpy array in object (mixed type) is not supported.\n",
        "# convert it to unicode.\n",
        "model.predict(x_train.astype(np.unicode))"
      ],
      "metadata": {
        "colab": {
          "base_uri": "https://localhost:8080/"
        },
        "id": "QbXV_3i445uc",
        "outputId": "dce31966-5e11-42fe-f502-c2f56f3c8fa6"
      },
      "execution_count": 11,
      "outputs": [
        {
          "output_type": "stream",
          "name": "stdout",
          "text": [
            "Model: \"model\"\n",
            "_________________________________________________________________\n",
            "Layer (type)                 Output Shape              Param #   \n",
            "=================================================================\n",
            "input_1 (InputLayer)         [(None, 9)]               0         \n",
            "_________________________________________________________________\n",
            "multi_category_encoding (Mul (None, 9)                 0         \n",
            "_________________________________________________________________\n",
            "dense (Dense)                (None, 32)                320       \n",
            "_________________________________________________________________\n",
            "re_lu (ReLU)                 (None, 32)                0         \n",
            "_________________________________________________________________\n",
            "dense_1 (Dense)              (None, 1)                 33        \n",
            "_________________________________________________________________\n",
            "classification_head_1 (Activ (None, 1)                 0         \n",
            "=================================================================\n",
            "Total params: 353\n",
            "Trainable params: 353\n",
            "Non-trainable params: 0\n",
            "_________________________________________________________________\n",
            "object\n"
          ]
        },
        {
          "output_type": "execute_result",
          "data": {
            "text/plain": [
              "array([[0.27231562],\n",
              "       [0.74572015],\n",
              "       [0.28487468],\n",
              "       [0.6546192 ],\n",
              "       [0.29729486],\n",
              "       [0.4176831 ],\n",
              "       [0.29402003],\n",
              "       [0.6870272 ],\n",
              "       [0.74572766],\n",
              "       [0.35479733],\n",
              "       [0.34603217],\n",
              "       [0.46819496],\n",
              "       [0.61613905],\n",
              "       [0.3424906 ],\n",
              "       [0.4147718 ],\n",
              "       [0.26552534],\n",
              "       [0.5814375 ],\n",
              "       [0.77132523],\n",
              "       [0.36426476],\n",
              "       [0.27478027],\n",
              "       [0.9129101 ],\n",
              "       [0.2860205 ],\n",
              "       [0.26359868],\n",
              "       [0.59860706],\n",
              "       [0.92004037],\n",
              "       [0.28223622],\n",
              "       [0.03853047],\n",
              "       [0.7456721 ],\n",
              "       [0.55836666],\n",
              "       [0.27484316],\n",
              "       [0.5695276 ],\n",
              "       [0.13000727],\n",
              "       [0.56315655],\n",
              "       [0.2817968 ],\n",
              "       [0.7049523 ],\n",
              "       [0.2643512 ],\n",
              "       [0.4588064 ],\n",
              "       [0.4968613 ],\n",
              "       [0.5157281 ],\n",
              "       [0.5044556 ],\n",
              "       [0.81126297],\n",
              "       [0.5726882 ],\n",
              "       [0.6305123 ],\n",
              "       [0.65583694],\n",
              "       [0.4636627 ],\n",
              "       [0.26865113],\n",
              "       [0.35198563],\n",
              "       [0.355553  ],\n",
              "       [0.8844279 ],\n",
              "       [0.68960863],\n",
              "       [0.38711315],\n",
              "       [0.4006703 ],\n",
              "       [0.38218623],\n",
              "       [0.16771287],\n",
              "       [0.21937537],\n",
              "       [0.23478386],\n",
              "       [0.7678076 ],\n",
              "       [0.64937484],\n",
              "       [0.6183734 ],\n",
              "       [0.26359868],\n",
              "       [0.2643512 ],\n",
              "       [0.61665   ],\n",
              "       [0.2854077 ],\n",
              "       [0.34335726],\n",
              "       [0.26821297],\n",
              "       [0.28333148],\n",
              "       [0.6534295 ],\n",
              "       [0.3647228 ],\n",
              "       [0.2643512 ],\n",
              "       [0.9248488 ],\n",
              "       [0.31722987],\n",
              "       [0.6909217 ],\n",
              "       [0.03688633],\n",
              "       [0.2643512 ],\n",
              "       [0.3060297 ],\n",
              "       [0.8238132 ],\n",
              "       [0.5371449 ],\n",
              "       [0.5223237 ],\n",
              "       [0.25965542],\n",
              "       [0.26359868],\n",
              "       [0.826401  ],\n",
              "       [0.2130872 ],\n",
              "       [0.12016043],\n",
              "       [0.26359868],\n",
              "       [0.26301014],\n",
              "       [0.6255672 ],\n",
              "       [0.64166874],\n",
              "       [0.5799771 ],\n",
              "       [0.3422439 ],\n",
              "       [0.62972414],\n",
              "       [0.3472404 ],\n",
              "       [0.01452374],\n",
              "       [0.5240058 ],\n",
              "       [0.95149803],\n",
              "       [0.2643512 ],\n",
              "       [0.5912213 ],\n",
              "       [0.40619034],\n",
              "       [0.2822485 ],\n",
              "       [0.30836093],\n",
              "       [0.10437334],\n",
              "       [0.35138112],\n",
              "       [0.11022758],\n",
              "       [0.5881674 ],\n",
              "       [0.6723183 ],\n",
              "       [0.6221303 ],\n",
              "       [0.46884534],\n",
              "       [0.8445635 ],\n",
              "       [0.44795328],\n",
              "       [0.33553553],\n",
              "       [0.4002257 ],\n",
              "       [0.53448755],\n",
              "       [0.49044585],\n",
              "       [0.09331283],\n",
              "       [0.05888742],\n",
              "       [0.20901585],\n",
              "       [0.2602489 ],\n",
              "       [0.5979672 ],\n",
              "       [0.5174299 ],\n",
              "       [0.27125674],\n",
              "       [0.41137433],\n",
              "       [0.17242071],\n",
              "       [0.28676784],\n",
              "       [0.43054676],\n",
              "       [0.5233988 ],\n",
              "       [0.7425076 ],\n",
              "       [0.663226  ],\n",
              "       [0.6025545 ],\n",
              "       [0.30947   ],\n",
              "       [0.32827595],\n",
              "       [0.49906895],\n",
              "       [0.2987904 ],\n",
              "       [0.0539    ],\n",
              "       [0.4263743 ],\n",
              "       [0.47108272],\n",
              "       [0.421593  ],\n",
              "       [0.54624116],\n",
              "       [0.47581887],\n",
              "       [0.444964  ],\n",
              "       [0.18177944],\n",
              "       [0.2884064 ],\n",
              "       [0.33535165],\n",
              "       [0.79105127],\n",
              "       [0.6700104 ],\n",
              "       [0.9038056 ],\n",
              "       [0.2822485 ],\n",
              "       [0.28223622],\n",
              "       [0.48542106],\n",
              "       [0.2810353 ],\n",
              "       [0.41137433],\n",
              "       [0.18519339],\n",
              "       [0.7735172 ],\n",
              "       [0.29784873],\n",
              "       [0.5966071 ],\n",
              "       [0.5184156 ],\n",
              "       [0.77003443],\n",
              "       [0.51473564],\n",
              "       [0.33525497],\n",
              "       [0.25304377],\n",
              "       [0.9074997 ],\n",
              "       [0.2722995 ],\n",
              "       [0.48748046],\n",
              "       [0.24924055],\n",
              "       [0.4306072 ],\n",
              "       [0.08027843],\n",
              "       [0.3544687 ],\n",
              "       [0.47706032],\n",
              "       [0.34902713],\n",
              "       [0.5829681 ],\n",
              "       [0.34179288],\n",
              "       [0.74744546],\n",
              "       [0.25161722],\n",
              "       [0.06140673],\n",
              "       [0.25468868],\n",
              "       [0.37079066],\n",
              "       [0.47706032],\n",
              "       [0.23820147],\n",
              "       [0.39350662],\n",
              "       [0.47581887],\n",
              "       [0.33426344],\n",
              "       [0.25055403],\n",
              "       [0.7741133 ],\n",
              "       [0.5012319 ],\n",
              "       [0.25934517],\n",
              "       [0.5603359 ],\n",
              "       [0.35047972],\n",
              "       [0.29064363],\n",
              "       [0.8054005 ],\n",
              "       [0.9955666 ],\n",
              "       [0.30791909],\n",
              "       [0.2822485 ],\n",
              "       [0.44548145],\n",
              "       [0.06412461],\n",
              "       [0.28223622],\n",
              "       [0.19223633],\n",
              "       [0.4680145 ],\n",
              "       [0.25951672],\n",
              "       [0.84145534],\n",
              "       [0.8872928 ],\n",
              "       [0.60113657],\n",
              "       [0.14813057],\n",
              "       [0.28926012],\n",
              "       [0.584989  ],\n",
              "       [0.28223622],\n",
              "       [0.730018  ],\n",
              "       [0.10692406],\n",
              "       [0.13665187],\n",
              "       [0.5896501 ],\n",
              "       [0.38611808],\n",
              "       [0.2633959 ],\n",
              "       [0.4782471 ],\n",
              "       [0.7437208 ],\n",
              "       [0.7755134 ],\n",
              "       [0.44789612],\n",
              "       [0.31528202],\n",
              "       [0.63997334],\n",
              "       [0.9700774 ],\n",
              "       [0.28223622],\n",
              "       [0.22605559],\n",
              "       [0.58234614],\n",
              "       [0.2643512 ],\n",
              "       [0.86542594],\n",
              "       [0.8644288 ],\n",
              "       [0.58018863],\n",
              "       [0.82679486],\n",
              "       [0.846689  ],\n",
              "       [0.95256835],\n",
              "       [0.55036044],\n",
              "       [0.26359868],\n",
              "       [0.41467905],\n",
              "       [0.59135944],\n",
              "       [0.8928445 ],\n",
              "       [0.8953352 ],\n",
              "       [0.33525497],\n",
              "       [0.27533436],\n",
              "       [0.57798016],\n",
              "       [0.41137433],\n",
              "       [0.90504247],\n",
              "       [0.02323705],\n",
              "       [0.43459472],\n",
              "       [0.5817376 ],\n",
              "       [0.86329395],\n",
              "       [0.8479259 ],\n",
              "       [0.26359868],\n",
              "       [0.69193876],\n",
              "       [0.11374411],\n",
              "       [0.5527542 ],\n",
              "       [0.3424906 ],\n",
              "       [0.41671002],\n",
              "       [0.21512377],\n",
              "       [0.68989223],\n",
              "       [0.18125048],\n",
              "       [0.4155238 ],\n",
              "       [0.38185957],\n",
              "       [0.473017  ],\n",
              "       [0.27478018],\n",
              "       [0.28103518],\n",
              "       [0.76066613],\n",
              "       [0.20114604],\n",
              "       [0.2860205 ],\n",
              "       [0.2860205 ],\n",
              "       [0.3063098 ],\n",
              "       [0.59629786],\n",
              "       [0.15912473],\n",
              "       [0.18205902],\n",
              "       [0.4588064 ],\n",
              "       [0.77841383],\n",
              "       [0.26558685],\n",
              "       [0.28223622],\n",
              "       [0.8439741 ],\n",
              "       [0.28873754],\n",
              "       [0.37824783],\n",
              "       [0.77010095],\n",
              "       [0.92513645],\n",
              "       [0.36832017],\n",
              "       [0.9598913 ],\n",
              "       [0.22009566],\n",
              "       [0.26359868],\n",
              "       [0.7759172 ],\n",
              "       [0.39990819],\n",
              "       [0.28165022],\n",
              "       [0.62887335],\n",
              "       [0.79775095],\n",
              "       [0.34708816],\n",
              "       [0.9173065 ],\n",
              "       [0.6727089 ],\n",
              "       [0.34194627],\n",
              "       [0.22467571],\n",
              "       [0.3910292 ],\n",
              "       [0.37041426],\n",
              "       [0.15617293],\n",
              "       [0.29002064],\n",
              "       [0.38853866],\n",
              "       [0.44913393],\n",
              "       [0.5831727 ],\n",
              "       [0.34706354],\n",
              "       [0.34179288],\n",
              "       [0.26359868],\n",
              "       [0.2573048 ],\n",
              "       [0.13665187],\n",
              "       [0.11921611],\n",
              "       [0.26189053],\n",
              "       [0.54371697],\n",
              "       [0.53066796],\n",
              "       [0.2987904 ],\n",
              "       [0.2817968 ],\n",
              "       [0.3921314 ],\n",
              "       [0.46736717],\n",
              "       [0.66800755],\n",
              "       [0.2822485 ],\n",
              "       [0.37141705],\n",
              "       [0.6270906 ],\n",
              "       [0.4155238 ],\n",
              "       [0.46500468],\n",
              "       [0.39229262],\n",
              "       [0.6583732 ],\n",
              "       [0.8386277 ],\n",
              "       [0.33730412],\n",
              "       [0.92520773],\n",
              "       [0.2451641 ],\n",
              "       [0.38925263],\n",
              "       [0.40751356],\n",
              "       [0.3836199 ],\n",
              "       [0.26495248],\n",
              "       [0.5637243 ],\n",
              "       [0.5531694 ],\n",
              "       [0.47275558],\n",
              "       [0.45983478],\n",
              "       [0.67102265],\n",
              "       [0.7353041 ],\n",
              "       [0.2698881 ],\n",
              "       [0.1637859 ],\n",
              "       [0.7593439 ],\n",
              "       [0.51203626],\n",
              "       [0.20081368],\n",
              "       [0.6633009 ],\n",
              "       [0.2643512 ],\n",
              "       [0.15575027],\n",
              "       [0.16059124],\n",
              "       [0.28152955],\n",
              "       [0.57013446],\n",
              "       [0.25934517],\n",
              "       [0.48653042],\n",
              "       [0.6521927 ],\n",
              "       [0.8141266 ],\n",
              "       [0.44913393],\n",
              "       [0.20959294],\n",
              "       [0.55822766],\n",
              "       [0.35941815],\n",
              "       [0.13665187],\n",
              "       [0.0417681 ],\n",
              "       [0.83056426],\n",
              "       [0.34179282],\n",
              "       [0.76419103],\n",
              "       [0.33158743],\n",
              "       [0.4867392 ],\n",
              "       [0.4696713 ],\n",
              "       [0.5100007 ],\n",
              "       [0.34738782],\n",
              "       [0.86820436],\n",
              "       [0.43054676],\n",
              "       [0.38596016],\n",
              "       [0.17893139],\n",
              "       [0.8484111 ],\n",
              "       [0.5182322 ],\n",
              "       [0.58620644],\n",
              "       [0.6700491 ],\n",
              "       [0.62080926],\n",
              "       [0.31026107],\n",
              "       [0.726171  ],\n",
              "       [0.56570315],\n",
              "       [0.5477576 ],\n",
              "       [0.21996984],\n",
              "       [0.8489101 ],\n",
              "       [0.34206337],\n",
              "       [0.7179669 ],\n",
              "       [0.27484316],\n",
              "       [0.13620526],\n",
              "       [0.09722412],\n",
              "       [0.93759274],\n",
              "       [0.30806464],\n",
              "       [0.6422701 ],\n",
              "       [0.3437628 ],\n",
              "       [0.51438755],\n",
              "       [0.24425876],\n",
              "       [0.6167081 ],\n",
              "       [0.5440919 ],\n",
              "       [0.8542569 ],\n",
              "       [0.73427385],\n",
              "       [0.7055433 ],\n",
              "       [0.43625143],\n",
              "       [0.42829254],\n",
              "       [0.7768285 ],\n",
              "       [0.6097714 ],\n",
              "       [0.40335202],\n",
              "       [0.4201916 ],\n",
              "       [0.8365924 ],\n",
              "       [0.60900843],\n",
              "       [0.28430277],\n",
              "       [0.33595473],\n",
              "       [0.7359805 ],\n",
              "       [0.9443259 ],\n",
              "       [0.7506093 ],\n",
              "       [0.27296913],\n",
              "       [0.2822485 ],\n",
              "       [0.1478258 ],\n",
              "       [0.2643512 ],\n",
              "       [0.45895833],\n",
              "       [0.372668  ],\n",
              "       [0.36616802],\n",
              "       [0.21979049],\n",
              "       [0.04824692],\n",
              "       [0.5381209 ],\n",
              "       [0.66215974],\n",
              "       [0.4306072 ],\n",
              "       [0.24570653],\n",
              "       [0.56995624],\n",
              "       [0.80459696],\n",
              "       [0.13239256],\n",
              "       [0.68242764],\n",
              "       [0.2643512 ],\n",
              "       [0.18290028],\n",
              "       [0.8075136 ],\n",
              "       [0.09467116],\n",
              "       [0.2516398 ],\n",
              "       [0.5119379 ],\n",
              "       [0.41654998],\n",
              "       [0.65889716],\n",
              "       [0.01595089],\n",
              "       [0.27478027],\n",
              "       [0.7723634 ],\n",
              "       [0.61046124],\n",
              "       [0.214932  ],\n",
              "       [0.24111155],\n",
              "       [0.6031484 ],\n",
              "       [0.6409057 ],\n",
              "       [0.9033154 ],\n",
              "       [0.36010742],\n",
              "       [0.25646716],\n",
              "       [0.47581887],\n",
              "       [0.19141519],\n",
              "       [0.6610211 ],\n",
              "       [0.22285372],\n",
              "       [0.30292556],\n",
              "       [0.5055078 ],\n",
              "       [0.4509569 ],\n",
              "       [0.0712297 ],\n",
              "       [0.8726498 ],\n",
              "       [0.28816944],\n",
              "       [0.28176808],\n",
              "       [0.12577894],\n",
              "       [0.07030815],\n",
              "       [0.70937735],\n",
              "       [0.38250902],\n",
              "       [0.3836199 ],\n",
              "       [0.22009566],\n",
              "       [0.42432368],\n",
              "       [0.39602602],\n",
              "       [0.35233516],\n",
              "       [0.663226  ],\n",
              "       [0.57013446],\n",
              "       [0.7991395 ],\n",
              "       [0.26191622],\n",
              "       [0.31845748],\n",
              "       [0.26359868],\n",
              "       [0.5947476 ],\n",
              "       [0.34784   ],\n",
              "       [0.69239   ],\n",
              "       [0.26359868],\n",
              "       [0.35623378],\n",
              "       [0.76163983],\n",
              "       [0.49916026],\n",
              "       [0.17777154],\n",
              "       [0.2956212 ],\n",
              "       [0.41671002],\n",
              "       [0.26301014],\n",
              "       [0.1269835 ],\n",
              "       [0.5451107 ],\n",
              "       [0.6786147 ],\n",
              "       [0.27823654],\n",
              "       [0.13665187],\n",
              "       [0.39212134],\n",
              "       [0.45332843],\n",
              "       [0.995101  ],\n",
              "       [0.87611693],\n",
              "       [0.3973086 ],\n",
              "       [0.3409713 ],\n",
              "       [0.3967508 ],\n",
              "       [0.44001934],\n",
              "       [0.39288682],\n",
              "       [0.92772067],\n",
              "       [0.6935907 ],\n",
              "       [0.61665744],\n",
              "       [0.663226  ],\n",
              "       [0.11950523],\n",
              "       [0.2817493 ],\n",
              "       [0.76897526],\n",
              "       [0.6648253 ],\n",
              "       [0.32721466],\n",
              "       [0.56944203],\n",
              "       [0.8905024 ],\n",
              "       [0.4006703 ],\n",
              "       [0.77569354],\n",
              "       [0.6270906 ],\n",
              "       [0.57796466],\n",
              "       [0.2680214 ],\n",
              "       [0.6299481 ],\n",
              "       [0.9635786 ],\n",
              "       [0.46061483],\n",
              "       [0.52072746],\n",
              "       [0.20940757],\n",
              "       [0.66972744],\n",
              "       [0.10124269],\n",
              "       [0.72803545],\n",
              "       [0.35768455],\n",
              "       [0.55502987],\n",
              "       [0.25771004],\n",
              "       [0.95022476],\n",
              "       [0.65037835],\n",
              "       [0.13665187],\n",
              "       [0.47875372],\n",
              "       [0.47875372],\n",
              "       [0.99620277],\n",
              "       [0.26359868],\n",
              "       [0.26359868],\n",
              "       [0.70518804],\n",
              "       [0.95306444],\n",
              "       [0.4726405 ],\n",
              "       [0.56513095],\n",
              "       [0.6251272 ],\n",
              "       [0.6285996 ],\n",
              "       [0.22076526],\n",
              "       [0.32934183],\n",
              "       [0.57264346],\n",
              "       [0.26311147],\n",
              "       [0.20081368],\n",
              "       [0.39870566],\n",
              "       [0.13327697],\n",
              "       [0.3848175 ],\n",
              "       [0.7666162 ],\n",
              "       [0.6761967 ],\n",
              "       [0.5957985 ],\n",
              "       [0.22198775],\n",
              "       [0.09487525],\n",
              "       [0.13298365],\n",
              "       [0.39120218],\n",
              "       [0.6631779 ],\n",
              "       [0.60784245],\n",
              "       [0.7561379 ],\n",
              "       [0.7259014 ],\n",
              "       [0.39847338],\n",
              "       [0.29386678],\n",
              "       [0.49511716],\n",
              "       [0.7949182 ],\n",
              "       [0.2822485 ],\n",
              "       [0.64840233],\n",
              "       [0.4263743 ],\n",
              "       [0.6485095 ],\n",
              "       [0.30155265],\n",
              "       [0.18469581],\n",
              "       [0.534079  ],\n",
              "       [0.23351446],\n",
              "       [0.2506132 ],\n",
              "       [0.4498362 ],\n",
              "       [0.23467603],\n",
              "       [0.5312112 ],\n",
              "       [0.81254065],\n",
              "       [0.22983325],\n",
              "       [0.12783933],\n",
              "       [0.18469581],\n",
              "       [0.72091705],\n",
              "       [0.28806993],\n",
              "       [0.49428132],\n",
              "       [0.20229188],\n",
              "       [0.23639748],\n",
              "       [0.17940277],\n",
              "       [0.32460827],\n",
              "       [0.5905829 ],\n",
              "       [0.36429822],\n",
              "       [0.72546965],\n",
              "       [0.28416795],\n",
              "       [0.52470475],\n",
              "       [0.2598023 ],\n",
              "       [0.663226  ],\n",
              "       [0.2822485 ],\n",
              "       [0.5780008 ],\n",
              "       [0.27484316],\n",
              "       [0.32880533],\n",
              "       [0.41159254],\n",
              "       [0.80429775],\n",
              "       [0.3533097 ],\n",
              "       [0.2643512 ],\n",
              "       [0.68366   ],\n",
              "       [0.541766  ],\n",
              "       [0.67243993],\n",
              "       [0.18054497],\n",
              "       [0.12977907],\n",
              "       [0.41137433],\n",
              "       [0.2045469 ],\n",
              "       [0.5587222 ],\n",
              "       [0.814168  ],\n",
              "       [0.44104016],\n",
              "       [0.75863755],\n",
              "       [0.42691237],\n",
              "       [0.85440135],\n",
              "       [0.43281958],\n",
              "       [0.39589956],\n",
              "       [0.14118776],\n",
              "       [0.4569139 ],\n",
              "       [0.16292116],\n",
              "       [0.42131126],\n",
              "       [0.8029109 ],\n",
              "       [0.48814014],\n",
              "       [0.28816938],\n",
              "       [0.66412336],\n",
              "       [0.26705745],\n",
              "       [0.10598111],\n",
              "       [0.6193715 ],\n",
              "       [0.47176054],\n",
              "       [0.42045888],\n",
              "       [0.372668  ],\n",
              "       [0.26359868],\n",
              "       [0.41366673],\n",
              "       [0.26236135],\n",
              "       [0.29386678],\n",
              "       [0.7151511 ],\n",
              "       [0.4133336 ],\n",
              "       [0.22692388]], dtype=float32)"
            ]
          },
          "metadata": {},
          "execution_count": 11
        }
      ]
    },
    {
      "cell_type": "markdown",
      "source": [
        "## Reference"
      ],
      "metadata": {
        "id": "x8eaKGL55HIT"
      }
    },
    {
      "cell_type": "markdown",
      "source": [
        "[StructuredDataClassifier](/structured_data_classifier),\n",
        "\n",
        "[AutoModel](/auto_model/#automodel-class),\n",
        "\n",
        "[StructuredDataBlock](/block/#structureddatablock-class),\n",
        "\n",
        "[DenseBlock](/block/#denseblock-class),\n",
        "\n",
        "[StructuredDataInput](/node/#structureddatainput-class),\n",
        "\n",
        "[ClassificationHead](/block/#classificationhead-class),\n",
        "\n",
        "[CategoricalToNumerical](/block/#categoricaltonumerical-class).\n"
      ],
      "metadata": {
        "id": "RazcYciR5JLM"
      }
    }
  ]
}