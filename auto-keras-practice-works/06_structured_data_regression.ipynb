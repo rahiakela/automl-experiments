{
  "nbformat": 4,
  "nbformat_minor": 0,
  "metadata": {
    "colab": {
      "name": "06-structured-data-regression.ipynb",
      "provenance": [],
      "toc_visible": true,
      "authorship_tag": "ABX9TyPU24xNCteGNO1yoP9KNL3T",
      "include_colab_link": true
    },
    "kernelspec": {
      "name": "python3",
      "display_name": "Python 3"
    },
    "language_info": {
      "name": "python"
    }
  },
  "cells": [
    {
      "cell_type": "markdown",
      "metadata": {
        "id": "view-in-github",
        "colab_type": "text"
      },
      "source": [
        "<a href=\"https://colab.research.google.com/github/rahiakela/automl-experiments/blob/main/auto-keras-practice-works/06_structured_data_regression.ipynb\" target=\"_parent\"><img src=\"https://colab.research.google.com/assets/colab-badge.svg\" alt=\"Open In Colab\"/></a>"
      ]
    },
    {
      "cell_type": "markdown",
      "source": [
        "##Structured Data Regression"
      ],
      "metadata": {
        "id": "3nWllSs0FpGU"
      }
    },
    {
      "cell_type": "markdown",
      "source": [
        "Reference:\n",
        "\n",
        "https://autokeras.com/tutorial/structured_data_regression/"
      ],
      "metadata": {
        "id": "cZKesRdVFpuk"
      }
    },
    {
      "cell_type": "markdown",
      "source": [
        "##Setup"
      ],
      "metadata": {
        "id": "fsdRxcbQFyzZ"
      }
    },
    {
      "cell_type": "code",
      "source": [
        "!pip -q install autokeras"
      ],
      "metadata": {
        "colab": {
          "base_uri": "https://localhost:8080/"
        },
        "id": "1jKVtrFtF0Xa",
        "outputId": "a017c4d1-3a3a-49ce-9552-5e3b9ecdd04d"
      },
      "execution_count": 1,
      "outputs": [
        {
          "output_type": "stream",
          "name": "stdout",
          "text": [
            "\u001b[K     |████████████████████████████████| 166 kB 4.1 MB/s \n",
            "\u001b[K     |████████████████████████████████| 454.4 MB 23 kB/s \n",
            "\u001b[K     |████████████████████████████████| 97 kB 6.2 MB/s \n",
            "\u001b[K     |████████████████████████████████| 462 kB 27.3 MB/s \n",
            "\u001b[K     |████████████████████████████████| 4.0 MB 28.1 MB/s \n",
            "\u001b[K     |████████████████████████████████| 1.2 MB 25.9 MB/s \n",
            "\u001b[?25h  Building wheel for wrapt (setup.py) ... \u001b[?25l\u001b[?25hdone\n"
          ]
        }
      ]
    },
    {
      "cell_type": "code",
      "source": [
        "import numpy as np\n",
        "import pandas as pd\n",
        "import tensorflow as tf\n",
        "from sklearn.datasets import fetch_california_housing\n",
        "\n",
        "import autokeras as ak"
      ],
      "metadata": {
        "id": "SMlsHBEWF36N"
      },
      "execution_count": 2,
      "outputs": []
    },
    {
      "cell_type": "markdown",
      "source": [
        "##A Simple Example"
      ],
      "metadata": {
        "id": "6KzTJLfIF_gz"
      }
    },
    {
      "cell_type": "markdown",
      "source": [
        "The first step is to prepare your data. Here we use the [California housing\n",
        "dataset](\n",
        "https://scikit-learn.org/stable/datasets/real_world.html#california-housing-dataset)\n",
        "as an example.\n"
      ],
      "metadata": {
        "id": "PX9fbq21GAGH"
      }
    },
    {
      "cell_type": "code",
      "source": [
        "house_dataset = fetch_california_housing()"
      ],
      "metadata": {
        "id": "6wVRH5MTGFrS"
      },
      "execution_count": 3,
      "outputs": []
    },
    {
      "cell_type": "code",
      "source": [
        "df = pd.DataFrame(np.concatenate((house_dataset.data, house_dataset.target.reshape(-1, 1)), axis=1), columns=house_dataset.feature_names + [\"Price\"])\n",
        "\n",
        "train_size = int(df.shape[0] * 0.9)\n",
        "df[: train_size].to_csv(\"train.csv\", index=False)\n",
        "df[: train_size].to_csv(\"eval.csv\", index=False)\n",
        "\n",
        "train_file_path = \"train.csv\"\n",
        "test_file_path = \"eval.csv\""
      ],
      "metadata": {
        "id": "8ZiNycgMGMzw"
      },
      "execution_count": 5,
      "outputs": []
    },
    {
      "cell_type": "markdown",
      "source": [
        "The second step is to run the\n",
        "[StructuredDataRegressor](/structured_data_regressor).\n",
        "As a quick demo, we set epochs to 10.\n",
        "You can also leave the epochs unspecified for an adaptive number of epochs.\n"
      ],
      "metadata": {
        "id": "Agl-_RfXHe4E"
      }
    },
    {
      "cell_type": "code",
      "source": [
        "# Initialize the structured data regressor\n",
        "reg = ak.StructuredDataRegressor(overwrite=True, max_trials=3)\n",
        "\n",
        "# Feed the structured data regressor with training data.\n",
        "reg.fit(\n",
        "    train_file_path,  # The path to the train.csv file\n",
        "    \"Price\",          #  The name of the label column\n",
        "    epochs=10\n",
        ")"
      ],
      "metadata": {
        "colab": {
          "base_uri": "https://localhost:8080/"
        },
        "id": "2_SviDYKHfQ-",
        "outputId": "eff94779-e222-43bf-9e4f-4c5c863932af"
      },
      "execution_count": 7,
      "outputs": [
        {
          "output_type": "stream",
          "name": "stdout",
          "text": [
            "Trial 3 Complete [00h 00m 21s]\n",
            "val_loss: 0.9433661103248596\n",
            "\n",
            "Best val_loss So Far: 0.9002568125724792\n",
            "Total elapsed time: 00h 01m 20s\n",
            "INFO:tensorflow:Oracle triggered exit\n",
            "Epoch 1/10\n",
            "581/581 [==============================] - 2s 2ms/step - loss: 1.2853 - mean_squared_error: 1.2853\n",
            "Epoch 2/10\n",
            "581/581 [==============================] - 1s 2ms/step - loss: 0.6597 - mean_squared_error: 0.6597\n",
            "Epoch 3/10\n",
            "581/581 [==============================] - 1s 2ms/step - loss: 0.5735 - mean_squared_error: 0.5735\n",
            "Epoch 4/10\n",
            "581/581 [==============================] - 1s 2ms/step - loss: 0.5381 - mean_squared_error: 0.5381\n",
            "Epoch 5/10\n",
            "581/581 [==============================] - 1s 2ms/step - loss: 0.5236 - mean_squared_error: 0.5236\n",
            "Epoch 6/10\n",
            "581/581 [==============================] - 1s 2ms/step - loss: 0.5171 - mean_squared_error: 0.5171\n",
            "Epoch 7/10\n",
            "581/581 [==============================] - 1s 2ms/step - loss: 0.5085 - mean_squared_error: 0.5085\n",
            "Epoch 8/10\n",
            "581/581 [==============================] - 1s 2ms/step - loss: 0.5044 - mean_squared_error: 0.5044\n",
            "Epoch 9/10\n",
            "581/581 [==============================] - 1s 2ms/step - loss: 0.4985 - mean_squared_error: 0.4985\n",
            "Epoch 10/10\n",
            "581/581 [==============================] - 1s 2ms/step - loss: 0.4921 - mean_squared_error: 0.4921\n",
            "INFO:tensorflow:Assets written to: ./structured_data_regressor/best_model/assets\n"
          ]
        },
        {
          "output_type": "execute_result",
          "data": {
            "text/plain": [
              "<tensorflow.python.keras.callbacks.History at 0x7f2c7c0132d0>"
            ]
          },
          "metadata": {},
          "execution_count": 7
        }
      ]
    },
    {
      "cell_type": "code",
      "source": [
        "# Predict with the best model\n",
        "predicted_y = reg.predict(test_file_path)\n",
        "# Evaluate the best model with testing data\n",
        "print(reg.evaluate(test_file_path, \"Price\"))"
      ],
      "metadata": {
        "colab": {
          "base_uri": "https://localhost:8080/"
        },
        "id": "fM0DRNF8H87I",
        "outputId": "c26f67dc-761b-4398-e43d-2aca5b4606d5"
      },
      "execution_count": 8,
      "outputs": [
        {
          "output_type": "stream",
          "name": "stdout",
          "text": [
            "581/581 [==============================] - 1s 1ms/step\n",
            "581/581 [==============================] - 1s 2ms/step - loss: 0.5979 - mean_squared_error: 0.5979\n",
            "[0.5979295372962952, 0.5979295372962952]\n"
          ]
        }
      ]
    },
    {
      "cell_type": "markdown",
      "source": [
        "##Data Format"
      ],
      "metadata": {
        "id": "TVhR-OLqIMZy"
      }
    },
    {
      "cell_type": "markdown",
      "source": [
        "The AutoKeras StructuredDataRegressor is quite flexible for the data format.\n",
        "\n",
        "The example above shows how to use the CSV files directly. Besides CSV files,\n",
        "it also supports numpy.ndarray, pandas.DataFrame or [tf.data.Dataset](\n",
        "https://www.tensorflow.org/api_docs/python/tf/data/Dataset?version=stable). The\n",
        "data should be two-dimensional with numerical or categorical values.\n",
        "\n",
        "For the regression targets, it should be a vector of numerical values.\n",
        "AutoKeras accepts `numpy.ndarray`, `pandas.DataFrame`, or `pandas.Series`.\n",
        "\n",
        "The following examples show how the data can be prepared with `numpy.ndarray`,\n",
        "`pandas.DataFrame`, and `tensorflow.data.Dataset`.\n"
      ],
      "metadata": {
        "id": "ZBVKwA4JINB3"
      }
    },
    {
      "cell_type": "code",
      "source": [
        "# x_train as pandas.DataFrame, y_train as pandas.Series\n",
        "x_train = pd.read_csv(train_file_path)\n",
        "print(type(x_train))  # pandas.DataFrame\n",
        "y_train = x_train.pop(\"Price\")\n",
        "print(type(y_train))  # pandas.Series\n",
        "\n",
        "# You can also use pandas.DataFrame for y_train.\n",
        "y_train = pd.DataFrame(y_train)\n",
        "print(type(y_train))  # pandas.DataFrame\n",
        "\n",
        "# You can also use numpy.ndarray for x_train and y_train.\n",
        "x_train = x_train.to_numpy()\n",
        "y_train = y_train.to_numpy()\n",
        "print(type(x_train))  # numpy.ndarray\n",
        "print(type(y_train))  # numpy.ndarray\n",
        "\n",
        "# Preparing testing data.\n",
        "x_test = pd.read_csv(test_file_path)\n",
        "y_test = x_test.pop(\"Price\")"
      ],
      "metadata": {
        "colab": {
          "base_uri": "https://localhost:8080/"
        },
        "id": "8PNPlw43IPSJ",
        "outputId": "b150c5a2-9a91-4bad-b7de-64400b4a7d81"
      },
      "execution_count": 9,
      "outputs": [
        {
          "output_type": "stream",
          "name": "stdout",
          "text": [
            "<class 'pandas.core.frame.DataFrame'>\n",
            "<class 'pandas.core.series.Series'>\n",
            "<class 'pandas.core.frame.DataFrame'>\n",
            "<class 'numpy.ndarray'>\n",
            "<class 'numpy.ndarray'>\n"
          ]
        }
      ]
    },
    {
      "cell_type": "code",
      "source": [
        "# It tries 10 different models.\n",
        "reg = ak.StructuredDataRegressor(max_trials=3, overwrite=True)\n",
        "# Feed the structured data regressor with training data.\n",
        "reg.fit(x_train, y_train, epochs=10)\n",
        "# Predict with the best model.\n",
        "predicted_y = reg.predict(x_test)\n",
        "# Evaluate the best model with testing data.\n",
        "print(reg.evaluate(x_test, y_test))"
      ],
      "metadata": {
        "colab": {
          "base_uri": "https://localhost:8080/"
        },
        "id": "ZhOp3NtzIoyh",
        "outputId": "8a5a9201-7bbd-4502-ebe2-cb116a5e958b"
      },
      "execution_count": 10,
      "outputs": [
        {
          "output_type": "stream",
          "name": "stdout",
          "text": [
            "Trial 3 Complete [00h 00m 19s]\n",
            "val_loss: 0.9210050106048584\n",
            "\n",
            "Best val_loss So Far: 0.8640338182449341\n",
            "Total elapsed time: 00h 00m 51s\n",
            "INFO:tensorflow:Oracle triggered exit\n",
            "Epoch 1/10\n",
            "581/581 [==============================] - 2s 2ms/step - loss: 1.1592 - mean_squared_error: 1.1592\n",
            "Epoch 2/10\n",
            "581/581 [==============================] - 1s 2ms/step - loss: 0.6278 - mean_squared_error: 0.6278\n",
            "Epoch 3/10\n",
            "581/581 [==============================] - 1s 2ms/step - loss: 0.5558 - mean_squared_error: 0.5558\n",
            "Epoch 4/10\n",
            "581/581 [==============================] - 2s 3ms/step - loss: 0.5288 - mean_squared_error: 0.5288\n",
            "Epoch 5/10\n",
            "581/581 [==============================] - 1s 2ms/step - loss: 0.5125 - mean_squared_error: 0.5125\n",
            "Epoch 6/10\n",
            "581/581 [==============================] - 1s 2ms/step - loss: 0.5034 - mean_squared_error: 0.5034\n",
            "Epoch 7/10\n",
            "581/581 [==============================] - 1s 2ms/step - loss: 0.4960 - mean_squared_error: 0.4960\n",
            "Epoch 8/10\n",
            "581/581 [==============================] - 1s 2ms/step - loss: 0.4909 - mean_squared_error: 0.4909\n",
            "Epoch 9/10\n",
            "581/581 [==============================] - 1s 2ms/step - loss: 0.4865 - mean_squared_error: 0.4865\n",
            "Epoch 10/10\n",
            "581/581 [==============================] - 1s 2ms/step - loss: 0.4828 - mean_squared_error: 0.4828\n",
            "INFO:tensorflow:Assets written to: ./structured_data_regressor/best_model/assets\n",
            "581/581 [==============================] - 1s 2ms/step\n",
            "581/581 [==============================] - 2s 2ms/step - loss: 0.5968 - mean_squared_error: 0.5968\n",
            "[0.5968126058578491, 0.5968126058578491]\n"
          ]
        }
      ]
    },
    {
      "cell_type": "markdown",
      "source": [
        "The following code shows how to convert `numpy.ndarray` to `tf.data.Dataset`.\n",
        "\n"
      ],
      "metadata": {
        "id": "2HKHkyrDIu1P"
      }
    },
    {
      "cell_type": "code",
      "source": [
        "train_set = tf.data.Dataset.from_tensor_slices((x_train, y_train))\n",
        "test_set = tf.data.Dataset.from_tensor_slices((x_test, y_test))\n",
        "\n",
        "reg = ak.StructuredDataRegressor(max_trials=3, overwrite=True)\n",
        "# Feed the tensorflow Dataset to the regressor.\n",
        "reg.fit(train_set, epochs=10)\n",
        "# Predict with the best model.\n",
        "predicted_y = reg.predict(test_set)\n",
        "# Evaluate the best model with testing data.\n",
        "print(reg.evaluate(test_set))"
      ],
      "metadata": {
        "colab": {
          "base_uri": "https://localhost:8080/"
        },
        "id": "sKpmxfUMI0Sk",
        "outputId": "d4ada15a-5e96-43c2-b7f1-dfc81a8b5a8a"
      },
      "execution_count": 11,
      "outputs": [
        {
          "output_type": "stream",
          "name": "stdout",
          "text": [
            "Trial 3 Complete [00h 00m 26s]\n",
            "val_loss: 1.1470242738723755\n",
            "\n",
            "Best val_loss So Far: 0.8675209879875183\n",
            "Total elapsed time: 00h 01m 23s\n",
            "INFO:tensorflow:Oracle triggered exit\n",
            "Epoch 1/10\n",
            "581/581 [==============================] - 4s 5ms/step - loss: 1.2792 - mean_squared_error: 1.2792\n",
            "Epoch 2/10\n",
            "581/581 [==============================] - 3s 4ms/step - loss: 0.6216 - mean_squared_error: 0.6216\n",
            "Epoch 3/10\n",
            "581/581 [==============================] - 3s 6ms/step - loss: 0.5517 - mean_squared_error: 0.5517\n",
            "Epoch 4/10\n",
            "581/581 [==============================] - 3s 4ms/step - loss: 0.5358 - mean_squared_error: 0.5358\n",
            "Epoch 5/10\n",
            "581/581 [==============================] - 2s 4ms/step - loss: 0.5250 - mean_squared_error: 0.5250\n",
            "Epoch 6/10\n",
            "581/581 [==============================] - 3s 5ms/step - loss: 0.5162 - mean_squared_error: 0.5162\n",
            "Epoch 7/10\n",
            "581/581 [==============================] - 3s 4ms/step - loss: 0.5105 - mean_squared_error: 0.5105\n",
            "Epoch 8/10\n",
            "581/581 [==============================] - 2s 4ms/step - loss: 0.5044 - mean_squared_error: 0.5044\n",
            "Epoch 9/10\n",
            "581/581 [==============================] - 3s 5ms/step - loss: 0.4991 - mean_squared_error: 0.4991\n",
            "Epoch 10/10\n",
            "581/581 [==============================] - 3s 5ms/step - loss: 0.4935 - mean_squared_error: 0.4935\n",
            "INFO:tensorflow:Assets written to: ./structured_data_regressor/best_model/assets\n",
            "581/581 [==============================] - 2s 3ms/step\n",
            "581/581 [==============================] - 2s 3ms/step - loss: 0.6120 - mean_squared_error: 0.6120\n",
            "[0.6120472550392151, 0.6120472550392151]\n"
          ]
        }
      ]
    },
    {
      "cell_type": "markdown",
      "source": [
        "You can also specify the column names and types for the data as follows.  The\n",
        "`column_names` is optional if the training data already have the column names,\n",
        "e.g.  `pandas.DataFrame`, CSV file.  Any column, whose type is not specified will\n",
        "be inferred from the training data.\n"
      ],
      "metadata": {
        "id": "li42ruqsI7oM"
      }
    },
    {
      "cell_type": "code",
      "source": [
        "# Initialize the structured data regressor\n",
        "reg2 = ak.StructuredDataRegressor(\n",
        "    column_names=[\"MedInc\", \"HouseAge\", \"AveRooms\", \"AveBedrms\", \"Population\", \"AveOccup\", \"Latitude\", \"Longitude\"],\n",
        "    column_types={\"MedInc\": \"numerical\", \"Latitude\": \"numerical\"},\n",
        "    max_trials=10,\n",
        "    overwrite=True\n",
        ")\n",
        "\n",
        "# Feed the tensorflow Dataset to the regressor.\n",
        "reg2.fit(train_set, epochs=10)\n",
        "# Predict with the best model.\n",
        "predicted_y = reg2.predict(test_set)\n",
        "# Evaluate the best model with testing data.\n",
        "print(reg2.evaluate(test_set))"
      ],
      "metadata": {
        "colab": {
          "base_uri": "https://localhost:8080/"
        },
        "id": "M-T47s6gJAVn",
        "outputId": "a012c1a0-a849-4570-9b57-48ceac42adb5"
      },
      "execution_count": 14,
      "outputs": [
        {
          "output_type": "stream",
          "name": "stdout",
          "text": [
            "Trial 10 Complete [00h 00m 39s]\n",
            "val_loss: 1.3603469133377075\n",
            "\n",
            "Best val_loss So Far: 1.168041467666626\n",
            "Total elapsed time: 00h 06m 56s\n",
            "INFO:tensorflow:Oracle triggered exit\n",
            "Epoch 1/10\n",
            "581/581 [==============================] - 3s 5ms/step - loss: 1.0392 - mean_squared_error: 1.0392\n",
            "Epoch 2/10\n",
            "581/581 [==============================] - 3s 5ms/step - loss: 0.7178 - mean_squared_error: 0.7178\n",
            "Epoch 3/10\n",
            "581/581 [==============================] - 4s 7ms/step - loss: 0.6466 - mean_squared_error: 0.6466\n",
            "Epoch 4/10\n",
            "581/581 [==============================] - 2s 4ms/step - loss: 0.5919 - mean_squared_error: 0.5919\n",
            "Epoch 5/10\n",
            "581/581 [==============================] - 2s 3ms/step - loss: 0.5930 - mean_squared_error: 0.5930\n",
            "Epoch 6/10\n",
            "581/581 [==============================] - 2s 3ms/step - loss: 0.5691 - mean_squared_error: 0.5691\n",
            "Epoch 7/10\n",
            "581/581 [==============================] - 2s 3ms/step - loss: 0.5694 - mean_squared_error: 0.5694\n",
            "Epoch 8/10\n",
            "581/581 [==============================] - 2s 4ms/step - loss: 0.5429 - mean_squared_error: 0.5429\n",
            "Epoch 9/10\n",
            "581/581 [==============================] - 2s 3ms/step - loss: 0.5350 - mean_squared_error: 0.5350\n",
            "Epoch 10/10\n",
            "581/581 [==============================] - 4s 7ms/step - loss: 0.5286 - mean_squared_error: 0.5286\n",
            "INFO:tensorflow:Assets written to: ./structured_data_regressor/best_model/assets\n",
            "581/581 [==============================] - 2s 3ms/step\n",
            "581/581 [==============================] - 2s 3ms/step - loss: 0.6419 - mean_squared_error: 0.6419\n",
            "[0.6419215798377991, 0.6419215798377991]\n"
          ]
        }
      ]
    },
    {
      "cell_type": "markdown",
      "source": [
        "#### Validation Data"
      ],
      "metadata": {
        "id": "XoDAGtFfJ-ME"
      }
    },
    {
      "cell_type": "markdown",
      "source": [
        "By default, AutoKeras use the last 20% of training data as validation data.  As\n",
        "shown in the example below, you can use `validation_split` to specify the\n",
        "percentage.\n"
      ],
      "metadata": {
        "id": "69Ax2FN3J_CE"
      }
    },
    {
      "cell_type": "code",
      "source": [
        "reg2.fit(\n",
        "    x_train,\n",
        "    y_train,\n",
        "    # Split the training data and use the last 15% as validation data.\n",
        "    validation_split=0.15,\n",
        "    epochs=10,\n",
        ")\n",
        "\n",
        "# Predict with the best model.\n",
        "predicted_y = reg2.predict(test_set)\n",
        "# Evaluate the best model with testing data.\n",
        "print(reg2.evaluate(test_set))"
      ],
      "metadata": {
        "id": "aQNv-dYeKJIO"
      },
      "execution_count": null,
      "outputs": []
    },
    {
      "cell_type": "markdown",
      "source": [
        "You can also use your own validation set\n",
        "instead of splitting it from the training data with `validation_data`."
      ],
      "metadata": {
        "id": "oiTXhGZRKS1d"
      }
    },
    {
      "cell_type": "code",
      "source": [
        "split = 500\n",
        "x_val = x_train[split:]\n",
        "y_val = y_train[split:]\n",
        "x_train = x_train[:split]\n",
        "y_train = y_train[:split]\n",
        "\n",
        "reg2.fit(\n",
        "    x_train,\n",
        "    y_train,\n",
        "    # Use your own validation set.\n",
        "    validation_data=(x_val, y_val),\n",
        "    epochs=10,\n",
        ")\n",
        "\n",
        "# Predict with the best model.\n",
        "predicted_y = reg2.predict(test_set)\n",
        "# Evaluate the best model with testing data.\n",
        "print(reg2.evaluate(test_set))"
      ],
      "metadata": {
        "id": "8sk82EzYKTPH"
      },
      "execution_count": null,
      "outputs": []
    },
    {
      "cell_type": "markdown",
      "source": [
        "## Customized Search Space"
      ],
      "metadata": {
        "id": "bF8kJWTCKe2e"
      }
    },
    {
      "cell_type": "markdown",
      "source": [
        "For advanced users, you may customize your search space by using\n",
        "[AutoModel](/auto_model/#automodel-class) instead of\n",
        "[StructuredDataRegressor](/structured_data_regressor). You can configure the\n",
        "[StructuredDataBlock](/block/#structureddatablock-class) for some high-level\n",
        "configurations, e.g., `categorical_encoding` for whether to use the\n",
        "[CategoricalToNumerical](/block/#categoricaltonumerical-class). \n",
        "\n",
        "You can also do\n",
        "not specify these arguments, which would leave the different choices to be\n",
        "tuned automatically. \n",
        "\n",
        "See the following example for detail."
      ],
      "metadata": {
        "id": "8nns6JJ9KfWw"
      }
    },
    {
      "cell_type": "code",
      "source": [
        "input_node = ak.StructuredDataInput()\n",
        "output_node = ak.StructuredDataBlock(categorical_encoding=True)(input_node)\n",
        "output_node = ak.RegressionHead()(output_node)\n",
        "\n",
        "reg3 = ak.AutoModel(inputs=input_node, outputs=output_node, overwrite=True, max_trials=3)\n",
        "reg3.fit(x_train, y_train, epochs=10)"
      ],
      "metadata": {
        "colab": {
          "base_uri": "https://localhost:8080/"
        },
        "id": "t9OixWqPKhCr",
        "outputId": "1851d0bd-59b2-4305-f632-176a0aa70c7f"
      },
      "execution_count": 15,
      "outputs": [
        {
          "output_type": "stream",
          "name": "stdout",
          "text": [
            "Trial 3 Complete [00h 00m 21s]\n",
            "val_loss: 1.6993786096572876\n",
            "\n",
            "Best val_loss So Far: 1.6993786096572876\n",
            "Total elapsed time: 00h 00m 57s\n",
            "INFO:tensorflow:Oracle triggered exit\n",
            "Epoch 1/10\n",
            "581/581 [==============================] - 2s 2ms/step - loss: 1.4211 - mean_squared_error: 1.4211\n",
            "Epoch 2/10\n",
            "581/581 [==============================] - 1s 2ms/step - loss: 1.3807 - mean_squared_error: 1.3807\n",
            "Epoch 3/10\n",
            "581/581 [==============================] - 1s 2ms/step - loss: 1.3721 - mean_squared_error: 1.3721\n",
            "Epoch 4/10\n",
            "581/581 [==============================] - 1s 2ms/step - loss: 1.3818 - mean_squared_error: 1.3818\n",
            "Epoch 5/10\n",
            "581/581 [==============================] - 1s 2ms/step - loss: 1.3810 - mean_squared_error: 1.3810\n",
            "Epoch 6/10\n",
            "581/581 [==============================] - 1s 2ms/step - loss: 1.3810 - mean_squared_error: 1.3810\n",
            "Epoch 7/10\n",
            "581/581 [==============================] - 1s 2ms/step - loss: 1.3810 - mean_squared_error: 1.3810\n",
            "Epoch 8/10\n",
            "581/581 [==============================] - 1s 2ms/step - loss: 1.3810 - mean_squared_error: 1.3810\n",
            "Epoch 9/10\n",
            "581/581 [==============================] - 1s 2ms/step - loss: 1.3809 - mean_squared_error: 1.3809\n",
            "Epoch 10/10\n",
            "581/581 [==============================] - 1s 2ms/step - loss: 1.3809 - mean_squared_error: 1.3809\n",
            "INFO:tensorflow:Assets written to: ./auto_model/best_model/assets\n"
          ]
        },
        {
          "output_type": "execute_result",
          "data": {
            "text/plain": [
              "<tensorflow.python.keras.callbacks.History at 0x7f2c79945310>"
            ]
          },
          "metadata": {},
          "execution_count": 15
        }
      ]
    },
    {
      "cell_type": "markdown",
      "source": [
        "The usage of [AutoModel](/auto_model/#automodel-class) is similar to the\n",
        "[functional API](https://www.tensorflow.org/guide/keras/functional) of Keras.\n",
        "Basically, you are building a graph, whose edges are blocks and the nodes are\n",
        "intermediate outputs of blocks.  To add an edge from `input_node` to\n",
        "`output_node` with `output_node = ak.[some_block]([block_args])(input_node)`.\n",
        "\n",
        "You can even also use more fine grained blocks to customize the search space\n",
        "even further. See the following example.\n"
      ],
      "metadata": {
        "id": "v4gSpuumLcub"
      }
    },
    {
      "cell_type": "code",
      "source": [
        "input_node = ak.StructuredDataInput()\n",
        "output_node = ak.CategoricalToNumerical()(input_node)\n",
        "output_node = ak.DenseBlock()(output_node)\n",
        "output_node = ak.RegressionHead()(output_node)\n",
        "\n",
        "reg4 = ak.AutoModel(inputs=input_node, outputs=output_node, overwrite=True, max_trials=3)\n",
        "reg4.fit(x_train, y_train, epochs=10)"
      ],
      "metadata": {
        "colab": {
          "base_uri": "https://localhost:8080/"
        },
        "id": "-R3dE23jLdI1",
        "outputId": "216ff2bf-7710-447c-d3d8-2eb695ae25b0"
      },
      "execution_count": 16,
      "outputs": [
        {
          "output_type": "stream",
          "name": "stdout",
          "text": [
            "Trial 3 Complete [00h 00m 18s]\n",
            "val_loss: 2.652089834213257\n",
            "\n",
            "Best val_loss So Far: 2.54856276512146\n",
            "Total elapsed time: 00h 00m 53s\n",
            "INFO:tensorflow:Oracle triggered exit\n",
            "Epoch 1/10\n",
            "581/581 [==============================] - 2s 2ms/step - loss: 2.8250 - mean_squared_error: 2.8250\n",
            "Epoch 2/10\n",
            "581/581 [==============================] - 1s 2ms/step - loss: 1.9858 - mean_squared_error: 1.9858\n",
            "Epoch 3/10\n",
            "581/581 [==============================] - 1s 2ms/step - loss: 1.7852 - mean_squared_error: 1.7852\n",
            "Epoch 4/10\n",
            "581/581 [==============================] - 1s 2ms/step - loss: 1.7009 - mean_squared_error: 1.7009\n",
            "Epoch 5/10\n",
            "581/581 [==============================] - 1s 2ms/step - loss: 1.6353 - mean_squared_error: 1.6353\n",
            "Epoch 6/10\n",
            "581/581 [==============================] - 1s 2ms/step - loss: 1.6069 - mean_squared_error: 1.6069\n",
            "Epoch 7/10\n",
            "581/581 [==============================] - 1s 2ms/step - loss: 1.5705 - mean_squared_error: 1.5705\n",
            "Epoch 8/10\n",
            "581/581 [==============================] - 1s 2ms/step - loss: 1.5600 - mean_squared_error: 1.5600\n",
            "Epoch 9/10\n",
            "581/581 [==============================] - 1s 2ms/step - loss: 1.5239 - mean_squared_error: 1.5239\n",
            "Epoch 10/10\n",
            "581/581 [==============================] - 1s 2ms/step - loss: 1.4940 - mean_squared_error: 1.4940\n",
            "INFO:tensorflow:Assets written to: ./auto_model/best_model/assets\n"
          ]
        },
        {
          "output_type": "execute_result",
          "data": {
            "text/plain": [
              "<tensorflow.python.keras.callbacks.History at 0x7f2c7d5c1d50>"
            ]
          },
          "metadata": {},
          "execution_count": 16
        }
      ]
    },
    {
      "cell_type": "markdown",
      "source": [
        "You can also export the best model found by AutoKeras as a Keras Model."
      ],
      "metadata": {
        "id": "n5Vblp9KL3Q9"
      }
    },
    {
      "cell_type": "code",
      "source": [
        "model = reg4.export_model()\n",
        "model.summary()\n",
        "# numpy array in object (mixed type) is not supported.\n",
        "# you need convert it to unicode or float first.\n",
        "model.predict(x_train)"
      ],
      "metadata": {
        "colab": {
          "base_uri": "https://localhost:8080/"
        },
        "id": "VV9l8Z_EL3pn",
        "outputId": "30a981b5-9748-4831-fe7d-d7505baaa3de"
      },
      "execution_count": 17,
      "outputs": [
        {
          "output_type": "stream",
          "name": "stdout",
          "text": [
            "Model: \"model\"\n",
            "_________________________________________________________________\n",
            "Layer (type)                 Output Shape              Param #   \n",
            "=================================================================\n",
            "input_1 (InputLayer)         [(None, 8)]               0         \n",
            "_________________________________________________________________\n",
            "multi_category_encoding (Mul (None, 8)                 0         \n",
            "_________________________________________________________________\n",
            "dense (Dense)                (None, 32)                288       \n",
            "_________________________________________________________________\n",
            "batch_normalization (BatchNo (None, 32)                128       \n",
            "_________________________________________________________________\n",
            "re_lu (ReLU)                 (None, 32)                0         \n",
            "_________________________________________________________________\n",
            "dropout (Dropout)            (None, 32)                0         \n",
            "_________________________________________________________________\n",
            "dense_1 (Dense)              (None, 32)                1056      \n",
            "_________________________________________________________________\n",
            "batch_normalization_1 (Batch (None, 32)                128       \n",
            "_________________________________________________________________\n",
            "re_lu_1 (ReLU)               (None, 32)                0         \n",
            "_________________________________________________________________\n",
            "dropout_1 (Dropout)          (None, 32)                0         \n",
            "_________________________________________________________________\n",
            "regression_head_1 (Dense)    (None, 1)                 33        \n",
            "=================================================================\n",
            "Total params: 1,633\n",
            "Trainable params: 1,505\n",
            "Non-trainable params: 128\n",
            "_________________________________________________________________\n"
          ]
        },
        {
          "output_type": "execute_result",
          "data": {
            "text/plain": [
              "array([[2.444552 ],\n",
              "       [2.194388 ],\n",
              "       [2.3857846],\n",
              "       ...,\n",
              "       [1.7851417],\n",
              "       [1.9181583],\n",
              "       [1.9060069]], dtype=float32)"
            ]
          },
          "metadata": {},
          "execution_count": 17
        }
      ]
    },
    {
      "cell_type": "markdown",
      "source": [
        "## Reference"
      ],
      "metadata": {
        "id": "op8iowj3L627"
      }
    },
    {
      "cell_type": "markdown",
      "source": [
        "[StructuredDataRegressor](/structured_data_regressor),\n",
        "\n",
        "[AutoModel](/auto_model/#automodel-class),\n",
        "\n",
        "[StructuredDataBlock](/block/#structureddatablock-class),\n",
        "\n",
        "[DenseBlock](/block/#denseblock-class),\n",
        "\n",
        "[StructuredDataInput](/node/#structureddatainput-class),\n",
        "\n",
        "[RegressionHead](/block/#regressionhead-class),\n",
        "\n",
        "[CategoricalToNumerical](/block/#categoricaltonumerical-class)."
      ],
      "metadata": {
        "id": "WXaRkw0oL8pV"
      }
    }
  ]
}