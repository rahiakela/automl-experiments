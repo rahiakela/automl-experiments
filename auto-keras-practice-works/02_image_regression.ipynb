{
  "nbformat": 4,
  "nbformat_minor": 0,
  "metadata": {
    "colab": {
      "name": "02-image-regression.ipynb",
      "provenance": [],
      "toc_visible": true,
      "authorship_tag": "ABX9TyNEEyeOslEhSTPYqsd81qhe",
      "include_colab_link": true
    },
    "kernelspec": {
      "name": "python3",
      "display_name": "Python 3"
    },
    "language_info": {
      "name": "python"
    }
  },
  "cells": [
    {
      "cell_type": "markdown",
      "metadata": {
        "id": "view-in-github",
        "colab_type": "text"
      },
      "source": [
        "<a href=\"https://colab.research.google.com/github/rahiakela/automl-experiments/blob/main/auto-keras-practice-works/02_image_regression.ipynb\" target=\"_parent\"><img src=\"https://colab.research.google.com/assets/colab-badge.svg\" alt=\"Open In Colab\"/></a>"
      ]
    },
    {
      "cell_type": "markdown",
      "source": [
        "##Image Regression"
      ],
      "metadata": {
        "id": "g20a_k5QYLBU"
      }
    },
    {
      "cell_type": "markdown",
      "source": [
        "To make this tutorial easy to follow, we just treat MNIST dataset as a regression dataset. It means we will treat prediction targets of MNIST dataset, which are integers ranging from 0 to 9 as numerical values, so that they can be directly used as the regression targets.\n",
        "\n",
        "Reference:\n",
        "\n",
        "https://autokeras.com/tutorial/image_regression/"
      ],
      "metadata": {
        "id": "Kcf_VfSgYUaB"
      }
    },
    {
      "cell_type": "code",
      "source": [
        "!pip -q install autokeras"
      ],
      "metadata": {
        "colab": {
          "base_uri": "https://localhost:8080/"
        },
        "id": "KXFPFaxIYWWB",
        "outputId": "7994bba3-bf51-4310-e394-ca6e3df1b0d1"
      },
      "execution_count": 1,
      "outputs": [
        {
          "output_type": "stream",
          "name": "stdout",
          "text": [
            "\u001b[K     |████████████████████████████████| 166 kB 16.3 MB/s \n",
            "\u001b[K     |████████████████████████████████| 454.4 MB 21 kB/s \n",
            "\u001b[K     |████████████████████████████████| 97 kB 6.9 MB/s \n",
            "\u001b[K     |████████████████████████████████| 4.0 MB 22.5 MB/s \n",
            "\u001b[K     |████████████████████████████████| 462 kB 47.3 MB/s \n",
            "\u001b[K     |████████████████████████████████| 1.2 MB 42.4 MB/s \n",
            "\u001b[?25h  Building wheel for wrapt (setup.py) ... \u001b[?25l\u001b[?25hdone\n"
          ]
        }
      ]
    },
    {
      "cell_type": "code",
      "source": [
        "import tensorflow as tf\n",
        "from tensorflow.keras.datasets import mnist\n",
        "\n",
        "import autokeras as ak"
      ],
      "metadata": {
        "id": "qeQjR7UGYfdH"
      },
      "execution_count": 2,
      "outputs": []
    },
    {
      "cell_type": "markdown",
      "source": [
        "##A Simple Example"
      ],
      "metadata": {
        "id": "Ngtkji1NYrhw"
      }
    },
    {
      "cell_type": "markdown",
      "source": [
        "The first step is to prepare your data. Here we use the MNIST dataset as an example."
      ],
      "metadata": {
        "id": "0rqHcHwXYszu"
      }
    },
    {
      "cell_type": "code",
      "source": [
        "(x_train, y_train), (x_test, y_test) = mnist.load_data()\n",
        "\n",
        "x_train = x_train[:100]\n",
        "y_train = y_train[:100]\n",
        "print(x_train.shape)  # (60000, 28, 28)\n",
        "print(y_train.shape)  # (60000,)\n",
        "print(y_train[:3])    # array([7, 2, 1], dtype=uint8)"
      ],
      "metadata": {
        "colab": {
          "base_uri": "https://localhost:8080/"
        },
        "id": "WP4AOIMXYqtc",
        "outputId": "b98c90d7-c0ed-4662-c28e-39f51000bec6"
      },
      "execution_count": 3,
      "outputs": [
        {
          "output_type": "stream",
          "name": "stdout",
          "text": [
            "Downloading data from https://storage.googleapis.com/tensorflow/tf-keras-datasets/mnist.npz\n",
            "11493376/11490434 [==============================] - 0s 0us/step\n",
            "(100, 28, 28)\n",
            "(100,)\n",
            "[5 0 4]\n"
          ]
        }
      ]
    },
    {
      "cell_type": "markdown",
      "source": [
        "The second step is to run the ImageRegressor. It is recommended have more trials for more complicated datasets. This is just a quick demo of MNIST, so we set max_trials to 1. \n",
        "\n",
        "For the same reason, we set epochs to 2. You can also leave the epochs unspecified for an adaptive number of epochs."
      ],
      "metadata": {
        "id": "mdlN2Lq7Y6UZ"
      }
    },
    {
      "cell_type": "code",
      "source": [
        "# Initialize the image regressor\n",
        "reg = ak.ImageRegressor(overwrite=True, max_trials=1)\n",
        "# Feed the image regressor with training data\n",
        "reg.fit(x_train, y_train, epochs=2)"
      ],
      "metadata": {
        "id": "PDh5EUjvY7HN"
      },
      "execution_count": null,
      "outputs": []
    },
    {
      "cell_type": "code",
      "source": [
        "# Predict with the best model\n",
        "predicted_y = reg.predict(x_test)\n",
        "print(predicted_y)"
      ],
      "metadata": {
        "colab": {
          "base_uri": "https://localhost:8080/"
        },
        "id": "dbsPj0NRZQAN",
        "outputId": "df9cf1f1-d833-410d-d482-9d5662318b92"
      },
      "execution_count": 7,
      "outputs": [
        {
          "output_type": "stream",
          "name": "stdout",
          "text": [
            "313/313 [==============================] - 43s 138ms/step\n",
            "[[0.14437975]\n",
            " [0.62272555]\n",
            " [0.15234606]\n",
            " ...\n",
            " [0.15122914]\n",
            " [0.171411  ]\n",
            " [0.23554677]]\n"
          ]
        }
      ]
    },
    {
      "cell_type": "code",
      "source": [
        "# Evaluate the best model with testing data\n",
        "print(reg.evaluate(x_test, y_test))"
      ],
      "metadata": {
        "colab": {
          "base_uri": "https://localhost:8080/"
        },
        "id": "EsG68pSuZjUL",
        "outputId": "254f9e04-7ab7-4ffd-ea89-441e3dbfb2c6"
      },
      "execution_count": 8,
      "outputs": [
        {
          "output_type": "stream",
          "name": "stdout",
          "text": [
            "313/313 [==============================] - 44s 137ms/step - loss: 26.5229 - mean_squared_error: 26.5229\n",
            "[26.52287483215332, 26.52287483215332]\n"
          ]
        }
      ]
    },
    {
      "cell_type": "markdown",
      "source": [
        "##Validation Data"
      ],
      "metadata": {
        "id": "eAVLVqngZu1d"
      }
    },
    {
      "cell_type": "markdown",
      "source": [
        "By default, AutoKeras use the last 20% of training data as validation data. \n",
        "\n",
        "As shown in the example below, you can use `validation_split` to specify the percentage."
      ],
      "metadata": {
        "id": "o7SI40f7ZwVa"
      }
    },
    {
      "cell_type": "code",
      "source": [
        "reg.fit(\n",
        "    x_train,\n",
        "    y_train,\n",
        "    # Split the training data and use the last 15% as validation data.\n",
        "    validation_split=0.15,\n",
        "    epochs=2,\n",
        ")"
      ],
      "metadata": {
        "id": "ytewiPU6Z1VP"
      },
      "execution_count": null,
      "outputs": []
    },
    {
      "cell_type": "markdown",
      "source": [
        "You can also use your own validation set instead of splitting it from the training data with validation_data."
      ],
      "metadata": {
        "id": "lIAXVDu2aIIs"
      }
    },
    {
      "cell_type": "code",
      "source": [
        "split = 50000\n",
        "x_val = x_train[split:]\n",
        "y_val = y_train[split:]\n",
        "x_train = x_train[:split]\n",
        "y_train = y_train[:split]\n",
        "\n",
        "reg.fit(\n",
        "    x_train,\n",
        "    y_train,\n",
        "    # Use your own validation set.\n",
        "    validation_data=(x_val, y_val),\n",
        "    epochs=2,\n",
        ")"
      ],
      "metadata": {
        "id": "fTj3851OaIly"
      },
      "execution_count": null,
      "outputs": []
    },
    {
      "cell_type": "markdown",
      "source": [
        "##Customized Search Space"
      ],
      "metadata": {
        "id": "kNYRAvbWaLHF"
      }
    },
    {
      "cell_type": "markdown",
      "source": [
        "For advanced users, you may customize your search space by using AutoModel instead of ImageRegressor. You can configure the ImageBlock for some high-level configurations, e.g., block_type for the type of neural network to search, normalize for whether to do data normalization, augment for whether to do data augmentation. You can also do not specify these arguments, which would leave the different choices to be tuned automatically.\n",
        "\n",
        "See the following example for detail."
      ],
      "metadata": {
        "id": "UtA8NPaOaN60"
      }
    },
    {
      "cell_type": "code",
      "source": [
        "input_node = ak.ImageInput()\n",
        "output_node = ak.ImageBlock(\n",
        "    block_type=\"resnet\",  # Only search ResNet architectures\n",
        "    normalize=False,      # Normalize the dataset\n",
        "    augment=False         # Do not do data augmentation\n",
        ")(input_node)\n",
        "\n",
        "output_node = ak.RegressionHead()(output_node)\n",
        "\n",
        "reg = ak.AutoModel(inputs=input_node, outputs=output_node, overwrite=True, max_trials=1)\n",
        "reg.fit(x_train, y_train, epochs=2)"
      ],
      "metadata": {
        "colab": {
          "base_uri": "https://localhost:8080/"
        },
        "id": "zqQHxqRoaXrS",
        "outputId": "840c7689-73e8-4f79-f462-b190c3752543"
      },
      "execution_count": 9,
      "outputs": [
        {
          "output_type": "stream",
          "name": "stdout",
          "text": [
            "Trial 1 Complete [00h 00m 53s]\n",
            "val_loss: 15.975235939025879\n",
            "\n",
            "Best val_loss So Far: 15.975235939025879\n",
            "Total elapsed time: 00h 00m 53s\n",
            "INFO:tensorflow:Oracle triggered exit\n",
            "Epoch 1/2\n",
            "4/4 [==============================] - 26s 3s/step - loss: 42.1530 - mean_squared_error: 42.1530\n",
            "Epoch 2/2\n",
            "4/4 [==============================] - 15s 3s/step - loss: 51.0456 - mean_squared_error: 51.0456\n"
          ]
        },
        {
          "output_type": "stream",
          "name": "stderr",
          "text": [
            "/usr/local/lib/python3.7/dist-packages/tensorflow/python/keras/utils/generic_utils.py:497: CustomMaskWarning: Custom mask layers require a config and must override get_config. When loading, the custom mask layer must be passed to the custom_objects argument.\n",
            "  category=CustomMaskWarning)\n"
          ]
        },
        {
          "output_type": "stream",
          "name": "stdout",
          "text": [
            "INFO:tensorflow:Assets written to: ./auto_model/best_model/assets\n"
          ]
        },
        {
          "output_type": "execute_result",
          "data": {
            "text/plain": [
              "<tensorflow.python.keras.callbacks.History at 0x7f20e12b7d90>"
            ]
          },
          "metadata": {},
          "execution_count": 9
        }
      ]
    },
    {
      "cell_type": "markdown",
      "source": [
        "The usage of AutoModel is similar to the functional API of Keras. Basically, you are building a graph, whose edges are blocks and the nodes are intermediate outputs of blocks. To add an edge from input_node to `output_node` with `output_node = ak.some_block(input_node)`.\n",
        "\n",
        "You can even also use more fine grained blocks to customize the search space even further. See the following example."
      ],
      "metadata": {
        "id": "ZjA25akCcSWj"
      }
    },
    {
      "cell_type": "code",
      "source": [
        "input_node = ak.ImageInput()\n",
        "output_node = ak.Normalization()(input_node)\n",
        "output_node = ak.ImageAugmentation(horizontal_flip=False)(output_node)\n",
        "output_node = ak.ResNetBlock(version=\"v2\")(output_node)\n",
        "output_node = ak.RegressionHead()(output_node)\n",
        "\n",
        "reg = ak.AutoModel(inputs=input_node, outputs=output_node, overwrite=True, max_trials=1)\n",
        "reg.fit(x_train, y_train, epochs=2)"
      ],
      "metadata": {
        "colab": {
          "base_uri": "https://localhost:8080/"
        },
        "id": "x_6fFMhocWru",
        "outputId": "509e66be-6202-4913-d949-5a2ca5b99014"
      },
      "execution_count": 10,
      "outputs": [
        {
          "output_type": "stream",
          "name": "stdout",
          "text": [
            "Trial 1 Complete [00h 00m 27s]\n",
            "val_loss: 27.605497360229492\n",
            "\n",
            "Best val_loss So Far: 27.605497360229492\n",
            "Total elapsed time: 00h 00m 27s\n",
            "INFO:tensorflow:Oracle triggered exit\n",
            "Epoch 1/2\n",
            "4/4 [==============================] - 13s 2s/step - loss: 21.2293 - mean_squared_error: 21.2293\n",
            "Epoch 2/2\n",
            "4/4 [==============================] - 8s 2s/step - loss: 8.8052 - mean_squared_error: 8.8052\n"
          ]
        },
        {
          "output_type": "stream",
          "name": "stderr",
          "text": [
            "/usr/local/lib/python3.7/dist-packages/tensorflow/python/keras/utils/generic_utils.py:497: CustomMaskWarning: Custom mask layers require a config and must override get_config. When loading, the custom mask layer must be passed to the custom_objects argument.\n",
            "  category=CustomMaskWarning)\n"
          ]
        },
        {
          "output_type": "stream",
          "name": "stdout",
          "text": [
            "INFO:tensorflow:Assets written to: ./auto_model/best_model/assets\n"
          ]
        },
        {
          "output_type": "execute_result",
          "data": {
            "text/plain": [
              "<tensorflow.python.keras.callbacks.History at 0x7f20d931dbd0>"
            ]
          },
          "metadata": {},
          "execution_count": 10
        }
      ]
    },
    {
      "cell_type": "markdown",
      "source": [
        "##Data Format"
      ],
      "metadata": {
        "id": "Ao6TknVtdAUK"
      }
    },
    {
      "cell_type": "markdown",
      "source": [
        "The AutoKeras ImageRegressor is quite flexible for the data format.\n",
        "\n",
        "For the image, it accepts data formats both with and without the channel dimension. The images in the MNIST dataset do not have the channel dimension. Each image is a matrix with shape (28, 28). AutoKeras also accepts images of three dimensions with the channel dimension at last, e.g., (32, 32, 3), (28, 28, 1).\n",
        "\n",
        "For the regression targets, it should be a vector of numerical values. AutoKeras accepts numpy.ndarray.\n",
        "\n",
        "We also support using tf.data.Dataset format for the training data. In this case, the images would have to be 3-dimentional."
      ],
      "metadata": {
        "id": "0777qdOAdD0p"
      }
    },
    {
      "cell_type": "code",
      "source": [
        "(x_train, y_train), (x_test, y_test) = mnist.load_data()\n",
        "\n",
        "# Reshape the images to have the channel dimension.\n",
        "x_train = x_train.reshape(x_train.shape + (1,))\n",
        "x_test = x_test.reshape(x_test.shape + (1,))\n",
        "y_train = y_train.reshape(y_train.shape + (1,))\n",
        "y_test = y_test.reshape(y_test.shape + (1,))\n",
        "\n",
        "print(x_train.shape)  # (60000, 28, 28, 1)\n",
        "print(y_train.shape)  # (60000, 10)"
      ],
      "metadata": {
        "colab": {
          "base_uri": "https://localhost:8080/"
        },
        "id": "zG0NzLyjdHSr",
        "outputId": "bdc24c03-2725-4c12-aa83-6ecc6a1df242"
      },
      "execution_count": 11,
      "outputs": [
        {
          "output_type": "stream",
          "name": "stdout",
          "text": [
            "(60000, 28, 28, 1)\n",
            "(60000, 1)\n"
          ]
        }
      ]
    },
    {
      "cell_type": "code",
      "source": [
        "train_set = tf.data.Dataset.from_tensor_slices(((x_train,), (y_train,)))\n",
        "test_set = tf.data.Dataset.from_tensor_slices(((x_test,), (y_test,)))\n",
        "\n",
        "reg = ak.ImageRegressor(overwrite=True, max_trials=1)\n",
        "# Feed the tensorflow Dataset to the regressor.\n",
        "reg.fit(train_set, epochs=2)\n",
        "# Predict with the best model.\n",
        "predicted_y = reg.predict(test_set)\n",
        "# Evaluate the best model with testing data.\n",
        "print(reg.evaluate(test_set))"
      ],
      "metadata": {
        "id": "rnyf7mKmdMM9"
      },
      "execution_count": null,
      "outputs": []
    }
  ]
}