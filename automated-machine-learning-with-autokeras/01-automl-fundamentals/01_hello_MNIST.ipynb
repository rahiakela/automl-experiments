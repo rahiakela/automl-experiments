{
  "nbformat": 4,
  "nbformat_minor": 0,
  "metadata": {
    "colab": {
      "name": "01-hello-MNIST.ipynb",
      "provenance": [],
      "toc_visible": true,
      "authorship_tag": "ABX9TyOBJxymtzSP+ePkdbt+q1bQ",
      "include_colab_link": true
    },
    "kernelspec": {
      "name": "python3",
      "display_name": "Python 3"
    },
    "language_info": {
      "name": "python"
    }
  },
  "cells": [
    {
      "cell_type": "markdown",
      "metadata": {
        "id": "view-in-github",
        "colab_type": "text"
      },
      "source": [
        "<a href=\"https://colab.research.google.com/github/rahiakela/automl-experiments/blob/main/automated-machine-learning-with-autokeras/01-automl-fundamentals/01_hello_MNIST.ipynb\" target=\"_parent\"><img src=\"https://colab.research.google.com/assets/colab-badge.svg\" alt=\"Open In Colab\"/></a>"
      ]
    },
    {
      "cell_type": "markdown",
      "metadata": {
        "id": "hY9tdTG75gXj"
      },
      "source": [
        "## Hello MNIST: Implementing first AutoKeras experiment"
      ]
    },
    {
      "cell_type": "markdown",
      "metadata": {
        "id": "pUVwWSF65mek"
      },
      "source": [
        "Our first experiment will be an image classifier using the MNIST dataset. This MINST classification task is like the \"hello world\" of DL. It is a classic problem of classifying images of handwritten digits into 10 categories (0 to 9). The images come from the MNIST, the most famous and widely used dataset in ML. It contains 70,000 images (60,000 for training and 10,000 for testing) collected in the 1980s by the NIST.\n",
        "\n",
        "<img src='https://github.com/rahiakela/automl-experiments/blob/main/automated-machine-learning-with-autokeras/01-automl-fundamentals/images/1.png?raw=1' width='800'/>\n",
        "\n",
        "AutoKeras is designed to easily classify all types of data inputs—such as structured data, text, or images—as each of them contains a specific class.\n",
        "\n",
        "For this task, we will use ImageClassifier. This class generates and tests different models and hyperparameters, returning an optimal classifier to categorize the images of handwritten digits."
      ]
    },
    {
      "cell_type": "markdown",
      "metadata": {
        "id": "ImAdXH8C-Irj"
      },
      "source": [
        "##Setup"
      ]
    },
    {
      "cell_type": "code",
      "metadata": {
        "id": "OsjIzcTO-J5S"
      },
      "source": [
        "!pip3 -q install autokeras"
      ],
      "execution_count": null,
      "outputs": []
    },
    {
      "cell_type": "code",
      "metadata": {
        "id": "3bxJkvFQ-W1L"
      },
      "source": [
        "import autokeras as ak\n",
        "import matplotlib.pyplot as plt\n",
        "import numpy as np\n",
        "import tensorflow as tf\n",
        "from tensorflow.keras.datasets import mnist\n",
        "from tensorflow.keras.utils import plot_model\n",
        "\n",
        "%matplotlib inline"
      ],
      "execution_count": 2,
      "outputs": []
    },
    {
      "cell_type": "markdown",
      "metadata": {
        "id": "cOKR9QJk-fWq"
      },
      "source": [
        "##Getting the dataset"
      ]
    },
    {
      "cell_type": "markdown",
      "metadata": {
        "id": "-kJK5h18-iHq"
      },
      "source": [
        "We have first to download the MNIST data and have a quick look to the dataset shape."
      ]
    },
    {
      "cell_type": "code",
      "metadata": {
        "id": "nliKoQne-pRN",
        "colab": {
          "base_uri": "https://localhost:8080/"
        },
        "outputId": "d16a62fd-90eb-447e-bf9c-17ce122a7eeb"
      },
      "source": [
        "(x_train, y_train), (x_test, y_test) = mnist.load_data()\n",
        "\n",
        "print(x_train.shape)\n",
        "print(x_test.shape)"
      ],
      "execution_count": 3,
      "outputs": [
        {
          "output_type": "stream",
          "name": "stdout",
          "text": [
            "Downloading data from https://storage.googleapis.com/tensorflow/tf-keras-datasets/mnist.npz\n",
            "11493376/11490434 [==============================] - 0s 0us/step\n",
            "(60000, 28, 28)\n",
            "(10000, 28, 28)\n"
          ]
        }
      ]
    },
    {
      "cell_type": "code",
      "metadata": {
        "id": "CoTVxbE1-yMr",
        "colab": {
          "base_uri": "https://localhost:8080/",
          "height": 216
        },
        "outputId": "44ef0b31-a1de-4198-9357-567535a0e7bc"
      },
      "source": [
        "fig = plt.figure()\n",
        "ax = fig.add_subplot(1, 2, 1)\n",
        "plt.imshow(x_train[1234])\n",
        "ax.set_title('Train sample')\n",
        "ax = fig.add_subplot(1, 2, 2)\n",
        "plt.imshow(x_test[1234])\n",
        "ax.set_title('Test sample')\n",
        "plt.show()"
      ],
      "execution_count": 4,
      "outputs": [
        {
          "output_type": "display_data",
          "data": {
            "image/png": "[encoded data removed]",
            "text/plain": [
              "<Figure size 432x288 with 2 Axes>"
            ]
          },
          "metadata": {
            "needs_background": "light"
          }
        }
      ]
    },
    {
      "cell_type": "markdown",
      "metadata": {
        "id": "AFYE8FWb_Blz"
      },
      "source": [
        "When we are working with data sets, it is very important to check that the data is distributed homogeneously, this can be done easily using numpy functions."
      ]
    },
    {
      "cell_type": "code",
      "metadata": {
        "id": "Yt0ireU__CGE",
        "colab": {
          "base_uri": "https://localhost:8080/",
          "height": 281
        },
        "outputId": "00bf0bf4-9a78-4a2a-de22-8a28e3992718"
      },
      "source": [
        "train_histogram = np.histogram(y_train)\n",
        "test_histogram = np.histogram(y_test)\n",
        "\n",
        "_, axs = plt.subplots(1, 2)\n",
        "\n",
        "axs[0].set_xticks(range(10))\n",
        "axs[0].bar(range(10), train_histogram[0])\n",
        "axs[0].set_title('Train dataset histogram')\n",
        "\n",
        "axs[1].set_xticks(range(10))\n",
        "axs[1].bar(range(10), test_histogram[0])\n",
        "axs[1].set_title('Test dataset histogram')\n",
        "\n",
        "plt.show()"
      ],
      "execution_count": null,
      "outputs": [
        {
          "output_type": "display_data",
          "data": {
            "image/png": "[encoded data removed]",
            "text/plain": [
              "<Figure size 432x288 with 2 Axes>"
            ]
          },
          "metadata": {
            "needs_background": "light"
          }
        }
      ]
    },
    {
      "cell_type": "markdown",
      "metadata": {
        "id": "O2Gty_XU_UVy"
      },
      "source": [
        "It seems homogeneous—each set of digits has similar amounts of samples, so it's now time to create our model."
      ]
    },
    {
      "cell_type": "markdown",
      "metadata": {
        "id": "tADvT1v4_V3i"
      },
      "source": [
        "## Creating an image classifier"
      ]
    },
    {
      "cell_type": "markdown",
      "metadata": {
        "id": "Xqr2wzGk_Y2a"
      },
      "source": [
        "We will now use the AutoKeras `ImageClassifier` class to find the best classification model. Just for this little example, we set `max_trials` (the maximum number of different Keras models to try) to 1 and the number of epochs to train each model to 20, but for real use it is recommended to set a large number of trials and not to set the epochs parameter, to use an adaptive number of epochs automatically."
      ]
    },
    {
      "cell_type": "code",
      "metadata": {
        "id": "Fbh5f7cl_8sp",
        "colab": {
          "base_uri": "https://localhost:8080/"
        },
        "outputId": "44d6eb3d-3a51-4d5c-a2bb-6d28b7c25906"
      },
      "source": [
        "# Create a image classifier object defining\n",
        "img_classifier = ak.ImageClassifier(max_trials=1)\n",
        "\n",
        "# Search for the optimal classifier for the MNIST training dataset\n",
        "img_classifier.fit(x_train, y_train, epochs=20)"
      ],
      "execution_count": null,
      "outputs": [
        {
          "output_type": "stream",
          "name": "stdout",
          "text": [
            "Trial 1 Complete [00h 44m 28s]\n",
            "val_loss: 0.037242379039525986\n",
            "\n",
            "Best val_loss So Far: 0.037242379039525986\n",
            "Total elapsed time: 00h 44m 28s\n",
            "INFO:tensorflow:Oracle triggered exit\n"
          ]
        },
        {
          "output_type": "stream",
          "name": "stderr",
          "text": [
            "INFO:tensorflow:Oracle triggered exit\n"
          ]
        },
        {
          "output_type": "stream",
          "name": "stdout",
          "text": [
            "Epoch 1/20\n",
            "1875/1875 [==============================] - 182s 97ms/step - loss: 0.1597 - accuracy: 0.9520\n",
            "Epoch 2/20\n",
            "1875/1875 [==============================] - 176s 94ms/step - loss: 0.0731 - accuracy: 0.9778\n",
            "Epoch 3/20\n",
            "1875/1875 [==============================] - 168s 90ms/step - loss: 0.0603 - accuracy: 0.9813\n",
            "Epoch 4/20\n",
            "1875/1875 [==============================] - 168s 90ms/step - loss: 0.0528 - accuracy: 0.9835\n",
            "Epoch 5/20\n",
            "1875/1875 [==============================] - 169s 90ms/step - loss: 0.0453 - accuracy: 0.9859\n",
            "Epoch 6/20\n",
            "1875/1875 [==============================] - 169s 90ms/step - loss: 0.0426 - accuracy: 0.9865\n",
            "Epoch 7/20\n",
            "1875/1875 [==============================] - 170s 91ms/step - loss: 0.0394 - accuracy: 0.9873\n",
            "Epoch 8/20\n",
            "1875/1875 [==============================] - 174s 93ms/step - loss: 0.0342 - accuracy: 0.9890\n",
            "Epoch 9/20\n",
            "1875/1875 [==============================] - 176s 94ms/step - loss: 0.0305 - accuracy: 0.9905\n",
            "Epoch 10/20\n",
            "1875/1875 [==============================] - 185s 99ms/step - loss: 0.0316 - accuracy: 0.9898\n",
            "Epoch 11/20\n",
            "1875/1875 [==============================] - 190s 101ms/step - loss: 0.0283 - accuracy: 0.9906\n",
            "Epoch 12/20\n",
            "1875/1875 [==============================] - 186s 99ms/step - loss: 0.0300 - accuracy: 0.9905\n",
            "Epoch 13/20\n",
            "1875/1875 [==============================] - 186s 99ms/step - loss: 0.0253 - accuracy: 0.9915\n",
            "Epoch 14/20\n",
            "1875/1875 [==============================] - 185s 99ms/step - loss: 0.0248 - accuracy: 0.9916\n",
            "Epoch 15/20\n",
            "1875/1875 [==============================] - 184s 98ms/step - loss: 0.0236 - accuracy: 0.9922\n",
            "Epoch 16/20\n",
            "1875/1875 [==============================] - 185s 99ms/step - loss: 0.0227 - accuracy: 0.9923\n",
            "Epoch 17/20\n",
            "1875/1875 [==============================] - 189s 101ms/step - loss: 0.0234 - accuracy: 0.9926\n",
            "Epoch 18/20\n",
            "1875/1875 [==============================] - 192s 102ms/step - loss: 0.0202 - accuracy: 0.9935\n",
            "Epoch 19/20\n",
            "1875/1875 [==============================] - 194s 103ms/step - loss: 0.0209 - accuracy: 0.9927\n",
            "Epoch 20/20\n",
            "1875/1875 [==============================] - 182s 97ms/step - loss: 0.0203 - accuracy: 0.9929\n",
            "INFO:tensorflow:Assets written to: ./image_classifier/best_model/assets\n"
          ]
        },
        {
          "output_type": "stream",
          "name": "stderr",
          "text": [
            "INFO:tensorflow:Assets written to: ./image_classifier/best_model/assets\n"
          ]
        },
        {
          "output_type": "execute_result",
          "data": {
            "text/plain": [
              "<tensorflow.python.keras.callbacks.History at 0x7f36f8491e50>"
            ]
          },
          "metadata": {},
          "execution_count": 8
        }
      ]
    },
    {
      "cell_type": "markdown",
      "metadata": {
        "id": "mQvdHCFRA0yI"
      },
      "source": [
        "We can also see that the precision increases in each epoch, so if we increase the number of epochs we would have a more precise model, although it would also take longer to finish. It is also important to take into account that after a high number of epochs, the model will usually stop learning."
      ]
    },
    {
      "cell_type": "markdown",
      "metadata": {
        "id": "r35Pdf5uBBnR"
      },
      "source": [
        "## Evaluating the model"
      ]
    },
    {
      "cell_type": "markdown",
      "metadata": {
        "id": "ZEAqpa65BDlA"
      },
      "source": [
        "After training, it's time to measure the actual prediction of our model using the reserved test dataset. In this way, we can rule out that the good results obtained with the training set were due to overfitting."
      ]
    },
    {
      "cell_type": "code",
      "metadata": {
        "id": "su7dLgp9BVlP",
        "colab": {
          "base_uri": "https://localhost:8080/"
        },
        "outputId": "5ddbd00c-896b-42fd-87a7-01d81ce60ae1"
      },
      "source": [
        "metrics = img_classifier.evaluate(x_test, y_test)\n",
        "print(img_classifier)"
      ],
      "execution_count": null,
      "outputs": [
        {
          "output_type": "stream",
          "name": "stdout",
          "text": [
            "313/313 [==============================] - 9s 27ms/step - loss: 0.0385 - accuracy: 0.9897\n",
            "<autokeras.tasks.image.ImageClassifier object at 0x7f36fe284850>\n"
          ]
        }
      ]
    },
    {
      "cell_type": "markdown",
      "metadata": {
        "id": "opWMcw7EBhJm"
      },
      "source": [
        "We can see here that there is really good prediction accuracy using our test dataset (98.8%), considering that we only spent a couple of minutes in the training phase.\n",
        "\n",
        "Lets see how is predicting this single sample?"
      ]
    },
    {
      "cell_type": "code",
      "metadata": {
        "id": "DH7maexwBufx",
        "colab": {
          "base_uri": "https://localhost:8080/",
          "height": 265
        },
        "outputId": "c1dc10ff-9fab-45e4-e766-7f6976c42914"
      },
      "source": [
        "fig = plt.figure()\n",
        "plt.imshow(x_test[1234])\n",
        "ax.set_title('Test sample')\n",
        "plt.show()"
      ],
      "execution_count": null,
      "outputs": [
        {
          "output_type": "display_data",
          "data": {
            "image/png": "[encoded data removed]",
            "text/plain": [
              "<Figure size 432x288 with 1 Axes>"
            ]
          },
          "metadata": {
            "needs_background": "light"
          }
        }
      ]
    },
    {
      "cell_type": "code",
      "metadata": {
        "id": "oHFU8_iFB3RK",
        "colab": {
          "base_uri": "https://localhost:8080/"
        },
        "outputId": "6a832d90-93d4-49a8-aa02-8cf5cd2806a5"
      },
      "source": [
        "# First we print the true value from the label dataset\n",
        "print(x_test[1234])\n",
        "# Now we print the predicted value using our classifier\n",
        "print(img_classifier.predict(x_test[1234, None]))"
      ],
      "execution_count": null,
      "outputs": [
        {
          "output_type": "stream",
          "name": "stdout",
          "text": [
            "[[  0   0   0   0   0   0   0   0   0   0   0   0   0   0   0   0   0   0\n",
            "    0   0   0   0   0   0   0   0   0   0]\n",
            " [  0   0   0   0   0   0   0   0   0   0   0   0   0   0   0   0   0   0\n",
            "    0   0   0   0   0   0   0   0   0   0]\n",
            " [  0   0   0   0   0   0   0   0   0   0   0   0   0   0   0   0   0   0\n",
            "    0   0   0   0   0   0   0   0   0   0]\n",
            " [  0   0   0   0   0   0   0   0   0   0   0   0   0   0   0   0   0   0\n",
            "    0   0   0   0   0   0   0   0   0   0]\n",
            " [  0   0   0   0   0   0   0   0   0   0   0   0   0   0   0   0 155 184\n",
            "  254 211  97  19   0   0   0   0   0   0]\n",
            " [  0   0   0   0   0   0   0   0   0   0   0   0   0   0 104 212 252 253\n",
            "  253 253 253 169   0   0   0   0   0   0]\n",
            " [  0   0   0   0   0   0   0   0   0   0   0   5 126 209 248 210 253 201\n",
            "  211 253 253 103   0   0   0   0   0   0]\n",
            " [  0   0   0   0   0   0   0   0   0   0  33 178 253 253 152   8  47  21\n",
            "  179 253 244  40   0   0   0   0   0   0]\n",
            " [  0   0   0   0   0   0   0   0   0   7 168 253 253 253  85   0  11 140\n",
            "  241 215  65   9   0   0   0   0   0   0]\n",
            " [  0   0   0   0   0   0   0   0   0  36 253 253 252 218   0  47 214 233\n",
            "   90  91   0   0   0   0   0   0   0   0]\n",
            " [  0   0   0   0   0   0   0   0   0  62 247 245  74   0  36 231 253 152\n",
            "    0   0   0   0   0   0   0   0   0   0]\n",
            " [  0   0   0   0   0   0   0   0   0   0 201 249  96  48 212 248 162  48\n",
            "    0   0   0   0   0   0   0   0   0   0]\n",
            " [  0   0   0   0   0   0   0   0   0   0  65 230 253 253 254 120   0   0\n",
            "    0   0   0   0   0   0   0   0   0   0]\n",
            " [  0   0   0   0   0   0   0   0   0   0  40 213 253 253 254  96   0   0\n",
            "    0   0   0   0   0   0   0   0   0   0]\n",
            " [  0   0   0   0   0   0   0   0  14  79 218 215 148 229 255 254 121  36\n",
            "    0   0   0   0   0   0   0   0   0   0]\n",
            " [  0   0   0   0   0   0   0  39 192 253 253 178   3   6 153 226 253 230\n",
            "  101   0   0   0   0   0   0   0   0   0]\n",
            " [  0   0   0   0   0   0  58 237 253 253 246  52   0   0   0  35 155 225\n",
            "  250 182  13   0   0   0   0   0   0   0]\n",
            " [  0   0   0   0   0   0 197 253 253 245  89   0   0   0   0   0   0 140\n",
            "  253 253 148   0   0   0   0   0   0   0]\n",
            " [  0   0   0   0   0  61 250 253 245  60   0   0   0   0   0   0   0  38\n",
            "  100 238 249  53   0   0   0   0   0   0]\n",
            " [  0   0   0   0   0  61 250 253 209   0   0   0   0   0   0   0   0  20\n",
            "  133 253 188  11   0   0   0   0   0   0]\n",
            " [  0   0   0   0   0   0 227 253 229  20   0   0   0   0   0   8  78 221\n",
            "  253 228  47   0   0   0   0   0   0   0]\n",
            " [  0   0   0   0   0   0  57 230 253  88   4   0   0   7  45 206 253 249\n",
            "  175  32   0   0   0   0   0   0   0   0]\n",
            " [  0   0   0   0   0   0   0  15 225 253 198 184 184 207 254 244 171  55\n",
            "    0   0   0   0   0   0   0   0   0   0]\n",
            " [  0   0   0   0   0   0   0   0  56 165 205 186 226 165 138   3   0   0\n",
            "    0   0   0   0   0   0   0   0   0   0]\n",
            " [  0   0   0   0   0   0   0   0   0   0   0   0   0   0   0   0   0   0\n",
            "    0   0   0   0   0   0   0   0   0   0]\n",
            " [  0   0   0   0   0   0   0   0   0   0   0   0   0   0   0   0   0   0\n",
            "    0   0   0   0   0   0   0   0   0   0]\n",
            " [  0   0   0   0   0   0   0   0   0   0   0   0   0   0   0   0   0   0\n",
            "    0   0   0   0   0   0   0   0   0   0]\n",
            " [  0   0   0   0   0   0   0   0   0   0   0   0   0   0   0   0   0   0\n",
            "    0   0   0   0   0   0   0   0   0   0]]\n",
            "1/1 [==============================] - 0s 19ms/step\n",
            "[['8']]\n"
          ]
        }
      ]
    },
    {
      "cell_type": "markdown",
      "metadata": {
        "id": "gr5HHbrxDbtS"
      },
      "source": [
        "We can see that the output matches the true value, so our classifier has predicted this correctly."
      ]
    },
    {
      "cell_type": "markdown",
      "metadata": {
        "id": "GP_pXymzDfwr"
      },
      "source": [
        "## Visualizing the model"
      ]
    },
    {
      "cell_type": "markdown",
      "metadata": {
        "id": "clZwuQtPDgZ0"
      },
      "source": [
        "We are now exporting our classifier model to Keras so that we can see a little summary, with the architecture of the best generated model found."
      ]
    },
    {
      "cell_type": "code",
      "metadata": {
        "id": "uGiRg-ICDtuZ",
        "colab": {
          "base_uri": "https://localhost:8080/"
        },
        "outputId": "d7f3d64e-7118-47e8-97fd-672c0e5bce00"
      },
      "source": [
        "model = img_classifier.export_model()\n",
        "model.summary()"
      ],
      "execution_count": null,
      "outputs": [
        {
          "output_type": "stream",
          "name": "stdout",
          "text": [
            "Model: \"model\"\n",
            "_________________________________________________________________\n",
            "Layer (type)                 Output Shape              Param #   \n",
            "=================================================================\n",
            "input_1 (InputLayer)         [(None, 28, 28)]          0         \n",
            "_________________________________________________________________\n",
            "cast_to_float32 (CastToFloat (None, 28, 28)            0         \n",
            "_________________________________________________________________\n",
            "expand_last_dim (ExpandLastD (None, 28, 28, 1)         0         \n",
            "_________________________________________________________________\n",
            "normalization (Normalization (None, 28, 28, 1)         3         \n",
            "_________________________________________________________________\n",
            "conv2d (Conv2D)              (None, 26, 26, 32)        320       \n",
            "_________________________________________________________________\n",
            "conv2d_1 (Conv2D)            (None, 24, 24, 64)        18496     \n",
            "_________________________________________________________________\n",
            "max_pooling2d (MaxPooling2D) (None, 12, 12, 64)        0         \n",
            "_________________________________________________________________\n",
            "dropout (Dropout)            (None, 12, 12, 64)        0         \n",
            "_________________________________________________________________\n",
            "flatten (Flatten)            (None, 9216)              0         \n",
            "_________________________________________________________________\n",
            "dropout_1 (Dropout)          (None, 9216)              0         \n",
            "_________________________________________________________________\n",
            "dense (Dense)                (None, 10)                92170     \n",
            "_________________________________________________________________\n",
            "classification_head_1 (Softm (None, 10)                0         \n",
            "=================================================================\n",
            "Total params: 110,989\n",
            "Trainable params: 110,986\n",
            "Non-trainable params: 3\n",
            "_________________________________________________________________\n"
          ]
        }
      ]
    },
    {
      "cell_type": "markdown",
      "metadata": {
        "id": "bYdkKLEUEOcW"
      },
      "source": [
        "If you do not have experience in Keras or Tensorflow this output will be a bit confusing, but don't worry—it's not necessary to understand it to use AutoKeras because the tool does all the work, abstracting us from these details, but it's always good to know how it works.\n",
        "\n",
        "Each layer performs a transformation operation of the input data, passing the transformed data to the next layer.\n",
        "\n",
        "There is a more graphical way to visualize the model."
      ]
    },
    {
      "cell_type": "code",
      "metadata": {
        "id": "tTN7zni9FJGK",
        "colab": {
          "base_uri": "https://localhost:8080/",
          "height": 1000
        },
        "outputId": "2a54ece7-bc25-4ada-c3c6-c942f4cab4a6"
      },
      "source": [
        "plot_model(img_classifier.export_model())"
      ],
      "execution_count": null,
      "outputs": [
        {
          "output_type": "execute_result",
          "data": {
            "image/png": "[encoded data removed]",
            "text/plain": [
              "<IPython.core.display.Image object>"
            ]
          },
          "metadata": {},
          "execution_count": 14
        }
      ]
    },
    {
      "cell_type": "markdown",
      "metadata": {
        "id": "RoEhEZsgGZRy"
      },
      "source": [
        "In the preceding diagram, each block represents a layer and the output of each is connected to the input of the next, except the first block (whose input is the image) and the last block (whose output is the prediction)."
      ]
    },
    {
      "cell_type": "markdown",
      "metadata": {
        "id": "LNkk7K5RGj9A"
      },
      "source": [
        "##Creating an image regressor"
      ]
    },
    {
      "cell_type": "markdown",
      "metadata": {
        "id": "zcX1CHfsGl94"
      },
      "source": [
        "Now, we will use a different approach to figure out the digit values from the image: **a regression model call regressor**.\n",
        "\n",
        "The image regressor will try to predict the scalar value of the digit, instead to classify it in a 0-9 a category.\n",
        "\n",
        "AutoKeras has already a special class ready to use called ImageRegressor, that will find the best regression model.\n",
        "\n",
        "As we did with the classifier, for this little example, we set max_trials (the maximum number of different Keras Models to try) to 1 and the number of epochs to train each model to 20, but for real use it is recommended to set a large number of trials and not to set the epochs parameter to use an adaptive number of epochs automatically."
      ]
    },
    {
      "cell_type": "code",
      "metadata": {
        "id": "1KY2qYdbHaUp",
        "colab": {
          "base_uri": "https://localhost:8080/"
        },
        "outputId": "a91f6a18-d497-4e6f-f640-1aa9c9b24e65"
      },
      "source": [
        "# First, we initialize the image regressor\n",
        "img_regressor = ak.ImageRegressor(overwrite=True, max_trials=1)\n",
        "\n",
        "# Now, feed the image regressor with the training dataset\n",
        "img_regressor.fit(x_train, y_train, epochs=20)\n",
        "\n",
        "# Predict with the best model found.\n",
        "predicted_y = img_regressor.predict(x_test)\n",
        "\n",
        "# Finally, evaluate the best model with testing dataset.\n",
        "img_regressor.evaluate(x_test, y_test)"
      ],
      "execution_count": null,
      "outputs": [
        {
          "output_type": "stream",
          "name": "stdout",
          "text": [
            "\n",
            "Search: Running Trial #1\n",
            "\n",
            "Hyperparameter    |Value             |Best Value So Far \n",
            "image_block_1/n...|False             |?                 \n",
            "image_block_1/a...|False             |?                 \n",
            "image_block_1/b...|resnet            |?                 \n",
            "image_block_1/r...|False             |?                 \n",
            "image_block_1/r...|resnet152         |?                 \n",
            "image_block_1/r...|False             |?                 \n",
            "regression_head...|0                 |?                 \n",
            "optimizer         |adam              |?                 \n",
            "learning_rate     |0.001             |?                 \n",
            "\n",
            "Epoch 1/20\n",
            "1065/1500 [====================>.........] - ETA: 47:11 - loss: 3.2260 - mean_squared_error: 3.2260"
          ]
        }
      ]
    },
    {
      "cell_type": "markdown",
      "metadata": {
        "id": "M-nVVT3UJu6h"
      },
      "source": [
        "After 20 minutes, the best model found has a mean square error (MSE) rate of 0.083, which isn't bad. MSE is a widely used metric for measuring performance in regression models.\n",
        "\n",
        "Let's predict the first 10 digits of the test dataset with the best model found, and print the predicted and true values to compare them."
      ]
    },
    {
      "cell_type": "code",
      "metadata": {
        "id": "9HnJmGZHJ5XC"
      },
      "source": [
        "# Predict with the best model found the first 10 digits.\n",
        "predicted_y = img_regressor.predict(x_test[:10])\n",
        "# Print the first 10 true values\n",
        "print(list(y_test[:10]))\n",
        "# Print the predicted values to compare\n",
        "print([round(float(i)) for i in predicted_y])"
      ],
      "execution_count": null,
      "outputs": []
    },
    {
      "cell_type": "markdown",
      "metadata": {
        "id": "OkFigf0AKud9"
      },
      "source": [
        "Notice that we have rounded up the float values returned by the regressor to compare them to the true values. This is done because regressors always return continuous values that they approximate to the real value, so if we want to predict discrete values (0 to 9 digits), we have to do a rounding to return the predicted value.\n",
        "\n",
        "As you can see it's predinting the true value in everyone of the cases. Let's see it in a more graphical way."
      ]
    },
    {
      "cell_type": "code",
      "metadata": {
        "id": "x8EAGzGYKu5x"
      },
      "source": [
        "fig = plt.figure()\n",
        "for i, v in enumerate(predicted_y):\n",
        "  ax = fig.add_subplot(2, 5, i+1)\n",
        "  ax.set_axis_off()\n",
        "  ax.set_title(round(float(v)))\n",
        "  plt.imshow(x_test[i])\n",
        "plt.show()"
      ],
      "execution_count": null,
      "outputs": []
    },
    {
      "cell_type": "markdown",
      "metadata": {
        "id": "Wkutn_NTLDxg"
      },
      "source": [
        "## Visualizing the model"
      ]
    },
    {
      "cell_type": "code",
      "metadata": {
        "id": "HMrKPFjmLdse"
      },
      "source": [
        "# First we export the model to a keras model\n",
        "model = img_regressor.export_model()\n",
        "\n",
        "# Now, we ask for the model Sumary:\n",
        "model.summary()"
      ],
      "execution_count": null,
      "outputs": []
    },
    {
      "cell_type": "code",
      "metadata": {
        "id": "Vz3xFQyZLlfk"
      },
      "source": [
        "plot_model(reg.export_model())"
      ],
      "execution_count": null,
      "outputs": []
    }
  ]
}