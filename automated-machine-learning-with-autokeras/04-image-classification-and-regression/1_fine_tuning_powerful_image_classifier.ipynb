{
  "nbformat": 4,
  "nbformat_minor": 0,
  "metadata": {
    "colab": {
      "name": "1-fine-tuning-powerful-image-classifier.ipynb",
      "provenance": [],
      "toc_visible": true,
      "authorship_tag": "ABX9TyPw0hXQ+SEkec6HWTvCHBd3",
      "include_colab_link": true
    },
    "kernelspec": {
      "name": "python3",
      "display_name": "Python 3"
    },
    "language_info": {
      "name": "python"
    },
    "accelerator": "GPU"
  },
  "cells": [
    {
      "cell_type": "markdown",
      "metadata": {
        "id": "view-in-github",
        "colab_type": "text"
      },
      "source": [
        "<a href=\"https://colab.research.google.com/github/rahiakela/automl-experiments/blob/main/automated-machine-learning-with-autokeras/04-image-classification-and-regression/1_fine_tuning_powerful_image_classifier.ipynb\" target=\"_parent\"><img src=\"https://colab.research.google.com/assets/colab-badge.svg\" alt=\"Open In Colab\"/></a>"
      ]
    },
    {
      "cell_type": "markdown",
      "metadata": {
        "id": "6JJoEm7vDgta"
      },
      "source": [
        "##Fine-tuning a powerful image classifier"
      ]
    },
    {
      "cell_type": "markdown",
      "metadata": {
        "id": "0JWCBXCEDpou"
      },
      "source": [
        "The model we are going to create will classify images from a dataset called Canadian\n",
        "Institute for Advanced Research, 10 classes (CIFAR-10). It contains 60,000 32x32 red,\n",
        "green, blue (RGB) colored images, classified into 10 different classes. It is a collection of\n",
        "images that is commonly used to train ML and computer vision algorithms.\n",
        "\n",
        "<img src='https://github.com/rahiakela/automl-experiments/blob/main/automated-machine-learning-with-autokeras/04-image-classification-and-regression/images/1.png?raw=1' width='800'/>\n",
        "\n",
        "This a problem considered already solved. It is relatively easy to achieve a classification\n",
        "accuracy close to 80%. For better performance, we must use deep learning CNNs with\n",
        "which a classification precision greater than 90% can be achieved in the test dataset. Let's\n",
        "see how to implement it with AutoKeras.\n",
        "\n",
        "This is a classification task, so we can use the ImageClassifier class. This class\n",
        "generates and tests different models and hyperparameters, returning an optimal classifier\n",
        "to categorize each image with its corresponding class."
      ]
    },
    {
      "cell_type": "markdown",
      "metadata": {
        "id": "_tAZJ3aiEYDN"
      },
      "source": [
        "##Setup"
      ]
    },
    {
      "cell_type": "code",
      "metadata": {
        "id": "eLDcLjeiEZBn"
      },
      "source": [
        "!pip3 -q install autokeras"
      ],
      "execution_count": null,
      "outputs": []
    },
    {
      "cell_type": "code",
      "metadata": {
        "id": "sOTtbJ9yEhlt"
      },
      "source": [
        "import matplotlib.pyplot as plt\n",
        "import autokeras as ak\n",
        "from tensorflow.keras.datasets import cifar10\n",
        "from tensorflow.keras import callbacks as tf_callbacks\n",
        "from tensorflow.keras.utils import plot_model\n",
        "\n",
        "import tensorflow as tf\n",
        "\n",
        "import numpy as np"
      ],
      "execution_count": 10,
      "outputs": []
    },
    {
      "cell_type": "code",
      "metadata": {
        "id": "WkNQIFl_IoXK"
      },
      "source": [
        "physical_devices = tf.config.experimental.list_physical_devices(\"GPU\")\n",
        "tf.config.experimental.set_memory_growth(physical_devices[0], True)"
      ],
      "execution_count": 11,
      "outputs": []
    },
    {
      "cell_type": "markdown",
      "metadata": {
        "id": "VSwP2YIHE2Eh"
      },
      "source": [
        "##Getting the CIFAR-10 dataset"
      ]
    },
    {
      "cell_type": "markdown",
      "metadata": {
        "id": "WHCi1M4QE2zc"
      },
      "source": [
        "We have to first load the CIFAR-10 dataset in\n",
        "memory and have a quick look at the dataset shape."
      ]
    },
    {
      "cell_type": "code",
      "metadata": {
        "colab": {
          "base_uri": "https://localhost:8080/"
        },
        "id": "zXbuIx9lE5V_",
        "outputId": "761ef574-eaba-4bda-dbf7-60b3e3e87e5b"
      },
      "source": [
        "(x_train, y_train), (x_test, y_test) = cifar10.load_data()\n",
        "print(x_train.shape) \n",
        "print(x_test.shape)"
      ],
      "execution_count": 12,
      "outputs": [
        {
          "output_type": "stream",
          "name": "stdout",
          "text": [
            "(50000, 32, 32, 3)\n",
            "(10000, 32, 32, 3)\n"
          ]
        }
      ]
    },
    {
      "cell_type": "markdown",
      "metadata": {
        "id": "78J_e-ncFSff"
      },
      "source": [
        "Although it is a well-known machine learning dataset, it is always important to ensure\n",
        "that the data is distributed evenly, to avoid surprises."
      ]
    },
    {
      "cell_type": "code",
      "metadata": {
        "colab": {
          "base_uri": "https://localhost:8080/",
          "height": 281
        },
        "id": "qhon3K3TFTCq",
        "outputId": "2e7a3b19-e848-4173-ca5b-824f1d4509b6"
      },
      "source": [
        "train_histogram = np.histogram(y_train)\n",
        "test_histogram = np.histogram(y_test)\n",
        "\n",
        "_, axs = plt.subplots(1, 2)\n",
        "axs[0].set_xticks(range(10))\n",
        "axs[0].bar(range(10), train_histogram[0])\n",
        "axs[0].set_title('Train dataset histogram')\n",
        "\n",
        "axs[1].set_xticks(range(10))\n",
        "axs[1].bar(range(10), test_histogram[0])\n",
        "axs[1].set_title('Test dataset histogram')\n",
        "plt.show()"
      ],
      "execution_count": 13,
      "outputs": [
        {
          "output_type": "display_data",
          "data": {
            "image/png": "[encoded data removed]",
            "text/plain": [
              "<Figure size 432x288 with 2 Axes>"
            ]
          },
          "metadata": {
            "needs_background": "light"
          }
        }
      ]
    },
    {
      "cell_type": "markdown",
      "metadata": {
        "id": "3BumEpo2FmPs"
      },
      "source": [
        "##Creating and training the models"
      ]
    },
    {
      "cell_type": "markdown",
      "metadata": {
        "id": "fsJl6NN4Fup-"
      },
      "source": [
        "We will now use the AutoKeras ImageClassifier class to find the best classification\n",
        "model. Just for this little example, we set max_trials (the maximum number of\n",
        "different Keras models to try) to 2, and we do not set the epochs parameter so that it will\n",
        "use an adaptive number of epochs automatically. For real use, it is recommended to set\n",
        "a large number of trials."
      ]
    },
    {
      "cell_type": "code",
      "metadata": {
        "id": "M_zRdt9HFxT-"
      },
      "source": [
        "#Initialize the ImageClassifier\n",
        "clf = ak.ImageClassifier(max_trials=1)\n",
        "# Search for the best model\n",
        "clf.fit(x_train, y_train)"
      ],
      "execution_count": null,
      "outputs": []
    },
    {
      "cell_type": "markdown",
      "metadata": {
        "id": "mVepJSdQGkrO"
      },
      "source": [
        "As it has to process thousands of color images, the models that AutoKeras will generate\n",
        "will be more expensive to train, so this process will take hours, even using graphics\n",
        "processing units (GPUs). We have limited the search to five architectures (max_trials\n",
        "= 5). Increasing this number would give us a more accurate model, although it would\n",
        "also take longer to finish."
      ]
    },
    {
      "cell_type": "markdown",
      "metadata": {
        "id": "BIJ4zP1IGmto"
      },
      "source": [
        "##Improving the model performance"
      ]
    },
    {
      "cell_type": "markdown",
      "metadata": {
        "id": "_QNorO2kGniB"
      },
      "source": [
        ""
      ]
    }
  ]
}